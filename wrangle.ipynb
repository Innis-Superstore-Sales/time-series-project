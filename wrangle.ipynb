{
 "cells": [
  {
   "cell_type": "markdown",
   "id": "af0cac97-2c7d-4f12-b6b9-106962bddef7",
   "metadata": {},
   "source": [
    "# Wrangle (Acquire and Prepare)\n",
    "\n",
    "This notebook contains all steps taken in the data acquisition and preparation phases of the data science pipeline for the Superstore Time Series project. This notebook does rely on helper files so if you want to run the code blocks in this notebook ensure that you have all the helper files in the same directory.\n",
    "\n",
    "---\n",
    "\n",
    "## The Required Imports\n",
    "\n",
    "Everything we need to run the code blocks in this notebook are imported below. To run the code blocks in this report you will need numpy, pandas, matplotlib, seaborn and sklearn installed on your computer."
   ]
  },
  {
   "cell_type": "code",
   "execution_count": 1,
   "id": "0373e1ed-0301-4f35-8be9-0b15f07d6a31",
   "metadata": {},
   "outputs": [],
   "source": [
    "import numpy as np\n",
    "import pandas as pd\n",
    "import matplotlib.pyplot as plt\n",
    "\n",
    "from _acquire import Acquire"
   ]
  },
  {
   "cell_type": "markdown",
   "id": "2bd069bc-ae41-4722-a667-cf268c049f7b",
   "metadata": {},
   "source": [
    "---\n",
    "\n",
    "## Data Acquisition\n",
    "\n",
    "In this section we'll cover all the steps taken to acquire the superstore data.\n",
    "\n",
    "### Reading the Data From the Database\n",
    "\n",
    "The superstore data is located in the MySQL database hosted at data.codeup.com. We'll need to write a SQL query to select the data."
   ]
  },
  {
   "cell_type": "code",
   "execution_count": 2,
   "id": "4b8b79b6-ab74-42fa-ba31-d0d16b69c451",
   "metadata": {},
   "outputs": [],
   "source": [
    "# We'll need the get_db_url function\n",
    "from get_db_url import get_db_url"
   ]
  },
  {
   "cell_type": "code",
   "execution_count": 3,
   "id": "3431e570-4b04-4a6e-a7f8-a9e40f8e1460",
   "metadata": {},
   "outputs": [
    {
     "name": "stdout",
     "output_type": "stream",
     "text": [
      "<class 'pandas.core.frame.DataFrame'>\n",
      "RangeIndex: 1734 entries, 0 to 1733\n",
      "Data columns (total 22 columns):\n",
      " #   Column         Non-Null Count  Dtype  \n",
      "---  ------         --------------  -----  \n",
      " 0   Order ID       1734 non-null   object \n",
      " 1   Order Date     1734 non-null   object \n",
      " 2   Ship Date      1734 non-null   object \n",
      " 3   Ship Mode      1734 non-null   object \n",
      " 4   Customer ID    1734 non-null   object \n",
      " 5   Segment        1734 non-null   object \n",
      " 6   Country        1734 non-null   object \n",
      " 7   City           1734 non-null   object \n",
      " 8   State          1734 non-null   object \n",
      " 9   Postal Code    1734 non-null   float64\n",
      " 10  Product ID     1734 non-null   object \n",
      " 11  Sales          1734 non-null   float64\n",
      " 12  Quantity       1734 non-null   float64\n",
      " 13  Discount       1734 non-null   float64\n",
      " 14  Profit         1734 non-null   float64\n",
      " 15  Category ID    1734 non-null   int64  \n",
      " 16  Region ID      1734 non-null   int64  \n",
      " 17  Category       1734 non-null   object \n",
      " 18  Sub-Category   1734 non-null   object \n",
      " 19  Customer Name  1734 non-null   object \n",
      " 20  Product Name   1734 non-null   object \n",
      " 21  Region Name    1734 non-null   object \n",
      "dtypes: float64(5), int64(2), object(15)\n",
      "memory usage: 298.2+ KB\n"
     ]
    }
   ],
   "source": [
    "# Here we'll use an SQL query to select the superstore data from data.codeup.com\n",
    "\n",
    "sql = '''\n",
    "SELECT\n",
    "    orders.*,\n",
    "    Category,\n",
    "    `Sub-Category`,\n",
    "    `Customer Name`,\n",
    "    `Product Name`,\n",
    "    `Region Name`\n",
    "FROM orders\n",
    "JOIN categories USING (`Category ID`)\n",
    "JOIN customers USING (`Customer ID`)\n",
    "JOIN products USING (`Product ID`)\n",
    "JOIN regions USING (`Region ID`);\n",
    "'''\n",
    "\n",
    "superstore = pd.read_sql(sql, get_db_url('superstore_db'))\n",
    "superstore.info()"
   ]
  },
  {
   "cell_type": "markdown",
   "id": "74d16704-1f0e-454b-a245-01c9e935232c",
   "metadata": {},
   "source": [
    "### Make it Reproducible\n",
    "\n",
    "Now that we know how to get the data we need to make the acquisition code reproducible."
   ]
  },
  {
   "cell_type": "code",
   "execution_count": 4,
   "id": "0f53cf16-5137-4ad1-9687-d9a1779a3bc3",
   "metadata": {},
   "outputs": [],
   "source": [
    "# We can inherit the Acquire class to get all the cacheing code. We'll just need to include the code \n",
    "# for reading from the database.\n",
    "\n",
    "class AcquireSuperstore(Acquire):\n",
    "    def __init__(self):\n",
    "        self.file_name = 'superstore.csv'\n",
    "        self.database_name = 'superstore_db'\n",
    "        self.sql = '''\n",
    "        SELECT\n",
    "            orders.*,\n",
    "            Category,\n",
    "            `Sub-Category`,\n",
    "            `Customer Name`,\n",
    "            `Product Name`,\n",
    "            `Region Name`\n",
    "        FROM orders\n",
    "        JOIN categories USING (`Category ID`)\n",
    "        JOIN customers USING (`Customer ID`)\n",
    "        JOIN products USING (`Product ID`)\n",
    "        JOIN regions USING (`Region ID`);\n",
    "        '''\n",
    "        \n",
    "    def read_from_source(self):\n",
    "        return pd.read_sql(self.sql, get_db_url(self.database_name))"
   ]
  },
  {
   "cell_type": "code",
   "execution_count": 5,
   "id": "db6994da-b232-476e-bc45-4d1acb756ba9",
   "metadata": {},
   "outputs": [
    {
     "name": "stdout",
     "output_type": "stream",
     "text": [
      "Reading from .csv file.\n"
     ]
    },
    {
     "data": {
      "text/plain": [
       "(1734, 22)"
      ]
     },
     "execution_count": 5,
     "metadata": {},
     "output_type": "execute_result"
    }
   ],
   "source": [
    "# Let's test it\n",
    "\n",
    "superstore = AcquireSuperstore().get_data()\n",
    "superstore.shape"
   ]
  },
  {
   "cell_type": "markdown",
   "id": "ad393eb7-a8ee-4a45-8c05-44335490fffe",
   "metadata": {},
   "source": [
    "---\n",
    "\n",
    "## Data Preparation\n",
    "\n",
    "Here we'll prepare the data for exploration and modeling. We can see from the info above that the columns need to be renamed for ease of use. Additionally, we'll need to set the order_date to a datetime type and make it the index. Lastly, we'll drop any unneeded columns.\n",
    "\n",
    "### Cleaning the Columns\n",
    "\n",
    "Here we'll rename the columns, drop unneeded columns, and set order_date to be the index."
   ]
  },
  {
   "cell_type": "code",
   "execution_count": 6,
   "id": "4d32b700-a5e9-4c22-ad24-9bdc220d2391",
   "metadata": {},
   "outputs": [
    {
     "data": {
      "text/plain": [
       "Index(['order_id', 'order_date', 'ship_date', 'ship_mode', 'customer_id',\n",
       "       'segment', 'country', 'city', 'state', 'postal_code', 'product_id',\n",
       "       'sales', 'quantity', 'discount', 'profit', 'category_id', 'region_id',\n",
       "       'category', 'sub_category', 'customer_name', 'product_name',\n",
       "       'region_name'],\n",
       "      dtype='object')"
      ]
     },
     "execution_count": 6,
     "metadata": {},
     "output_type": "execute_result"
    }
   ],
   "source": [
    "# Here we make all column names lowercase and replace spaces, and dashes, with underscores.\n",
    "\n",
    "superstore.columns = [column.lower().replace(' ', '_').replace('-','_') for column in superstore]\n",
    "superstore.columns"
   ]
  },
  {
   "cell_type": "code",
   "execution_count": 7,
   "id": "e7bb064a",
   "metadata": {},
   "outputs": [
    {
     "name": "stdout",
     "output_type": "stream",
     "text": [
      "<class 'pandas.core.frame.DataFrame'>\n",
      "RangeIndex: 1734 entries, 0 to 1733\n",
      "Data columns (total 22 columns):\n",
      " #   Column         Non-Null Count  Dtype         \n",
      "---  ------         --------------  -----         \n",
      " 0   order_id       1734 non-null   object        \n",
      " 1   order_date     1734 non-null   datetime64[ns]\n",
      " 2   ship_date      1734 non-null   object        \n",
      " 3   ship_mode      1734 non-null   object        \n",
      " 4   customer_id    1734 non-null   object        \n",
      " 5   segment        1734 non-null   object        \n",
      " 6   country        1734 non-null   object        \n",
      " 7   city           1734 non-null   object        \n",
      " 8   state          1734 non-null   object        \n",
      " 9   postal_code    1734 non-null   float64       \n",
      " 10  product_id     1734 non-null   object        \n",
      " 11  sales          1734 non-null   float64       \n",
      " 12  quantity       1734 non-null   float64       \n",
      " 13  discount       1734 non-null   float64       \n",
      " 14  profit         1734 non-null   float64       \n",
      " 15  category_id    1734 non-null   int64         \n",
      " 16  region_id      1734 non-null   int64         \n",
      " 17  category       1734 non-null   object        \n",
      " 18  sub_category   1734 non-null   object        \n",
      " 19  customer_name  1734 non-null   object        \n",
      " 20  product_name   1734 non-null   object        \n",
      " 21  region_name    1734 non-null   object        \n",
      "dtypes: datetime64[ns](1), float64(5), int64(2), object(14)\n",
      "memory usage: 298.2+ KB\n"
     ]
    }
   ],
   "source": [
    "# Here we'll cast the order_date column to a datetime type.\n",
    "\n",
    "superstore.order_date = pd.to_datetime(superstore.order_date)\n",
    "superstore.info()"
   ]
  },
  {
   "cell_type": "code",
   "execution_count": 8,
   "id": "1486f9cd",
   "metadata": {},
   "outputs": [
    {
     "data": {
      "text/html": [
       "<div>\n",
       "<style scoped>\n",
       "    .dataframe tbody tr th:only-of-type {\n",
       "        vertical-align: middle;\n",
       "    }\n",
       "\n",
       "    .dataframe tbody tr th {\n",
       "        vertical-align: top;\n",
       "    }\n",
       "\n",
       "    .dataframe thead th {\n",
       "        text-align: right;\n",
       "    }\n",
       "</style>\n",
       "<table border=\"1\" class=\"dataframe\">\n",
       "  <thead>\n",
       "    <tr style=\"text-align: right;\">\n",
       "      <th></th>\n",
       "      <th>order_id</th>\n",
       "      <th>ship_date</th>\n",
       "      <th>ship_mode</th>\n",
       "      <th>customer_id</th>\n",
       "      <th>segment</th>\n",
       "      <th>country</th>\n",
       "      <th>city</th>\n",
       "      <th>state</th>\n",
       "      <th>postal_code</th>\n",
       "      <th>product_id</th>\n",
       "      <th>...</th>\n",
       "      <th>quantity</th>\n",
       "      <th>discount</th>\n",
       "      <th>profit</th>\n",
       "      <th>category_id</th>\n",
       "      <th>region_id</th>\n",
       "      <th>category</th>\n",
       "      <th>sub_category</th>\n",
       "      <th>customer_name</th>\n",
       "      <th>product_name</th>\n",
       "      <th>region_name</th>\n",
       "    </tr>\n",
       "    <tr>\n",
       "      <th>order_date</th>\n",
       "      <th></th>\n",
       "      <th></th>\n",
       "      <th></th>\n",
       "      <th></th>\n",
       "      <th></th>\n",
       "      <th></th>\n",
       "      <th></th>\n",
       "      <th></th>\n",
       "      <th></th>\n",
       "      <th></th>\n",
       "      <th></th>\n",
       "      <th></th>\n",
       "      <th></th>\n",
       "      <th></th>\n",
       "      <th></th>\n",
       "      <th></th>\n",
       "      <th></th>\n",
       "      <th></th>\n",
       "      <th></th>\n",
       "      <th></th>\n",
       "      <th></th>\n",
       "    </tr>\n",
       "  </thead>\n",
       "  <tbody>\n",
       "    <tr>\n",
       "      <th>2014-01-04</th>\n",
       "      <td>CA-2014-112326</td>\n",
       "      <td>2014-01-08</td>\n",
       "      <td>Standard Class</td>\n",
       "      <td>PO-19195</td>\n",
       "      <td>Home Office</td>\n",
       "      <td>United States</td>\n",
       "      <td>Naperville</td>\n",
       "      <td>Illinois</td>\n",
       "      <td>60540.0</td>\n",
       "      <td>OFF-LA-10003223</td>\n",
       "      <td>...</td>\n",
       "      <td>3.0</td>\n",
       "      <td>0.2</td>\n",
       "      <td>4.2717</td>\n",
       "      <td>3</td>\n",
       "      <td>3</td>\n",
       "      <td>Office Supplies</td>\n",
       "      <td>Labels</td>\n",
       "      <td>Phillina Ober</td>\n",
       "      <td>Avery 508</td>\n",
       "      <td>Central</td>\n",
       "    </tr>\n",
       "    <tr>\n",
       "      <th>2014-01-04</th>\n",
       "      <td>CA-2014-112326</td>\n",
       "      <td>2014-01-08</td>\n",
       "      <td>Standard Class</td>\n",
       "      <td>PO-19195</td>\n",
       "      <td>Home Office</td>\n",
       "      <td>United States</td>\n",
       "      <td>Naperville</td>\n",
       "      <td>Illinois</td>\n",
       "      <td>60540.0</td>\n",
       "      <td>OFF-ST-10002743</td>\n",
       "      <td>...</td>\n",
       "      <td>3.0</td>\n",
       "      <td>0.2</td>\n",
       "      <td>-64.7748</td>\n",
       "      <td>5</td>\n",
       "      <td>3</td>\n",
       "      <td>Office Supplies</td>\n",
       "      <td>Storage</td>\n",
       "      <td>Phillina Ober</td>\n",
       "      <td>SAFCO Boltless Steel Shelving</td>\n",
       "      <td>Central</td>\n",
       "    </tr>\n",
       "    <tr>\n",
       "      <th>2014-01-04</th>\n",
       "      <td>CA-2014-112326</td>\n",
       "      <td>2014-01-08</td>\n",
       "      <td>Standard Class</td>\n",
       "      <td>PO-19195</td>\n",
       "      <td>Home Office</td>\n",
       "      <td>United States</td>\n",
       "      <td>Naperville</td>\n",
       "      <td>Illinois</td>\n",
       "      <td>60540.0</td>\n",
       "      <td>OFF-BI-10004094</td>\n",
       "      <td>...</td>\n",
       "      <td>2.0</td>\n",
       "      <td>0.8</td>\n",
       "      <td>-5.4870</td>\n",
       "      <td>9</td>\n",
       "      <td>3</td>\n",
       "      <td>Office Supplies</td>\n",
       "      <td>Binders</td>\n",
       "      <td>Phillina Ober</td>\n",
       "      <td>GBC Standard Plastic Binding Systems Combs</td>\n",
       "      <td>Central</td>\n",
       "    </tr>\n",
       "    <tr>\n",
       "      <th>2014-01-09</th>\n",
       "      <td>CA-2014-135405</td>\n",
       "      <td>2014-01-13</td>\n",
       "      <td>Standard Class</td>\n",
       "      <td>MS-17830</td>\n",
       "      <td>Consumer</td>\n",
       "      <td>United States</td>\n",
       "      <td>Laredo</td>\n",
       "      <td>Texas</td>\n",
       "      <td>78041.0</td>\n",
       "      <td>TEC-AC-10001266</td>\n",
       "      <td>...</td>\n",
       "      <td>3.0</td>\n",
       "      <td>0.2</td>\n",
       "      <td>9.7500</td>\n",
       "      <td>12</td>\n",
       "      <td>3</td>\n",
       "      <td>Technology</td>\n",
       "      <td>Accessories</td>\n",
       "      <td>Melanie Seite</td>\n",
       "      <td>Memorex Micro Travel Drive 8 GB</td>\n",
       "      <td>Central</td>\n",
       "    </tr>\n",
       "    <tr>\n",
       "      <th>2014-01-09</th>\n",
       "      <td>CA-2014-135405</td>\n",
       "      <td>2014-01-13</td>\n",
       "      <td>Standard Class</td>\n",
       "      <td>MS-17830</td>\n",
       "      <td>Consumer</td>\n",
       "      <td>United States</td>\n",
       "      <td>Laredo</td>\n",
       "      <td>Texas</td>\n",
       "      <td>78041.0</td>\n",
       "      <td>OFF-AR-10004078</td>\n",
       "      <td>...</td>\n",
       "      <td>2.0</td>\n",
       "      <td>0.2</td>\n",
       "      <td>1.1680</td>\n",
       "      <td>7</td>\n",
       "      <td>3</td>\n",
       "      <td>Office Supplies</td>\n",
       "      <td>Art</td>\n",
       "      <td>Melanie Seite</td>\n",
       "      <td>Newell 312</td>\n",
       "      <td>Central</td>\n",
       "    </tr>\n",
       "  </tbody>\n",
       "</table>\n",
       "<p>5 rows × 21 columns</p>\n",
       "</div>"
      ],
      "text/plain": [
       "                  order_id   ship_date       ship_mode customer_id  \\\n",
       "order_date                                                           \n",
       "2014-01-04  CA-2014-112326  2014-01-08  Standard Class    PO-19195   \n",
       "2014-01-04  CA-2014-112326  2014-01-08  Standard Class    PO-19195   \n",
       "2014-01-04  CA-2014-112326  2014-01-08  Standard Class    PO-19195   \n",
       "2014-01-09  CA-2014-135405  2014-01-13  Standard Class    MS-17830   \n",
       "2014-01-09  CA-2014-135405  2014-01-13  Standard Class    MS-17830   \n",
       "\n",
       "                segment        country        city     state  postal_code  \\\n",
       "order_date                                                                  \n",
       "2014-01-04  Home Office  United States  Naperville  Illinois      60540.0   \n",
       "2014-01-04  Home Office  United States  Naperville  Illinois      60540.0   \n",
       "2014-01-04  Home Office  United States  Naperville  Illinois      60540.0   \n",
       "2014-01-09     Consumer  United States      Laredo     Texas      78041.0   \n",
       "2014-01-09     Consumer  United States      Laredo     Texas      78041.0   \n",
       "\n",
       "                 product_id  ...  quantity  discount   profit  category_id  \\\n",
       "order_date                   ...                                             \n",
       "2014-01-04  OFF-LA-10003223  ...       3.0       0.2   4.2717            3   \n",
       "2014-01-04  OFF-ST-10002743  ...       3.0       0.2 -64.7748            5   \n",
       "2014-01-04  OFF-BI-10004094  ...       2.0       0.8  -5.4870            9   \n",
       "2014-01-09  TEC-AC-10001266  ...       3.0       0.2   9.7500           12   \n",
       "2014-01-09  OFF-AR-10004078  ...       2.0       0.2   1.1680            7   \n",
       "\n",
       "            region_id         category sub_category  customer_name  \\\n",
       "order_date                                                           \n",
       "2014-01-04          3  Office Supplies       Labels  Phillina Ober   \n",
       "2014-01-04          3  Office Supplies      Storage  Phillina Ober   \n",
       "2014-01-04          3  Office Supplies      Binders  Phillina Ober   \n",
       "2014-01-09          3       Technology  Accessories  Melanie Seite   \n",
       "2014-01-09          3  Office Supplies          Art  Melanie Seite   \n",
       "\n",
       "                                          product_name region_name  \n",
       "order_date                                                          \n",
       "2014-01-04                                   Avery 508     Central  \n",
       "2014-01-04               SAFCO Boltless Steel Shelving     Central  \n",
       "2014-01-04  GBC Standard Plastic Binding Systems Combs     Central  \n",
       "2014-01-09             Memorex Micro Travel Drive 8 GB     Central  \n",
       "2014-01-09                                  Newell 312     Central  \n",
       "\n",
       "[5 rows x 21 columns]"
      ]
     },
     "execution_count": 8,
     "metadata": {},
     "output_type": "execute_result"
    }
   ],
   "source": [
    "# Here we'll set order_date as the index.\n",
    "\n",
    "superstore = superstore.set_index('order_date').sort_index()\n",
    "superstore.head()"
   ]
  },
  {
   "cell_type": "code",
   "execution_count": 9,
   "id": "cbfecfd6",
   "metadata": {},
   "outputs": [
    {
     "data": {
      "text/html": [
       "<div>\n",
       "<style scoped>\n",
       "    .dataframe tbody tr th:only-of-type {\n",
       "        vertical-align: middle;\n",
       "    }\n",
       "\n",
       "    .dataframe tbody tr th {\n",
       "        vertical-align: top;\n",
       "    }\n",
       "\n",
       "    .dataframe thead th {\n",
       "        text-align: right;\n",
       "    }\n",
       "</style>\n",
       "<table border=\"1\" class=\"dataframe\">\n",
       "  <thead>\n",
       "    <tr style=\"text-align: right;\">\n",
       "      <th></th>\n",
       "      <th>ship_date</th>\n",
       "      <th>ship_mode</th>\n",
       "      <th>segment</th>\n",
       "      <th>country</th>\n",
       "      <th>city</th>\n",
       "      <th>state</th>\n",
       "      <th>sales</th>\n",
       "      <th>quantity</th>\n",
       "      <th>discount</th>\n",
       "      <th>profit</th>\n",
       "      <th>category</th>\n",
       "      <th>sub_category</th>\n",
       "      <th>customer_name</th>\n",
       "      <th>product_name</th>\n",
       "      <th>region_name</th>\n",
       "    </tr>\n",
       "    <tr>\n",
       "      <th>order_date</th>\n",
       "      <th></th>\n",
       "      <th></th>\n",
       "      <th></th>\n",
       "      <th></th>\n",
       "      <th></th>\n",
       "      <th></th>\n",
       "      <th></th>\n",
       "      <th></th>\n",
       "      <th></th>\n",
       "      <th></th>\n",
       "      <th></th>\n",
       "      <th></th>\n",
       "      <th></th>\n",
       "      <th></th>\n",
       "      <th></th>\n",
       "    </tr>\n",
       "  </thead>\n",
       "  <tbody>\n",
       "    <tr>\n",
       "      <th>2014-01-04</th>\n",
       "      <td>2014-01-08</td>\n",
       "      <td>Standard Class</td>\n",
       "      <td>Home Office</td>\n",
       "      <td>United States</td>\n",
       "      <td>Naperville</td>\n",
       "      <td>Illinois</td>\n",
       "      <td>11.784</td>\n",
       "      <td>3.0</td>\n",
       "      <td>0.2</td>\n",
       "      <td>4.2717</td>\n",
       "      <td>Office Supplies</td>\n",
       "      <td>Labels</td>\n",
       "      <td>Phillina Ober</td>\n",
       "      <td>Avery 508</td>\n",
       "      <td>Central</td>\n",
       "    </tr>\n",
       "    <tr>\n",
       "      <th>2014-01-04</th>\n",
       "      <td>2014-01-08</td>\n",
       "      <td>Standard Class</td>\n",
       "      <td>Home Office</td>\n",
       "      <td>United States</td>\n",
       "      <td>Naperville</td>\n",
       "      <td>Illinois</td>\n",
       "      <td>272.736</td>\n",
       "      <td>3.0</td>\n",
       "      <td>0.2</td>\n",
       "      <td>-64.7748</td>\n",
       "      <td>Office Supplies</td>\n",
       "      <td>Storage</td>\n",
       "      <td>Phillina Ober</td>\n",
       "      <td>SAFCO Boltless Steel Shelving</td>\n",
       "      <td>Central</td>\n",
       "    </tr>\n",
       "    <tr>\n",
       "      <th>2014-01-04</th>\n",
       "      <td>2014-01-08</td>\n",
       "      <td>Standard Class</td>\n",
       "      <td>Home Office</td>\n",
       "      <td>United States</td>\n",
       "      <td>Naperville</td>\n",
       "      <td>Illinois</td>\n",
       "      <td>3.540</td>\n",
       "      <td>2.0</td>\n",
       "      <td>0.8</td>\n",
       "      <td>-5.4870</td>\n",
       "      <td>Office Supplies</td>\n",
       "      <td>Binders</td>\n",
       "      <td>Phillina Ober</td>\n",
       "      <td>GBC Standard Plastic Binding Systems Combs</td>\n",
       "      <td>Central</td>\n",
       "    </tr>\n",
       "    <tr>\n",
       "      <th>2014-01-09</th>\n",
       "      <td>2014-01-13</td>\n",
       "      <td>Standard Class</td>\n",
       "      <td>Consumer</td>\n",
       "      <td>United States</td>\n",
       "      <td>Laredo</td>\n",
       "      <td>Texas</td>\n",
       "      <td>31.200</td>\n",
       "      <td>3.0</td>\n",
       "      <td>0.2</td>\n",
       "      <td>9.7500</td>\n",
       "      <td>Technology</td>\n",
       "      <td>Accessories</td>\n",
       "      <td>Melanie Seite</td>\n",
       "      <td>Memorex Micro Travel Drive 8 GB</td>\n",
       "      <td>Central</td>\n",
       "    </tr>\n",
       "    <tr>\n",
       "      <th>2014-01-09</th>\n",
       "      <td>2014-01-13</td>\n",
       "      <td>Standard Class</td>\n",
       "      <td>Consumer</td>\n",
       "      <td>United States</td>\n",
       "      <td>Laredo</td>\n",
       "      <td>Texas</td>\n",
       "      <td>9.344</td>\n",
       "      <td>2.0</td>\n",
       "      <td>0.2</td>\n",
       "      <td>1.1680</td>\n",
       "      <td>Office Supplies</td>\n",
       "      <td>Art</td>\n",
       "      <td>Melanie Seite</td>\n",
       "      <td>Newell 312</td>\n",
       "      <td>Central</td>\n",
       "    </tr>\n",
       "  </tbody>\n",
       "</table>\n",
       "</div>"
      ],
      "text/plain": [
       "             ship_date       ship_mode      segment        country  \\\n",
       "order_date                                                           \n",
       "2014-01-04  2014-01-08  Standard Class  Home Office  United States   \n",
       "2014-01-04  2014-01-08  Standard Class  Home Office  United States   \n",
       "2014-01-04  2014-01-08  Standard Class  Home Office  United States   \n",
       "2014-01-09  2014-01-13  Standard Class     Consumer  United States   \n",
       "2014-01-09  2014-01-13  Standard Class     Consumer  United States   \n",
       "\n",
       "                  city     state    sales  quantity  discount   profit  \\\n",
       "order_date                                                               \n",
       "2014-01-04  Naperville  Illinois   11.784       3.0       0.2   4.2717   \n",
       "2014-01-04  Naperville  Illinois  272.736       3.0       0.2 -64.7748   \n",
       "2014-01-04  Naperville  Illinois    3.540       2.0       0.8  -5.4870   \n",
       "2014-01-09      Laredo     Texas   31.200       3.0       0.2   9.7500   \n",
       "2014-01-09      Laredo     Texas    9.344       2.0       0.2   1.1680   \n",
       "\n",
       "                   category sub_category  customer_name  \\\n",
       "order_date                                                \n",
       "2014-01-04  Office Supplies       Labels  Phillina Ober   \n",
       "2014-01-04  Office Supplies      Storage  Phillina Ober   \n",
       "2014-01-04  Office Supplies      Binders  Phillina Ober   \n",
       "2014-01-09       Technology  Accessories  Melanie Seite   \n",
       "2014-01-09  Office Supplies          Art  Melanie Seite   \n",
       "\n",
       "                                          product_name region_name  \n",
       "order_date                                                          \n",
       "2014-01-04                                   Avery 508     Central  \n",
       "2014-01-04               SAFCO Boltless Steel Shelving     Central  \n",
       "2014-01-04  GBC Standard Plastic Binding Systems Combs     Central  \n",
       "2014-01-09             Memorex Micro Travel Drive 8 GB     Central  \n",
       "2014-01-09                                  Newell 312     Central  "
      ]
     },
     "execution_count": 9,
     "metadata": {},
     "output_type": "execute_result"
    }
   ],
   "source": [
    "# Here we'll drop all the id columns since these will be useless.\n",
    "# We'll also drop the postal_code column since it won't be helpful. We can use region to separate the data by\n",
    "# regions.\n",
    "\n",
    "superstore.drop(columns=['product_id', 'customer_id', 'region_id', 'category_id', 'order_id', 'postal_code'], inplace=True)\n",
    "superstore.head()"
   ]
  },
  {
   "cell_type": "code",
   "execution_count": 10,
   "id": "8bf5f99e",
   "metadata": {},
   "outputs": [],
   "source": [
    "# Here we'll drop the ship_date column since it is somewhat redundant.\n",
    "# There are no null values so we know that each order is shipped. We don't \n",
    "# need both dates.\n",
    "\n",
    "superstore.drop(columns=['ship_date'], inplace=True)"
   ]
  },
  {
   "cell_type": "code",
   "execution_count": 11,
   "id": "b5cdf76f",
   "metadata": {},
   "outputs": [
    {
     "data": {
      "text/html": [
       "<div>\n",
       "<style scoped>\n",
       "    .dataframe tbody tr th:only-of-type {\n",
       "        vertical-align: middle;\n",
       "    }\n",
       "\n",
       "    .dataframe tbody tr th {\n",
       "        vertical-align: top;\n",
       "    }\n",
       "\n",
       "    .dataframe thead th {\n",
       "        text-align: right;\n",
       "    }\n",
       "</style>\n",
       "<table border=\"1\" class=\"dataframe\">\n",
       "  <thead>\n",
       "    <tr style=\"text-align: right;\">\n",
       "      <th></th>\n",
       "      <th>count</th>\n",
       "      <th>mean</th>\n",
       "      <th>std</th>\n",
       "      <th>min</th>\n",
       "      <th>25%</th>\n",
       "      <th>50%</th>\n",
       "      <th>75%</th>\n",
       "      <th>max</th>\n",
       "    </tr>\n",
       "  </thead>\n",
       "  <tbody>\n",
       "    <tr>\n",
       "      <th>sales</th>\n",
       "      <td>1734.0</td>\n",
       "      <td>229.206358</td>\n",
       "      <td>532.862614</td>\n",
       "      <td>1.0800</td>\n",
       "      <td>16.6950</td>\n",
       "      <td>52.24500</td>\n",
       "      <td>209.91750</td>\n",
       "      <td>8159.952</td>\n",
       "    </tr>\n",
       "    <tr>\n",
       "      <th>quantity</th>\n",
       "      <td>1734.0</td>\n",
       "      <td>3.794694</td>\n",
       "      <td>2.297407</td>\n",
       "      <td>1.0000</td>\n",
       "      <td>2.0000</td>\n",
       "      <td>3.00000</td>\n",
       "      <td>5.00000</td>\n",
       "      <td>14.000</td>\n",
       "    </tr>\n",
       "    <tr>\n",
       "      <th>discount</th>\n",
       "      <td>1734.0</td>\n",
       "      <td>0.160110</td>\n",
       "      <td>0.206419</td>\n",
       "      <td>0.0000</td>\n",
       "      <td>0.0000</td>\n",
       "      <td>0.20000</td>\n",
       "      <td>0.20000</td>\n",
       "      <td>0.800</td>\n",
       "    </tr>\n",
       "    <tr>\n",
       "      <th>profit</th>\n",
       "      <td>1734.0</td>\n",
       "      <td>21.880351</td>\n",
       "      <td>202.891949</td>\n",
       "      <td>-3839.9904</td>\n",
       "      <td>1.7024</td>\n",
       "      <td>8.07305</td>\n",
       "      <td>27.41445</td>\n",
       "      <td>3177.475</td>\n",
       "    </tr>\n",
       "  </tbody>\n",
       "</table>\n",
       "</div>"
      ],
      "text/plain": [
       "           count        mean         std        min      25%       50%  \\\n",
       "sales     1734.0  229.206358  532.862614     1.0800  16.6950  52.24500   \n",
       "quantity  1734.0    3.794694    2.297407     1.0000   2.0000   3.00000   \n",
       "discount  1734.0    0.160110    0.206419     0.0000   0.0000   0.20000   \n",
       "profit    1734.0   21.880351  202.891949 -3839.9904   1.7024   8.07305   \n",
       "\n",
       "                75%       max  \n",
       "sales     209.91750  8159.952  \n",
       "quantity    5.00000    14.000  \n",
       "discount    0.20000     0.800  \n",
       "profit     27.41445  3177.475  "
      ]
     },
     "execution_count": 11,
     "metadata": {},
     "output_type": "execute_result"
    }
   ],
   "source": [
    "superstore.describe().T"
   ]
  },
  {
   "cell_type": "markdown",
   "id": "21f154b3-6621-4d77-bc15-b841d45ae5c1",
   "metadata": {},
   "source": [
    "### Resampling\n",
    "\n",
    "Now we will resample the data. We want to make sure there are no gaps in the data. There is a four year span represented in the data so we would expect roughly 4 * 365 = 1460 days to be represented if there aren't any gaps."
   ]
  },
  {
   "cell_type": "code",
   "execution_count": 12,
   "id": "75cddcce-75ae-4ef6-b859-6a0ddbfea229",
   "metadata": {},
   "outputs": [
    {
     "data": {
      "text/plain": [
       "DatetimeIndex(['2014-01-04', '2014-01-09', '2014-01-10', '2014-01-11',\n",
       "               '2014-01-13', '2014-01-16', '2014-01-20', '2014-02-01',\n",
       "               '2014-02-02', '2014-02-03',\n",
       "               ...\n",
       "               '2017-12-18', '2017-12-19', '2017-12-21', '2017-12-22',\n",
       "               '2017-12-23', '2017-12-24', '2017-12-25', '2017-12-26',\n",
       "               '2017-12-28', '2017-12-30'],\n",
       "              dtype='datetime64[ns]', name='order_date', length=570, freq=None)"
      ]
     },
     "execution_count": 12,
     "metadata": {},
     "output_type": "execute_result"
    }
   ],
   "source": [
    "# Let's see the unique dates we have.\n",
    "\n",
    "superstore.index.unique()"
   ]
  },
  {
   "cell_type": "markdown",
   "id": "3e966cd0-4179-498c-bc71-d8949e098974",
   "metadata": {},
   "source": [
    "We can see here that not every date is present in the data. We only have 570 days represented so there are many gaps in the data. There are too many days missing to upsample so we will need to downsample."
   ]
  },
  {
   "cell_type": "code",
   "execution_count": 13,
   "id": "0a0b7704",
   "metadata": {},
   "outputs": [
    {
     "data": {
      "text/html": [
       "<div>\n",
       "<style scoped>\n",
       "    .dataframe tbody tr th:only-of-type {\n",
       "        vertical-align: middle;\n",
       "    }\n",
       "\n",
       "    .dataframe tbody tr th {\n",
       "        vertical-align: top;\n",
       "    }\n",
       "\n",
       "    .dataframe thead th {\n",
       "        text-align: right;\n",
       "    }\n",
       "</style>\n",
       "<table border=\"1\" class=\"dataframe\">\n",
       "  <thead>\n",
       "    <tr style=\"text-align: right;\">\n",
       "      <th></th>\n",
       "      <th>sales</th>\n",
       "      <th>quantity</th>\n",
       "      <th>discount</th>\n",
       "      <th>profit</th>\n",
       "    </tr>\n",
       "    <tr>\n",
       "      <th>order_date</th>\n",
       "      <th></th>\n",
       "      <th></th>\n",
       "      <th></th>\n",
       "      <th></th>\n",
       "    </tr>\n",
       "  </thead>\n",
       "  <tbody>\n",
       "    <tr>\n",
       "      <th>2014-01-05</th>\n",
       "      <td>288.0600</td>\n",
       "      <td>8.0</td>\n",
       "      <td>1.20</td>\n",
       "      <td>-65.9901</td>\n",
       "    </tr>\n",
       "    <tr>\n",
       "      <th>2014-01-12</th>\n",
       "      <td>105.3140</td>\n",
       "      <td>9.0</td>\n",
       "      <td>0.40</td>\n",
       "      <td>36.6531</td>\n",
       "    </tr>\n",
       "    <tr>\n",
       "      <th>2014-01-19</th>\n",
       "      <td>1587.2240</td>\n",
       "      <td>34.0</td>\n",
       "      <td>1.50</td>\n",
       "      <td>320.6337</td>\n",
       "    </tr>\n",
       "    <tr>\n",
       "      <th>2014-01-26</th>\n",
       "      <td>1859.4000</td>\n",
       "      <td>27.0</td>\n",
       "      <td>0.00</td>\n",
       "      <td>437.2475</td>\n",
       "    </tr>\n",
       "    <tr>\n",
       "      <th>2014-02-02</th>\n",
       "      <td>481.2500</td>\n",
       "      <td>11.0</td>\n",
       "      <td>0.00</td>\n",
       "      <td>212.1205</td>\n",
       "    </tr>\n",
       "    <tr>\n",
       "      <th>...</th>\n",
       "      <td>...</td>\n",
       "      <td>...</td>\n",
       "      <td>...</td>\n",
       "      <td>...</td>\n",
       "    </tr>\n",
       "    <tr>\n",
       "      <th>2017-12-03</th>\n",
       "      <td>7117.5210</td>\n",
       "      <td>113.0</td>\n",
       "      <td>3.20</td>\n",
       "      <td>85.8446</td>\n",
       "    </tr>\n",
       "    <tr>\n",
       "      <th>2017-12-10</th>\n",
       "      <td>8637.4830</td>\n",
       "      <td>124.0</td>\n",
       "      <td>4.15</td>\n",
       "      <td>1124.6990</td>\n",
       "    </tr>\n",
       "    <tr>\n",
       "      <th>2017-12-17</th>\n",
       "      <td>233.5880</td>\n",
       "      <td>19.0</td>\n",
       "      <td>1.70</td>\n",
       "      <td>-151.0779</td>\n",
       "    </tr>\n",
       "    <tr>\n",
       "      <th>2017-12-24</th>\n",
       "      <td>5130.9050</td>\n",
       "      <td>62.0</td>\n",
       "      <td>0.85</td>\n",
       "      <td>1275.4479</td>\n",
       "    </tr>\n",
       "    <tr>\n",
       "      <th>2017-12-31</th>\n",
       "      <td>1955.8448</td>\n",
       "      <td>58.0</td>\n",
       "      <td>1.72</td>\n",
       "      <td>396.4836</td>\n",
       "    </tr>\n",
       "  </tbody>\n",
       "</table>\n",
       "<p>209 rows × 4 columns</p>\n",
       "</div>"
      ],
      "text/plain": [
       "                sales  quantity  discount     profit\n",
       "order_date                                          \n",
       "2014-01-05   288.0600       8.0      1.20   -65.9901\n",
       "2014-01-12   105.3140       9.0      0.40    36.6531\n",
       "2014-01-19  1587.2240      34.0      1.50   320.6337\n",
       "2014-01-26  1859.4000      27.0      0.00   437.2475\n",
       "2014-02-02   481.2500      11.0      0.00   212.1205\n",
       "...               ...       ...       ...        ...\n",
       "2017-12-03  7117.5210     113.0      3.20    85.8446\n",
       "2017-12-10  8637.4830     124.0      4.15  1124.6990\n",
       "2017-12-17   233.5880      19.0      1.70  -151.0779\n",
       "2017-12-24  5130.9050      62.0      0.85  1275.4479\n",
       "2017-12-31  1955.8448      58.0      1.72   396.4836\n",
       "\n",
       "[209 rows x 4 columns]"
      ]
     },
     "execution_count": 13,
     "metadata": {},
     "output_type": "execute_result"
    }
   ],
   "source": [
    "# We will downsample to weeks.\n",
    "\n",
    "by_week = superstore.resample('W').sum()\n",
    "by_week"
   ]
  },
  {
   "cell_type": "markdown",
   "id": "2ed31221-673d-4e8b-8b9c-6883e52b02fe",
   "metadata": {},
   "source": [
    "For four years there should be roughly 208 weeks represented. We have 209 weeks here so we can safely assume that all weeks are represented in the data."
   ]
  },
  {
   "cell_type": "code",
   "execution_count": 15,
   "id": "d6195267",
   "metadata": {},
   "outputs": [
    {
     "data": {
      "text/plain": [
       "sales       0\n",
       "quantity    0\n",
       "discount    0\n",
       "profit      0\n",
       "dtype: int64"
      ]
     },
     "execution_count": 15,
     "metadata": {},
     "output_type": "execute_result"
    }
   ],
   "source": [
    "# We'll just make sure there aren't any null values.\n",
    "\n",
    "by_week.asfreq(\"W\").isnull().sum()"
   ]
  },
  {
   "cell_type": "markdown",
   "id": "ab8021c0-6cad-4bf5-bf37-1e198988d6de",
   "metadata": {},
   "source": [
    "### Separating the Data by Region\n",
    "\n",
    "Now we will want to see if there are differences in sales number between each region represented. We'll need to separate by region name."
   ]
  },
  {
   "cell_type": "code",
   "execution_count": 16,
   "id": "1edff09c",
   "metadata": {},
   "outputs": [
    {
     "data": {
      "text/plain": [
       "East       556\n",
       "West       541\n",
       "Central    389\n",
       "South      248\n",
       "Name: region_name, dtype: int64"
      ]
     },
     "execution_count": 16,
     "metadata": {},
     "output_type": "execute_result"
    }
   ],
   "source": [
    "# Let's see what regions we have.\n",
    "\n",
    "superstore.region_name.value_counts()"
   ]
  },
  {
   "cell_type": "code",
   "execution_count": 17,
   "id": "e64ca828-7a9a-4f54-ae17-0f8f54549539",
   "metadata": {},
   "outputs": [],
   "source": [
    "# Now let's create dataframes for each region.\n",
    "\n",
    "supertore_east = superstore[superstore.region_name == \"East\"]\n",
    "supertore_west = superstore[superstore.region_name == \"West\"]\n",
    "supertore_central = superstore[superstore.region_name == \"Central\"]\n",
    "supertore_south = superstore[superstore.region_name == \"South\"]"
   ]
  },
  {
   "cell_type": "markdown",
   "id": "d757a3b7-099f-48fd-b2be-c9612148a239",
   "metadata": {},
   "source": [
    "We'll need to downsample for each region just like we did for all regions."
   ]
  },
  {
   "cell_type": "code",
   "execution_count": 19,
   "id": "7b5656e7-f039-484d-91aa-493ad97b1508",
   "metadata": {},
   "outputs": [],
   "source": [
    "# Let's downsample to weeks.\n",
    "\n",
    "east_by_week = supertore_east.resample('W').sum()\n",
    "west_by_week = supertore_west.resample('W').sum()\n",
    "central_by_week = supertore_central.resample('W').sum()\n",
    "south_by_week = supertore_south.resample('W').sum()"
   ]
  },
  {
   "cell_type": "code",
   "execution_count": 20,
   "id": "d929efbd",
   "metadata": {},
   "outputs": [
    {
     "data": {
      "text/plain": [
       "sales       0\n",
       "quantity    0\n",
       "discount    0\n",
       "profit      0\n",
       "dtype: int64"
      ]
     },
     "execution_count": 20,
     "metadata": {},
     "output_type": "execute_result"
    }
   ],
   "source": [
    "# Let's make sure there aren't any nulls in each region.\n",
    "\n",
    "west_by_week.asfreq('W').isnull().sum()"
   ]
  },
  {
   "cell_type": "code",
   "execution_count": 21,
   "id": "4f5d69b6",
   "metadata": {},
   "outputs": [
    {
     "data": {
      "text/plain": [
       "sales       0\n",
       "quantity    0\n",
       "discount    0\n",
       "profit      0\n",
       "dtype: int64"
      ]
     },
     "execution_count": 21,
     "metadata": {},
     "output_type": "execute_result"
    }
   ],
   "source": [
    "east_by_week.asfreq('W').isnull().sum()"
   ]
  },
  {
   "cell_type": "code",
   "execution_count": 22,
   "id": "c2fe842f",
   "metadata": {},
   "outputs": [
    {
     "data": {
      "text/plain": [
       "sales       0\n",
       "quantity    0\n",
       "discount    0\n",
       "profit      0\n",
       "dtype: int64"
      ]
     },
     "execution_count": 22,
     "metadata": {},
     "output_type": "execute_result"
    }
   ],
   "source": [
    "central_by_week.asfreq('W').isnull().sum()"
   ]
  },
  {
   "cell_type": "code",
   "execution_count": 23,
   "id": "995e7882",
   "metadata": {},
   "outputs": [
    {
     "data": {
      "text/plain": [
       "sales       0\n",
       "quantity    0\n",
       "discount    0\n",
       "profit      0\n",
       "dtype: int64"
      ]
     },
     "execution_count": 23,
     "metadata": {},
     "output_type": "execute_result"
    }
   ],
   "source": [
    "south_by_week.asfreq('W').isnull().sum()"
   ]
  },
  {
   "cell_type": "code",
   "execution_count": 24,
   "id": "5c512b7d",
   "metadata": {},
   "outputs": [
    {
     "name": "stdout",
     "output_type": "stream",
     "text": [
      "<class 'pandas.core.frame.DataFrame'>\n",
      "DatetimeIndex: 208 entries, 2014-01-12 to 2017-12-31\n",
      "Freq: W-SUN\n",
      "Data columns (total 4 columns):\n",
      " #   Column    Non-Null Count  Dtype  \n",
      "---  ------    --------------  -----  \n",
      " 0   sales     208 non-null    float64\n",
      " 1   quantity  208 non-null    float64\n",
      " 2   discount  208 non-null    float64\n",
      " 3   profit    208 non-null    float64\n",
      "dtypes: float64(4)\n",
      "memory usage: 8.1 KB\n"
     ]
    }
   ],
   "source": [
    "# Now let's see the info for each region.\n",
    "\n",
    "east_by_week.info()"
   ]
  },
  {
   "cell_type": "code",
   "execution_count": 25,
   "id": "4800de68",
   "metadata": {},
   "outputs": [
    {
     "name": "stdout",
     "output_type": "stream",
     "text": [
      "<class 'pandas.core.frame.DataFrame'>\n",
      "DatetimeIndex: 205 entries, 2014-02-02 to 2017-12-31\n",
      "Freq: W-SUN\n",
      "Data columns (total 4 columns):\n",
      " #   Column    Non-Null Count  Dtype  \n",
      "---  ------    --------------  -----  \n",
      " 0   sales     205 non-null    float64\n",
      " 1   quantity  205 non-null    float64\n",
      " 2   discount  205 non-null    float64\n",
      " 3   profit    205 non-null    float64\n",
      "dtypes: float64(4)\n",
      "memory usage: 8.0 KB\n"
     ]
    }
   ],
   "source": [
    "west_by_week.info()"
   ]
  },
  {
   "cell_type": "code",
   "execution_count": 26,
   "id": "a5b07dc5",
   "metadata": {},
   "outputs": [
    {
     "name": "stdout",
     "output_type": "stream",
     "text": [
      "<class 'pandas.core.frame.DataFrame'>\n",
      "DatetimeIndex: 204 entries, 2014-01-12 to 2017-12-03\n",
      "Freq: W-SUN\n",
      "Data columns (total 4 columns):\n",
      " #   Column    Non-Null Count  Dtype  \n",
      "---  ------    --------------  -----  \n",
      " 0   sales     204 non-null    float64\n",
      " 1   quantity  204 non-null    float64\n",
      " 2   discount  204 non-null    float64\n",
      " 3   profit    204 non-null    float64\n",
      "dtypes: float64(4)\n",
      "memory usage: 8.0 KB\n"
     ]
    }
   ],
   "source": [
    "south_by_week.info()"
   ]
  },
  {
   "cell_type": "code",
   "execution_count": 27,
   "id": "68fda3a3",
   "metadata": {},
   "outputs": [
    {
     "name": "stdout",
     "output_type": "stream",
     "text": [
      "<class 'pandas.core.frame.DataFrame'>\n",
      "DatetimeIndex: 209 entries, 2014-01-05 to 2017-12-31\n",
      "Freq: W-SUN\n",
      "Data columns (total 4 columns):\n",
      " #   Column    Non-Null Count  Dtype  \n",
      "---  ------    --------------  -----  \n",
      " 0   sales     209 non-null    float64\n",
      " 1   quantity  209 non-null    float64\n",
      " 2   discount  209 non-null    float64\n",
      " 3   profit    209 non-null    float64\n",
      "dtypes: float64(4)\n",
      "memory usage: 8.2 KB\n"
     ]
    }
   ],
   "source": [
    "central_by_week.info()"
   ]
  },
  {
   "cell_type": "markdown",
   "id": "1e40b45d-ef73-4b85-8b89-d45605f497fc",
   "metadata": {},
   "source": [
    "We can see that each region has different start and end dates. We'll keep this in mind in case we need to fill in those missing dates."
   ]
  },
  {
   "cell_type": "markdown",
   "id": "7fc181f4-6f41-4721-a6fa-b77e0ef276be",
   "metadata": {},
   "source": [
    "### Make it Reproducible\n",
    "\n",
    "Now we need to put all the steps above into a reusable function. This function will be in the prepare.py file."
   ]
  },
  {
   "cell_type": "code",
   "execution_count": 28,
   "id": "89db4259",
   "metadata": {},
   "outputs": [],
   "source": [
    "# We'll test out the prepare function to make sure it works.\n",
    "# It will return 5 dataframes.\n",
    "\n",
    "from prepare import prepare"
   ]
  },
  {
   "cell_type": "code",
   "execution_count": 29,
   "id": "570b252f-dcab-4dac-87ec-007a54b9a0b1",
   "metadata": {},
   "outputs": [
    {
     "name": "stdout",
     "output_type": "stream",
     "text": [
      "Reading from .csv file.\n"
     ]
    }
   ],
   "source": [
    "dfs = prepare(AcquireSuperstore().get_data())"
   ]
  },
  {
   "cell_type": "code",
   "execution_count": 30,
   "id": "229d5186-e5e9-447c-80af-971080db11e5",
   "metadata": {},
   "outputs": [
    {
     "name": "stdout",
     "output_type": "stream",
     "text": [
      "<class 'pandas.core.frame.DataFrame'>\n",
      "DatetimeIndex: 209 entries, 2014-01-05 to 2017-12-31\n",
      "Freq: W-SUN\n",
      "Data columns (total 4 columns):\n",
      " #   Column    Non-Null Count  Dtype  \n",
      "---  ------    --------------  -----  \n",
      " 0   sales     209 non-null    float64\n",
      " 1   quantity  209 non-null    float64\n",
      " 2   discount  209 non-null    float64\n",
      " 3   profit    209 non-null    float64\n",
      "dtypes: float64(4)\n",
      "memory usage: 8.2 KB\n"
     ]
    }
   ],
   "source": [
    "dfs[0].info()"
   ]
  },
  {
   "cell_type": "code",
   "execution_count": 31,
   "id": "5327239c-5b07-45a2-bf04-477ad7b617fa",
   "metadata": {},
   "outputs": [
    {
     "name": "stdout",
     "output_type": "stream",
     "text": [
      "<class 'pandas.core.frame.DataFrame'>\n",
      "DatetimeIndex: 208 entries, 2014-01-12 to 2017-12-31\n",
      "Freq: W-SUN\n",
      "Data columns (total 4 columns):\n",
      " #   Column    Non-Null Count  Dtype  \n",
      "---  ------    --------------  -----  \n",
      " 0   sales     208 non-null    float64\n",
      " 1   quantity  208 non-null    float64\n",
      " 2   discount  208 non-null    float64\n",
      " 3   profit    208 non-null    float64\n",
      "dtypes: float64(4)\n",
      "memory usage: 8.1 KB\n"
     ]
    }
   ],
   "source": [
    "dfs[1].info()"
   ]
  },
  {
   "cell_type": "code",
   "execution_count": 32,
   "id": "32fab91f-b5a6-4ff2-8c80-3742f3ec45e7",
   "metadata": {},
   "outputs": [
    {
     "name": "stdout",
     "output_type": "stream",
     "text": [
      "<class 'pandas.core.frame.DataFrame'>\n",
      "DatetimeIndex: 205 entries, 2014-02-02 to 2017-12-31\n",
      "Freq: W-SUN\n",
      "Data columns (total 4 columns):\n",
      " #   Column    Non-Null Count  Dtype  \n",
      "---  ------    --------------  -----  \n",
      " 0   sales     205 non-null    float64\n",
      " 1   quantity  205 non-null    float64\n",
      " 2   discount  205 non-null    float64\n",
      " 3   profit    205 non-null    float64\n",
      "dtypes: float64(4)\n",
      "memory usage: 8.0 KB\n"
     ]
    }
   ],
   "source": [
    "dfs[2].info()"
   ]
  },
  {
   "cell_type": "code",
   "execution_count": 33,
   "id": "4bf009c7-cf75-4095-8941-a516a8b7c5f7",
   "metadata": {},
   "outputs": [
    {
     "name": "stdout",
     "output_type": "stream",
     "text": [
      "<class 'pandas.core.frame.DataFrame'>\n",
      "DatetimeIndex: 209 entries, 2014-01-05 to 2017-12-31\n",
      "Freq: W-SUN\n",
      "Data columns (total 4 columns):\n",
      " #   Column    Non-Null Count  Dtype  \n",
      "---  ------    --------------  -----  \n",
      " 0   sales     209 non-null    float64\n",
      " 1   quantity  209 non-null    float64\n",
      " 2   discount  209 non-null    float64\n",
      " 3   profit    209 non-null    float64\n",
      "dtypes: float64(4)\n",
      "memory usage: 8.2 KB\n"
     ]
    }
   ],
   "source": [
    "dfs[3].info()"
   ]
  },
  {
   "cell_type": "code",
   "execution_count": 34,
   "id": "fa740561-0092-456a-9675-1d04683ebee4",
   "metadata": {},
   "outputs": [
    {
     "name": "stdout",
     "output_type": "stream",
     "text": [
      "<class 'pandas.core.frame.DataFrame'>\n",
      "DatetimeIndex: 204 entries, 2014-01-12 to 2017-12-03\n",
      "Freq: W-SUN\n",
      "Data columns (total 4 columns):\n",
      " #   Column    Non-Null Count  Dtype  \n",
      "---  ------    --------------  -----  \n",
      " 0   sales     204 non-null    float64\n",
      " 1   quantity  204 non-null    float64\n",
      " 2   discount  204 non-null    float64\n",
      " 3   profit    204 non-null    float64\n",
      "dtypes: float64(4)\n",
      "memory usage: 8.0 KB\n"
     ]
    }
   ],
   "source": [
    "dfs[4].info()"
   ]
  },
  {
   "cell_type": "markdown",
   "id": "90640463-5b18-448a-8e14-edbb2ed252d4",
   "metadata": {},
   "source": [
    "It all looks good."
   ]
  },
  {
   "cell_type": "markdown",
   "id": "7efcc41d-29fe-46d5-941c-a84da5c9fe55",
   "metadata": {},
   "source": [
    "## Splitting the Data\n",
    "\n",
    "Finally we need to make a function that will split the data for us."
   ]
  },
  {
   "cell_type": "code",
   "execution_count": null,
   "id": "0dedd52d-507a-40e3-80de-cc76aa502792",
   "metadata": {},
   "outputs": [],
   "source": []
  }
 ],
 "metadata": {
  "kernelspec": {
   "display_name": "Python 3 (ipykernel)",
   "language": "python",
   "name": "python3"
  },
  "language_info": {
   "codemirror_mode": {
    "name": "ipython",
    "version": 3
   },
   "file_extension": ".py",
   "mimetype": "text/x-python",
   "name": "python",
   "nbconvert_exporter": "python",
   "pygments_lexer": "ipython3",
   "version": "3.9.7"
  }
 },
 "nbformat": 4,
 "nbformat_minor": 5
}
