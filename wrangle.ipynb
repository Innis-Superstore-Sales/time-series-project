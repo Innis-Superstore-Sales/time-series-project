{
 "cells": [
  {
   "cell_type": "markdown",
   "id": "af0cac97-2c7d-4f12-b6b9-106962bddef7",
   "metadata": {},
   "source": [
    "# Wrangle (Acquire and Prepare)\n",
    "\n",
    "This notebook contains all steps taken in the data acquisition and preparation phases of the data science pipeline for the Superstore Time Series project. This notebook does rely on helper files so if you want to run the code blocks in this notebook ensure that you have all the helper files in the same directory.\n",
    "\n",
    "---\n",
    "\n",
    "## The Required Imports\n",
    "\n",
    "Everything we need to run the code blocks in this notebook are imported below. To run the code blocks in this report you will need numpy, pandas, matplotlib, seaborn and sklearn installed on your computer."
   ]
  },
  {
   "cell_type": "code",
   "execution_count": 1,
   "id": "0373e1ed-0301-4f35-8be9-0b15f07d6a31",
   "metadata": {},
   "outputs": [],
   "source": [
    "import numpy as np\n",
    "import pandas as pd\n",
    "import matplotlib.pyplot as plt\n",
    "\n",
    "from _acquire import Acquire"
   ]
  },
  {
   "cell_type": "markdown",
   "id": "2bd069bc-ae41-4722-a667-cf268c049f7b",
   "metadata": {},
   "source": [
    "---\n",
    "\n",
    "## Data Acquisition\n",
    "\n",
    "In this section we'll cover all the steps taken to acquire the superstore data.\n",
    "\n",
    "### Reading the Data From the Database\n",
    "\n",
    "The superstore data is located in the MySQL database hosted at data.codeup.com. We'll need to write a SQL query to select the data."
   ]
  },
  {
   "cell_type": "code",
   "execution_count": 2,
   "id": "4b8b79b6-ab74-42fa-ba31-d0d16b69c451",
   "metadata": {},
   "outputs": [],
   "source": [
    "# We'll need the get_db_url function\n",
    "from get_db_url import get_db_url"
   ]
  },
  {
   "cell_type": "code",
   "execution_count": 3,
   "id": "3431e570-4b04-4a6e-a7f8-a9e40f8e1460",
   "metadata": {},
   "outputs": [
    {
     "name": "stdout",
     "output_type": "stream",
     "text": [
      "<class 'pandas.core.frame.DataFrame'>\n",
      "RangeIndex: 1734 entries, 0 to 1733\n",
      "Data columns (total 22 columns):\n",
      " #   Column         Non-Null Count  Dtype  \n",
      "---  ------         --------------  -----  \n",
      " 0   Order ID       1734 non-null   object \n",
      " 1   Order Date     1734 non-null   object \n",
      " 2   Ship Date      1734 non-null   object \n",
      " 3   Ship Mode      1734 non-null   object \n",
      " 4   Customer ID    1734 non-null   object \n",
      " 5   Segment        1734 non-null   object \n",
      " 6   Country        1734 non-null   object \n",
      " 7   City           1734 non-null   object \n",
      " 8   State          1734 non-null   object \n",
      " 9   Postal Code    1734 non-null   float64\n",
      " 10  Product ID     1734 non-null   object \n",
      " 11  Sales          1734 non-null   float64\n",
      " 12  Quantity       1734 non-null   float64\n",
      " 13  Discount       1734 non-null   float64\n",
      " 14  Profit         1734 non-null   float64\n",
      " 15  Category ID    1734 non-null   int64  \n",
      " 16  Region ID      1734 non-null   int64  \n",
      " 17  Category       1734 non-null   object \n",
      " 18  Sub-Category   1734 non-null   object \n",
      " 19  Customer Name  1734 non-null   object \n",
      " 20  Product Name   1734 non-null   object \n",
      " 21  Region Name    1734 non-null   object \n",
      "dtypes: float64(5), int64(2), object(15)\n",
      "memory usage: 298.2+ KB\n"
     ]
    }
   ],
   "source": [
    "# Here we'll use an SQL query to select the superstore data from data.codeup.com\n",
    "\n",
    "sql = '''\n",
    "SELECT\n",
    "    orders.*,\n",
    "    Category,\n",
    "    `Sub-Category`,\n",
    "    `Customer Name`,\n",
    "    `Product Name`,\n",
    "    `Region Name`\n",
    "FROM orders\n",
    "JOIN categories USING (`Category ID`)\n",
    "JOIN customers USING (`Customer ID`)\n",
    "JOIN products USING (`Product ID`)\n",
    "JOIN regions USING (`Region ID`);\n",
    "'''\n",
    "\n",
    "superstore = pd.read_sql(sql, get_db_url('superstore_db'))\n",
    "superstore.info()"
   ]
  },
  {
   "cell_type": "markdown",
   "id": "74d16704-1f0e-454b-a245-01c9e935232c",
   "metadata": {},
   "source": [
    "### Make it Reproducible\n",
    "\n",
    "Now that we know how to get the data we need to make the acquisition code reproducible."
   ]
  },
  {
   "cell_type": "code",
   "execution_count": 4,
   "id": "0f53cf16-5137-4ad1-9687-d9a1779a3bc3",
   "metadata": {},
   "outputs": [],
   "source": [
    "# We can inherit the Acquire class to get all the cacheing code. We'll just need to include the code \n",
    "# for reading from the database.\n",
    "\n",
    "class AcquireSuperstore(Acquire):\n",
    "    def __init__(self):\n",
    "        self.file_name = 'superstore.csv'\n",
    "        self.database_name = 'superstore_db'\n",
    "        self.sql = '''\n",
    "        SELECT\n",
    "            orders.*,\n",
    "            Category,\n",
    "            `Sub-Category`,\n",
    "            `Customer Name`,\n",
    "            `Product Name`,\n",
    "            `Region Name`\n",
    "        FROM orders\n",
    "        JOIN categories USING (`Category ID`)\n",
    "        JOIN customers USING (`Customer ID`)\n",
    "        JOIN products USING (`Product ID`)\n",
    "        JOIN regions USING (`Region ID`);\n",
    "        '''\n",
    "        \n",
    "    def read_from_source(self):\n",
    "        return pd.read_sql(self.sql, get_db_url(self.database_name))"
   ]
  },
  {
   "cell_type": "code",
   "execution_count": 5,
   "id": "db6994da-b232-476e-bc45-4d1acb756ba9",
   "metadata": {},
   "outputs": [
    {
     "name": "stdout",
     "output_type": "stream",
     "text": [
      "Reading from source.\n",
      "Cacheing data.\n"
     ]
    },
    {
     "data": {
      "text/plain": [
       "(1734, 22)"
      ]
     },
     "execution_count": 5,
     "metadata": {},
     "output_type": "execute_result"
    }
   ],
   "source": [
    "# Let's test it\n",
    "\n",
    "superstore = AcquireSuperstore().get_data()\n",
    "superstore.shape"
   ]
  },
  {
   "cell_type": "markdown",
   "id": "ad393eb7-a8ee-4a45-8c05-44335490fffe",
   "metadata": {},
   "source": [
    "---\n",
    "\n",
    "## Data Preparation"
   ]
  },
  {
   "cell_type": "code",
   "execution_count": null,
   "id": "4d32b700-a5e9-4c22-ad24-9bdc220d2391",
   "metadata": {},
   "outputs": [],
   "source": []
  }
 ],
 "metadata": {
  "kernelspec": {
   "display_name": "Python 3 (ipykernel)",
   "language": "python",
   "name": "python3"
  },
  "language_info": {
   "codemirror_mode": {
    "name": "ipython",
    "version": 3
   },
   "file_extension": ".py",
   "mimetype": "text/x-python",
   "name": "python",
   "nbconvert_exporter": "python",
   "pygments_lexer": "ipython3",
   "version": "3.9.7"
  }
 },
 "nbformat": 4,
 "nbformat_minor": 5
}
