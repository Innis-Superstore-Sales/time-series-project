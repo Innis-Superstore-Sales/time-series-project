{
 "cells": [
  {
   "cell_type": "markdown",
   "id": "dcf60d4e-7f94-4b07-a0d6-e24c0b3bae03",
   "metadata": {},
   "source": [
    "# Superstore Sales: 2018 Goals and Forecast \n",
    "\n",
    "___\n",
    "\n",
    "By: Alejandro Garcia and AJ Martinez\n",
    "<br>\n",
    "Date: April 22, 2022\n",
    "\n",
    "___\n",
    "\n",
    "## Project Goals\n",
    "\n",
    "\n",
    "\n",
    "___\n",
    "\n",
    "## Project Description\n",
    "\n",
    "\n",
    "\n",
    "___\n",
    "\n",
    "## Importing the Required Modules\n",
    "\n",
    "Everything we need to run the code blocks in this notebook are located in the top level directory. To run the code blocks in this report you will need numpy, pandas, matplotlib, seaborn, and sklearn installed on your computer.\n",
    "\n",
    "___\n",
    "\n",
    "## Data Acquisition and Preparation\n",
    "\n",
    "\n",
    "\n",
    "___\n",
    "\n",
    "## Exploratory Analysis\n",
    "\n",
    "\n",
    "\n",
    "___\n",
    "\n",
    "## Modeling\n",
    "\n",
    "\n",
    "\n",
    "___\n",
    "\n",
    "## Key Takeaways and Recommendations\n",
    "\n",
    "\n",
    "\n",
    "___\n",
    "\n",
    "## Next Steps\n",
    "\n"
   ]
  }
 ],
 "metadata": {
  "kernelspec": {
   "display_name": "Python 3 (ipykernel)",
   "language": "python",
   "name": "python3"
  },
  "language_info": {
   "codemirror_mode": {
    "name": "ipython",
    "version": 3
   },
   "file_extension": ".py",
   "mimetype": "text/x-python",
   "name": "python",
   "nbconvert_exporter": "python",
   "pygments_lexer": "ipython3",
   "version": "3.9.7"
  }
 },
 "nbformat": 4,
 "nbformat_minor": 5
}
