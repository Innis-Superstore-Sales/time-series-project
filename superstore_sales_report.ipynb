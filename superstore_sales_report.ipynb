{
 "cells": [
  {
   "cell_type": "markdown",
   "id": "2af910d7-aad4-4b84-982c-53fcef84902b",
   "metadata": {},
   "source": [
    "# Superstore Sales: 2018 Goals and Forecast \n",
    "\n",
    "___\n",
    "\n",
    "By: Alejandro Garcia and AJ Martinez\n",
    "<br>\n",
    "Date: April 22, 2022\n",
    "\n",
    "___\n",
    "\n",
    "## Project Goals\n",
    "\n",
    "Given four years of sales data, identify sales patterns in order to produce a sales, and profit, forecast for 2018, and determine what courses of action will lead to increased sales in the future.\n",
    "\n",
    "___\n",
    "\n",
    "## Project Description\n",
    "\n",
    "With growing demands in the market the VP of sales at a superstore giant has asked us, what should our sales goals for 2018 be? Given sales data for the years 2014 through 2017 the goal of this project is to determine what trends exist in the sales data that can help us determine what sales trends we can expect in 2018. Furthermore, we aim to discover where strengths, or weaknesses, exist in the sales numbers so that we can provide recommendations for improving sales, and profit, going forward.\n",
    "\n",
    "___\n",
    "\n",
    "## Importing the Required Modules\n",
    "\n",
    "Everything we need to run the code blocks in this notebook are located in the top level directory. To run the code blocks in this report you will need numpy, pandas, matplotlib, seaborn, sklearn, statsmodels, and prophet installed on your computer."
   ]
  },
  {
   "cell_type": "code",
   "execution_count": 1,
   "id": "154bd63e-cc8a-4877-bb9f-9dc6951f7711",
   "metadata": {},
   "outputs": [],
   "source": [
    "# We would like to ignore any warnings that may be provided by our libraries.\n",
    "\n",
    "import warnings\n",
    "warnings.filterwarnings(\"ignore\")"
   ]
  },
  {
   "cell_type": "code",
   "execution_count": 2,
   "id": "a77ffcf5-4b84-4894-9279-e981b4a22d22",
   "metadata": {},
   "outputs": [
    {
     "name": "stderr",
     "output_type": "stream",
     "text": [
      "Importing plotly failed. Interactive plots will not work.\n"
     ]
    }
   ],
   "source": [
    "# Here we are importing everything needed to execute the code blocks in this notebook.\n",
    "\n",
    "from wrangle import *\n",
    "from prepare import split_data\n",
    "from model import *\n",
    "from evaluate import append_eval_df, plot_forecast"
   ]
  },
  {
   "cell_type": "markdown",
   "id": "92bf4191-40df-457f-9e73-47117cf857fc",
   "metadata": {},
   "source": [
    "___\n",
    "\n",
    "## Data Acquisition and Preparation\n",
    "\n",
    "The data is acquired from the MySQL database hosted at data.codeup.com. The database contains five tables and all five tables are selected.\n",
    "\n",
    "The data is fairly clean, but some preparation is needed so that the data can be properly analyzed. A few columns are dropped since they are unuseful. Additionally, the order_date column is converted a datetime type and set as the index of the dataframe. There are no missing values in the data so no dropping or imputation is necessary.\n",
    "\n",
    "The data spans four years, but not all dates are present in the data. The data needs to be downsampled (in our case it was downsampled to weeks) so that there are no gaps in the data. There are a few weeks not present in the data, but the number of missing weeks was minimal so we filled in those rows with zeroes.\n",
    "\n",
    "Finally, for analysis the data is separated into multiple dataframes where one dataframe has total sales, four dataframes have sales by region, and three dataframes have sales by product category.\n",
    "\n",
    "Additional code was created for removing outliers from the data so that we could analyze the data with and without outliers."
   ]
  },
  {
   "cell_type": "code",
   "execution_count": 3,
   "id": "3392401c-e963-4448-8bcd-4fc8bc955ec1",
   "metadata": {},
   "outputs": [
    {
     "name": "stdout",
     "output_type": "stream",
     "text": [
      "Reading from .csv file.\n"
     ]
    }
   ],
   "source": [
    "# Here we will acquire and prepare the superstore data. The wrangle function will also remove outliers and \n",
    "# it will return multiple dataframes. We only need the first one which is the total sales data.\n",
    "\n",
    "dfs = wrangle_remove_outliers()\n",
    "superstore = dfs[0]"
   ]
  },
  {
   "cell_type": "markdown",
   "id": "7dcb821b-085e-491b-9272-3bf76ad19e3a",
   "metadata": {},
   "source": [
    "___\n",
    "\n",
    "## Exploratory Analysis\n",
    "\n",
    "With the data prepared we can begin exploring the data to identify sales trends and points of strength, or weakness. The goal here is to determine what are the most consistent trends in the data that can give us an area to focus on for increasing sales and profit going forward.\n",
    "\n",
    "In the visualizations below we aim to answer some questions about the data. Details about how these visualization are created can be found in the explore.py file.\n",
    "\n",
    "### Question 1\n",
    "\n",
    "### Question 2\n",
    "\n",
    "### Question 3\n",
    "\n",
    "### Question 4\n",
    "\n",
    "### Key Takeaways"
   ]
  },
  {
   "cell_type": "markdown",
   "id": "5e57887e-cdeb-4769-a261-a0f167ae2b22",
   "metadata": {},
   "source": [
    "___\n",
    "\n",
    "## Modeling\n",
    "\n",
    "Now we will build some forecasting models so that we can produce a sales and profit forecast for 2018. We will first need to split the data."
   ]
  },
  {
   "cell_type": "code",
   "execution_count": 4,
   "id": "0ff9c130-7e38-4625-8108-aa395c99fa4f",
   "metadata": {},
   "outputs": [],
   "source": [
    "# Here we will split the data into train, validate, and test datasets. The data is split by year for convenience \n",
    "# where train is 2014-2015, validate is 2016, and test is 2017.\n",
    "\n",
    "train, validate, test = split_data(superstore)"
   ]
  },
  {
   "cell_type": "markdown",
   "id": "8de86a2a-fcf2-4e40-b24f-bfd05c59a834",
   "metadata": {},
   "source": [
    "Next we must establish a baseline model to compare our models to."
   ]
  },
  {
   "cell_type": "code",
   "execution_count": 5,
   "id": "d8f34258-9e46-4891-bca4-e5d0694fa13d",
   "metadata": {},
   "outputs": [],
   "source": [
    "# Here we will produce various static forecast models and choose the best one as the baseline. The produced are \n",
    "# last observed value, simple average, and various moving averages. The moving average periods used are 4 weeks,\n",
    "# 12 weeks, 26 weeks, and 52 weeks.\n",
    "\n",
    "evaluate_df = establish_baseline(train, validate, [4, 12, 26, 52])"
   ]
  },
  {
   "cell_type": "markdown",
   "id": "8f231445-9e02-48ce-a911-ceecc8ba6acd",
   "metadata": {},
   "source": [
    "Now we will make three different models to compare to the baseline and to each other and we'll choose the best one to evaluate on test. We will also use the best model to make the 2018 sales forecast. We use root mean squared error as our performance metric because we would like to know the average error our forecast has."
   ]
  },
  {
   "cell_type": "code",
   "execution_count": 6,
   "id": "8721661f-efcf-44c6-9661-7fa8ab4b8adb",
   "metadata": {},
   "outputs": [
    {
     "name": "stderr",
     "output_type": "stream",
     "text": [
      "INFO:prophet:Disabling yearly seasonality. Run prophet with yearly_seasonality=True to override this.\n",
      "INFO:prophet:Disabling weekly seasonality. Run prophet with weekly_seasonality=True to override this.\n",
      "INFO:prophet:Disabling daily seasonality. Run prophet with daily_seasonality=True to override this.\n"
     ]
    },
    {
     "data": {
      "text/html": [
       "<div>\n",
       "<style scoped>\n",
       "    .dataframe tbody tr th:only-of-type {\n",
       "        vertical-align: middle;\n",
       "    }\n",
       "\n",
       "    .dataframe tbody tr th {\n",
       "        vertical-align: top;\n",
       "    }\n",
       "\n",
       "    .dataframe thead th {\n",
       "        text-align: right;\n",
       "    }\n",
       "</style>\n",
       "<table border=\"1\" class=\"dataframe\">\n",
       "  <thead>\n",
       "    <tr style=\"text-align: right;\">\n",
       "      <th></th>\n",
       "      <th>model_type</th>\n",
       "      <th>target</th>\n",
       "      <th>rmse</th>\n",
       "    </tr>\n",
       "  </thead>\n",
       "  <tbody>\n",
       "    <tr>\n",
       "      <th>0</th>\n",
       "      <td>Moving Average 26 Weeks</td>\n",
       "      <td>sales</td>\n",
       "      <td>685.0</td>\n",
       "    </tr>\n",
       "    <tr>\n",
       "      <th>1</th>\n",
       "      <td>Holt's Linear Trend</td>\n",
       "      <td>sales</td>\n",
       "      <td>3500.0</td>\n",
       "    </tr>\n",
       "    <tr>\n",
       "      <th>2</th>\n",
       "      <td>Prophet</td>\n",
       "      <td>sales</td>\n",
       "      <td>677.0</td>\n",
       "    </tr>\n",
       "    <tr>\n",
       "      <th>3</th>\n",
       "      <td>Previous Cycle</td>\n",
       "      <td>sales</td>\n",
       "      <td>872.0</td>\n",
       "    </tr>\n",
       "  </tbody>\n",
       "</table>\n",
       "</div>"
      ],
      "text/plain": [
       "                model_type target    rmse\n",
       "0  Moving Average 26 Weeks  sales   685.0\n",
       "1      Holt's Linear Trend  sales  3500.0\n",
       "2                  Prophet  sales   677.0\n",
       "3           Previous Cycle  sales   872.0"
      ]
     },
     "execution_count": 6,
     "metadata": {},
     "output_type": "execute_result"
    }
   ],
   "source": [
    "# Here we'll create all of our models and evalute each one on validate.\n",
    "# The context manager suppresses the output from FB Prophet.\n",
    "\n",
    "with suppress_stdout_stderr():\n",
    "    evaluate_df = create_models('sales', train, validate, evaluate_df)\n",
    "evaluate_df"
   ]
  },
  {
   "cell_type": "markdown",
   "id": "9e9dbcd4-72a3-4500-81a4-8fa13c2cca62",
   "metadata": {},
   "source": [
    "We see here that Prophet had the best performance with an average error of 677. Let's now evaluate on test."
   ]
  },
  {
   "cell_type": "code",
   "execution_count": 7,
   "id": "71ce9262-540b-4507-9bf3-9ec499443076",
   "metadata": {},
   "outputs": [
    {
     "name": "stderr",
     "output_type": "stream",
     "text": [
      "INFO:prophet:Disabling yearly seasonality. Run prophet with yearly_seasonality=True to override this.\n",
      "INFO:prophet:Disabling weekly seasonality. Run prophet with weekly_seasonality=True to override this.\n",
      "INFO:prophet:Disabling daily seasonality. Run prophet with daily_seasonality=True to override this.\n"
     ]
    },
    {
     "data": {
      "text/html": [
       "<div>\n",
       "<style scoped>\n",
       "    .dataframe tbody tr th:only-of-type {\n",
       "        vertical-align: middle;\n",
       "    }\n",
       "\n",
       "    .dataframe tbody tr th {\n",
       "        vertical-align: top;\n",
       "    }\n",
       "\n",
       "    .dataframe thead th {\n",
       "        text-align: right;\n",
       "    }\n",
       "</style>\n",
       "<table border=\"1\" class=\"dataframe\">\n",
       "  <thead>\n",
       "    <tr style=\"text-align: right;\">\n",
       "      <th></th>\n",
       "      <th>model_type</th>\n",
       "      <th>target</th>\n",
       "      <th>rmse</th>\n",
       "    </tr>\n",
       "  </thead>\n",
       "  <tbody>\n",
       "    <tr>\n",
       "      <th>0</th>\n",
       "      <td>Prophet</td>\n",
       "      <td>sales</td>\n",
       "      <td>818.0</td>\n",
       "    </tr>\n",
       "  </tbody>\n",
       "</table>\n",
       "</div>"
      ],
      "text/plain": [
       "  model_type target   rmse\n",
       "0    Prophet  sales  818.0"
      ]
     },
     "execution_count": 7,
     "metadata": {},
     "output_type": "execute_result"
    }
   ],
   "source": [
    "with suppress_stdout_stderr():\n",
    "    predictions = prophet_model('sales', train, None, period = 365 * 3)\n",
    "append_eval_df('Prophet', 'sales', test, predictions.loc['2017'])"
   ]
  },
  {
   "cell_type": "markdown",
   "id": "b2686beb-364b-426a-bc4c-960b6c25e8d9",
   "metadata": {},
   "source": [
    "There is a drop off in performance which is concerning, but we'll have to just go forward with it. Now let's make a forecast for 2018."
   ]
  },
  {
   "cell_type": "code",
   "execution_count": 15,
   "id": "54efce66-8b72-4be6-8943-3d6cb861a5cd",
   "metadata": {},
   "outputs": [
    {
     "data": {
      "image/png": "[encoded data removed]",
      "text/plain": [
       "<Figure size 864x288 with 1 Axes>"
      ]
     },
     "metadata": {
      "needs_background": "light"
     },
     "output_type": "display_data"
    }
   ],
   "source": [
    "plot_forecast('sales', superstore, predictions.loc['2014' : '2018'])"
   ]
  },
  {
   "cell_type": "markdown",
   "id": "873ec4d5-8070-4ce2-ac48-15a2661edac4",
   "metadata": {},
   "source": [
    "It is now clear why the error is what it is. Due to the inconsistency in the data the best our forecast model can do is determine a straight line trend to fit the data. However, it does look like overall sales numbers are growing over time."
   ]
  },
  {
   "cell_type": "markdown",
   "id": "5e18add0-746a-4422-ae86-81b4c0cc862b",
   "metadata": {},
   "source": [
    "___\n",
    "\n",
    "## Key Takeaways and Recommendations\n",
    "\n",
    "\n",
    "\n",
    "___\n",
    "\n",
    "## Next Steps"
   ]
  }
 ],
 "metadata": {
  "kernelspec": {
   "display_name": "Python 3 (ipykernel)",
   "language": "python",
   "name": "python3"
  },
  "language_info": {
   "codemirror_mode": {
    "name": "ipython",
    "version": 3
   },
   "file_extension": ".py",
   "mimetype": "text/x-python",
   "name": "python",
   "nbconvert_exporter": "python",
   "pygments_lexer": "ipython3",
   "version": "3.9.7"
  }
 },
 "nbformat": 4,
 "nbformat_minor": 5
}
