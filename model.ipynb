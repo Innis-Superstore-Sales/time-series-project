{
 "cells": [
  {
   "cell_type": "markdown",
   "id": "91bcf273-05a1-45e3-ac7f-4eb2d7d988e3",
   "metadata": {},
   "source": [
    "# Modeling\n",
    "\n",
    "This notebook contains all steps taken in the modeling phase of the data science pipeline for the Superstore Time Series project. This notebook does rely on helper files so if you want to run the code blocks in this notebook ensure that you have all the helper files in the same directory.\n",
    "\n",
    "---\n",
    "\n",
    "## The Required Imports\n",
    "\n",
    "Everything we need to run the code blocks in this notebook are imported below. To run the code blocks in this report you will need numpy, pandas, matplotlib, seaborn and sklearn installed on your computer."
   ]
  },
  {
   "cell_type": "code",
   "execution_count": 1,
   "id": "a9720e14-c193-4899-97d6-cedf48cf63dd",
   "metadata": {},
   "outputs": [
    {
     "name": "stderr",
     "output_type": "stream",
     "text": [
      "Importing plotly failed. Interactive plots will not work.\n"
     ]
    }
   ],
   "source": [
    "import numpy as np\n",
    "import pandas as pd\n",
    "import matplotlib.pyplot as plt\n",
    "import seaborn as sns\n",
    "\n",
    "import statsmodels.api as sm\n",
    "from statsmodels.tsa.api import Holt\n",
    "from prophet import Prophet\n",
    "\n",
    "from sklearn.metrics import mean_squared_error\n",
    "\n",
    "# from prepare import split_data\n",
    "from wrangle import wrangle\n",
    "from prepare import split_data\n",
    "from evaluate import *\n",
    "from model import *"
   ]
  },
  {
   "cell_type": "markdown",
   "id": "07f752dd-da5e-467a-8e7e-a01324e343b5",
   "metadata": {},
   "source": [
    "---\n",
    "\n",
    "## Acquire, Prepare, and Split the Data\n",
    "\n",
    "Here we will acquire and prepare the data using the wrangle module. We'll then split each dataframe into train, validate, and test using the prepare module."
   ]
  },
  {
   "cell_type": "code",
   "execution_count": 2,
   "id": "389a5e75-043f-400f-b963-a33c998767f7",
   "metadata": {},
   "outputs": [
    {
     "name": "stdout",
     "output_type": "stream",
     "text": [
      "Reading from .csv file.\n"
     ]
    }
   ],
   "source": [
    "superstore, store_east, store_west, store_south, store_central, office_supplies, furniture, technology = wrangle()"
   ]
  },
  {
   "cell_type": "code",
   "execution_count": 3,
   "id": "c109ccc5-865a-4cf8-8024-b4c106318d6a",
   "metadata": {},
   "outputs": [],
   "source": [
    "# Here we'll resample into a less finely grained period to produce a more accurate forecast.\n",
    "\n",
    "resample_period = 'Q'\n",
    "\n",
    "# This is the periods that are used for producing the moving averages\n",
    "periods = [1, 2, 4]\n",
    "\n",
    "# Year size for previous cycle\n",
    "year_size = 4\n",
    "\n",
    "superstore = superstore.resample(resample_period).sum()\n",
    "\n",
    "store_east = store_east.resample(resample_period).sum()\n",
    "store_west = store_west.resample(resample_period).sum()\n",
    "store_south = store_south.resample(resample_period).sum()\n",
    "store_central = store_central.resample(resample_period).sum()\n",
    "\n",
    "office_supplies = office_supplies.resample(resample_period).sum()\n",
    "furniture = furniture.resample(resample_period).sum()\n",
    "technology = technology.resample(resample_period).sum()"
   ]
  },
  {
   "cell_type": "code",
   "execution_count": 4,
   "id": "680a79d1-35e3-417d-9c3a-f6fa3239973c",
   "metadata": {},
   "outputs": [],
   "source": [
    "superstore_train, superstore_validate, superstore_test = split_data(superstore)\n",
    "\n",
    "store_east_train, store_east_validate, store_east_test = split_data(store_east)\n",
    "store_west_train, store_west_validate, store_west_test = split_data(store_west)\n",
    "store_south_train, store_south_validate, store_south_test = split_data(store_south)\n",
    "store_central_train, store_central_validate, store_central_test = split_data(store_central)\n",
    "\n",
    "office_supplies_train, office_supplies_validate, office_supplies_test = split_data(office_supplies)\n",
    "furniture_train, furniture_validate, furniture_test = split_data(furniture)\n",
    "technology_train, technology_validate, technology_test = split_data(technology)"
   ]
  },
  {
   "cell_type": "markdown",
   "id": "d2d0e15d-fdf8-42de-a805-28c2c34b71d9",
   "metadata": {},
   "source": [
    "---\n",
    "\n",
    "## Establishing a Baseline\n",
    "\n",
    "Now we need to establish a baseline against which to compare the performance of our models. We'll use various simple forecasting strategies (last observed value, simple average, various moving averages) and pick the strategy with the lowest RMSE value to be our baseline.\n",
    "\n",
    "### Last Observed Value\n",
    "\n",
    "We'll start by creating a last observed value forecast."
   ]
  },
  {
   "cell_type": "code",
   "execution_count": 5,
   "id": "a76865d8-566c-4a63-b1a1-a13421fba4e3",
   "metadata": {},
   "outputs": [
    {
     "data": {
      "text/plain": [
       "30820.28"
      ]
     },
     "execution_count": 5,
     "metadata": {},
     "output_type": "execute_result"
    }
   ],
   "source": [
    "# Calculate the last observed value.\n",
    "\n",
    "last_observed_value = round(superstore_train.sales[-1], 2)\n",
    "last_observed_value"
   ]
  },
  {
   "cell_type": "code",
   "execution_count": 6,
   "id": "893e881d-3b02-473c-a251-c7cc021abd7d",
   "metadata": {},
   "outputs": [
    {
     "data": {
      "text/html": [
       "<div>\n",
       "<style scoped>\n",
       "    .dataframe tbody tr th:only-of-type {\n",
       "        vertical-align: middle;\n",
       "    }\n",
       "\n",
       "    .dataframe tbody tr th {\n",
       "        vertical-align: top;\n",
       "    }\n",
       "\n",
       "    .dataframe thead th {\n",
       "        text-align: right;\n",
       "    }\n",
       "</style>\n",
       "<table border=\"1\" class=\"dataframe\">\n",
       "  <thead>\n",
       "    <tr style=\"text-align: right;\">\n",
       "      <th></th>\n",
       "      <th>sales</th>\n",
       "    </tr>\n",
       "    <tr>\n",
       "      <th>order_date</th>\n",
       "      <th></th>\n",
       "    </tr>\n",
       "  </thead>\n",
       "  <tbody>\n",
       "    <tr>\n",
       "      <th>2016-03-31</th>\n",
       "      <td>30820.28</td>\n",
       "    </tr>\n",
       "    <tr>\n",
       "      <th>2016-06-30</th>\n",
       "      <td>30820.28</td>\n",
       "    </tr>\n",
       "    <tr>\n",
       "      <th>2016-09-30</th>\n",
       "      <td>30820.28</td>\n",
       "    </tr>\n",
       "    <tr>\n",
       "      <th>2016-12-31</th>\n",
       "      <td>30820.28</td>\n",
       "    </tr>\n",
       "  </tbody>\n",
       "</table>\n",
       "</div>"
      ],
      "text/plain": [
       "               sales\n",
       "order_date          \n",
       "2016-03-31  30820.28\n",
       "2016-06-30  30820.28\n",
       "2016-09-30  30820.28\n",
       "2016-12-31  30820.28"
      ]
     },
     "execution_count": 6,
     "metadata": {},
     "output_type": "execute_result"
    }
   ],
   "source": [
    "# Create a dataframe of predictions using the last observed value.\n",
    "\n",
    "predictions = make_static_predictions('sales', last_observed_value, superstore_validate.index)\n",
    "predictions.head()"
   ]
  },
  {
   "cell_type": "code",
   "execution_count": 7,
   "id": "51ca14bc-04b4-4c96-8bde-3bb849e34fb7",
   "metadata": {},
   "outputs": [
    {
     "data": {
      "text/html": [
       "<div>\n",
       "<style scoped>\n",
       "    .dataframe tbody tr th:only-of-type {\n",
       "        vertical-align: middle;\n",
       "    }\n",
       "\n",
       "    .dataframe tbody tr th {\n",
       "        vertical-align: top;\n",
       "    }\n",
       "\n",
       "    .dataframe thead th {\n",
       "        text-align: right;\n",
       "    }\n",
       "</style>\n",
       "<table border=\"1\" class=\"dataframe\">\n",
       "  <thead>\n",
       "    <tr style=\"text-align: right;\">\n",
       "      <th></th>\n",
       "      <th>model_type</th>\n",
       "      <th>target</th>\n",
       "      <th>rmse</th>\n",
       "    </tr>\n",
       "  </thead>\n",
       "  <tbody>\n",
       "    <tr>\n",
       "      <th>0</th>\n",
       "      <td>Last Observed Value</td>\n",
       "      <td>sales</td>\n",
       "      <td>8213.0</td>\n",
       "    </tr>\n",
       "  </tbody>\n",
       "</table>\n",
       "</div>"
      ],
      "text/plain": [
       "            model_type target    rmse\n",
       "0  Last Observed Value  sales  8213.0"
      ]
     },
     "execution_count": 7,
     "metadata": {},
     "output_type": "execute_result"
    }
   ],
   "source": [
    "# Add the results to the eval_df.\n",
    "\n",
    "eval_df = append_eval_df('Last Observed Value', 'sales', superstore_validate, predictions)\n",
    "eval_df"
   ]
  },
  {
   "cell_type": "code",
   "execution_count": 8,
   "id": "6b34b2dc-69b5-4030-962b-d92088f174eb",
   "metadata": {},
   "outputs": [
    {
     "data": {
      "image/png": "[encoded data removed]",
      "text/plain": [
       "<Figure size 864x288 with 1 Axes>"
      ]
     },
     "metadata": {
      "needs_background": "light"
     },
     "output_type": "display_data"
    }
   ],
   "source": [
    "# Visualize the results.\n",
    "\n",
    "plot_forecast('sales', superstore_train, superstore_validate, predictions)"
   ]
  },
  {
   "cell_type": "markdown",
   "id": "d53f8b37-f5a5-496a-af58-95ee6d8c08c8",
   "metadata": {},
   "source": [
    "### Simple Average\n",
    "\n",
    "Now let's create a simple average forecast."
   ]
  },
  {
   "cell_type": "code",
   "execution_count": 9,
   "id": "1c965430-baa3-4dc8-ae9e-650ec001fe60",
   "metadata": {},
   "outputs": [
    {
     "data": {
      "text/plain": [
       "24196.74"
      ]
     },
     "execution_count": 9,
     "metadata": {},
     "output_type": "execute_result"
    }
   ],
   "source": [
    "# Calculate the simple average.\n",
    "\n",
    "simple_avg = round(superstore_train.sales.mean(), 2)\n",
    "simple_avg"
   ]
  },
  {
   "cell_type": "code",
   "execution_count": 10,
   "id": "8a2e5c48-6380-4d0a-81ad-7a3321de9f50",
   "metadata": {},
   "outputs": [
    {
     "data": {
      "text/html": [
       "<div>\n",
       "<style scoped>\n",
       "    .dataframe tbody tr th:only-of-type {\n",
       "        vertical-align: middle;\n",
       "    }\n",
       "\n",
       "    .dataframe tbody tr th {\n",
       "        vertical-align: top;\n",
       "    }\n",
       "\n",
       "    .dataframe thead th {\n",
       "        text-align: right;\n",
       "    }\n",
       "</style>\n",
       "<table border=\"1\" class=\"dataframe\">\n",
       "  <thead>\n",
       "    <tr style=\"text-align: right;\">\n",
       "      <th></th>\n",
       "      <th>sales</th>\n",
       "    </tr>\n",
       "    <tr>\n",
       "      <th>order_date</th>\n",
       "      <th></th>\n",
       "    </tr>\n",
       "  </thead>\n",
       "  <tbody>\n",
       "    <tr>\n",
       "      <th>2016-03-31</th>\n",
       "      <td>24196.74</td>\n",
       "    </tr>\n",
       "    <tr>\n",
       "      <th>2016-06-30</th>\n",
       "      <td>24196.74</td>\n",
       "    </tr>\n",
       "    <tr>\n",
       "      <th>2016-09-30</th>\n",
       "      <td>24196.74</td>\n",
       "    </tr>\n",
       "    <tr>\n",
       "      <th>2016-12-31</th>\n",
       "      <td>24196.74</td>\n",
       "    </tr>\n",
       "  </tbody>\n",
       "</table>\n",
       "</div>"
      ],
      "text/plain": [
       "               sales\n",
       "order_date          \n",
       "2016-03-31  24196.74\n",
       "2016-06-30  24196.74\n",
       "2016-09-30  24196.74\n",
       "2016-12-31  24196.74"
      ]
     },
     "execution_count": 10,
     "metadata": {},
     "output_type": "execute_result"
    }
   ],
   "source": [
    "# Create a predictions dataframe using the simple average.\n",
    "\n",
    "predictions = make_static_predictions('sales', simple_avg, superstore_validate.index)\n",
    "predictions.head()"
   ]
  },
  {
   "cell_type": "code",
   "execution_count": 11,
   "id": "6f7a3ab1-8a03-4910-8ce7-577fb42a6ece",
   "metadata": {},
   "outputs": [
    {
     "data": {
      "text/html": [
       "<div>\n",
       "<style scoped>\n",
       "    .dataframe tbody tr th:only-of-type {\n",
       "        vertical-align: middle;\n",
       "    }\n",
       "\n",
       "    .dataframe tbody tr th {\n",
       "        vertical-align: top;\n",
       "    }\n",
       "\n",
       "    .dataframe thead th {\n",
       "        text-align: right;\n",
       "    }\n",
       "</style>\n",
       "<table border=\"1\" class=\"dataframe\">\n",
       "  <thead>\n",
       "    <tr style=\"text-align: right;\">\n",
       "      <th></th>\n",
       "      <th>model_type</th>\n",
       "      <th>target</th>\n",
       "      <th>rmse</th>\n",
       "    </tr>\n",
       "  </thead>\n",
       "  <tbody>\n",
       "    <tr>\n",
       "      <th>0</th>\n",
       "      <td>Last Observed Value</td>\n",
       "      <td>sales</td>\n",
       "      <td>8213.0</td>\n",
       "    </tr>\n",
       "    <tr>\n",
       "      <th>1</th>\n",
       "      <td>Simple Average</td>\n",
       "      <td>sales</td>\n",
       "      <td>7509.0</td>\n",
       "    </tr>\n",
       "  </tbody>\n",
       "</table>\n",
       "</div>"
      ],
      "text/plain": [
       "            model_type target    rmse\n",
       "0  Last Observed Value  sales  8213.0\n",
       "1       Simple Average  sales  7509.0"
      ]
     },
     "execution_count": 11,
     "metadata": {},
     "output_type": "execute_result"
    }
   ],
   "source": [
    "# Add the results to eval_df.\n",
    "\n",
    "eval_df = append_eval_df('Simple Average', 'sales', superstore_validate, predictions, eval_df)\n",
    "eval_df"
   ]
  },
  {
   "cell_type": "code",
   "execution_count": 12,
   "id": "61a4ed69-25e5-4508-b5c1-6d2421b5aab3",
   "metadata": {},
   "outputs": [
    {
     "data": {
      "image/png": "[encoded data removed]",
      "text/plain": [
       "<Figure size 864x288 with 1 Axes>"
      ]
     },
     "metadata": {
      "needs_background": "light"
     },
     "output_type": "display_data"
    }
   ],
   "source": [
    "# Visualize the results.\n",
    "\n",
    "plot_forecast('sales', superstore_train, superstore_validate, predictions)"
   ]
  },
  {
   "cell_type": "markdown",
   "id": "010a7dc5-adbc-4d46-812b-3f773dc0b902",
   "metadata": {},
   "source": [
    "### Moving Average\n",
    "\n",
    "Now we'll create various moving average forecasts. We'll do the following moving averages: 1 month, 1 quarter, half year, and full year."
   ]
  },
  {
   "cell_type": "code",
   "execution_count": 13,
   "id": "3581e228-eae9-44d8-a053-5242c1232323",
   "metadata": {},
   "outputs": [
    {
     "data": {
      "text/html": [
       "<div>\n",
       "<style scoped>\n",
       "    .dataframe tbody tr th:only-of-type {\n",
       "        vertical-align: middle;\n",
       "    }\n",
       "\n",
       "    .dataframe tbody tr th {\n",
       "        vertical-align: top;\n",
       "    }\n",
       "\n",
       "    .dataframe thead th {\n",
       "        text-align: right;\n",
       "    }\n",
       "</style>\n",
       "<table border=\"1\" class=\"dataframe\">\n",
       "  <thead>\n",
       "    <tr style=\"text-align: right;\">\n",
       "      <th></th>\n",
       "      <th>model_type</th>\n",
       "      <th>target</th>\n",
       "      <th>rmse</th>\n",
       "    </tr>\n",
       "  </thead>\n",
       "  <tbody>\n",
       "    <tr>\n",
       "      <th>0</th>\n",
       "      <td>Last Observed Value</td>\n",
       "      <td>sales</td>\n",
       "      <td>8213.0</td>\n",
       "    </tr>\n",
       "    <tr>\n",
       "      <th>1</th>\n",
       "      <td>Simple Average</td>\n",
       "      <td>sales</td>\n",
       "      <td>7509.0</td>\n",
       "    </tr>\n",
       "    <tr>\n",
       "      <th>2</th>\n",
       "      <td>Moving Average 1 Weeks</td>\n",
       "      <td>sales</td>\n",
       "      <td>8213.0</td>\n",
       "    </tr>\n",
       "    <tr>\n",
       "      <th>3</th>\n",
       "      <td>Moving Average 2 Weeks</td>\n",
       "      <td>sales</td>\n",
       "      <td>8551.0</td>\n",
       "    </tr>\n",
       "    <tr>\n",
       "      <th>4</th>\n",
       "      <td>Moving Average 4 Weeks</td>\n",
       "      <td>sales</td>\n",
       "      <td>7744.0</td>\n",
       "    </tr>\n",
       "  </tbody>\n",
       "</table>\n",
       "</div>"
      ],
      "text/plain": [
       "               model_type target    rmse\n",
       "0     Last Observed Value  sales  8213.0\n",
       "1          Simple Average  sales  7509.0\n",
       "2  Moving Average 1 Weeks  sales  8213.0\n",
       "3  Moving Average 2 Weeks  sales  8551.0\n",
       "4  Moving Average 4 Weeks  sales  7744.0"
      ]
     },
     "execution_count": 13,
     "metadata": {},
     "output_type": "execute_result"
    }
   ],
   "source": [
    "# For each period:\n",
    "# - Calculate the moving average\n",
    "# - Create the predictions dataframe\n",
    "# - Add the results to eval_df\n",
    "for period in periods:\n",
    "    moving_avg = round(superstore_train.sales.rolling(period).mean()[-1], 2)\n",
    "    predictions = make_static_predictions('sales', moving_avg, superstore_validate.index)\n",
    "    eval_df = append_eval_df(f'Moving Average {period} Weeks', 'sales', superstore_validate, predictions, eval_df)\n",
    "    \n",
    "eval_df"
   ]
  },
  {
   "cell_type": "markdown",
   "id": "fd19ebec-dffa-4752-a5ee-fc8450af735a",
   "metadata": {},
   "source": [
    "### Results\n",
    "\n",
    "For the overall total sales the simple average forecast provides the lowest RMSE value so this will be the baseline. We can determine this programmatically as well."
   ]
  },
  {
   "cell_type": "code",
   "execution_count": 14,
   "id": "3fdbe670-8d3f-437a-b8f7-269b777dccc6",
   "metadata": {},
   "outputs": [
    {
     "data": {
      "text/html": [
       "<div>\n",
       "<style scoped>\n",
       "    .dataframe tbody tr th:only-of-type {\n",
       "        vertical-align: middle;\n",
       "    }\n",
       "\n",
       "    .dataframe tbody tr th {\n",
       "        vertical-align: top;\n",
       "    }\n",
       "\n",
       "    .dataframe thead th {\n",
       "        text-align: right;\n",
       "    }\n",
       "</style>\n",
       "<table border=\"1\" class=\"dataframe\">\n",
       "  <thead>\n",
       "    <tr style=\"text-align: right;\">\n",
       "      <th></th>\n",
       "      <th>model_type</th>\n",
       "      <th>target</th>\n",
       "      <th>rmse</th>\n",
       "    </tr>\n",
       "  </thead>\n",
       "  <tbody>\n",
       "    <tr>\n",
       "      <th>1</th>\n",
       "      <td>Simple Average</td>\n",
       "      <td>sales</td>\n",
       "      <td>7509.0</td>\n",
       "    </tr>\n",
       "  </tbody>\n",
       "</table>\n",
       "</div>"
      ],
      "text/plain": [
       "       model_type target    rmse\n",
       "1  Simple Average  sales  7509.0"
      ]
     },
     "execution_count": 14,
     "metadata": {},
     "output_type": "execute_result"
    }
   ],
   "source": [
    "# Get the row with the minimum rmse value.\n",
    "\n",
    "eval_df[eval_df.rmse == eval_df.rmse.min()]"
   ]
  },
  {
   "cell_type": "markdown",
   "id": "e0110851-acc6-45e1-8ed7-26559497931d",
   "metadata": {},
   "source": [
    "### Throw it in a Function\n",
    "\n",
    "Finally, let's create a function that can determine the best baseline for us."
   ]
  },
  {
   "cell_type": "code",
   "execution_count": 15,
   "id": "ff205a61-8e27-4ee4-9331-0c5e6e8a3479",
   "metadata": {},
   "outputs": [],
   "source": [
    "# def establish_baseline(train, validate):\n",
    "#     forecast_values = {\n",
    "#         'Last Observed Value' : round(train.sales[-1], 2),\n",
    "#         'Simple Average' : round(train.sales.mean(), 2)\n",
    "#     }\n",
    "\n",
    "#     periods = [4, 12, 26, 52]\n",
    "#     for period in periods:\n",
    "#         forecast_values[f'Moving Average {period} Weeks'] = round(train.sales.rolling(period).mean()[-1], 2)\n",
    "\n",
    "#     predictions = {}\n",
    "#     for key, value in forecast_values.items():\n",
    "#         predictions[key] = make_static_predictions('sales', value, validate.index)\n",
    "\n",
    "#     eval_df = None\n",
    "#     for key, prediction in predictions.items():\n",
    "#         eval_df = append_eval_df(key, 'sales', validate, prediction, eval_df)\n",
    "\n",
    "#     return eval_df[eval_df.rmse == eval_df.rmse.min()]"
   ]
  },
  {
   "cell_type": "code",
   "execution_count": 16,
   "id": "322849b9-8902-4e17-a804-d8504358b703",
   "metadata": {},
   "outputs": [],
   "source": [
    "# Let's test it\n",
    "\n",
    "# establish_baseline(superstore_train, superstore_validate)"
   ]
  },
  {
   "cell_type": "code",
   "execution_count": 17,
   "id": "1a816ca4-fc1f-4e6e-95e9-2af8c5da5ab5",
   "metadata": {},
   "outputs": [
    {
     "data": {
      "text/html": [
       "<div>\n",
       "<style scoped>\n",
       "    .dataframe tbody tr th:only-of-type {\n",
       "        vertical-align: middle;\n",
       "    }\n",
       "\n",
       "    .dataframe tbody tr th {\n",
       "        vertical-align: top;\n",
       "    }\n",
       "\n",
       "    .dataframe thead th {\n",
       "        text-align: right;\n",
       "    }\n",
       "</style>\n",
       "<table border=\"1\" class=\"dataframe\">\n",
       "  <thead>\n",
       "    <tr style=\"text-align: right;\">\n",
       "      <th></th>\n",
       "      <th>model_type</th>\n",
       "      <th>target</th>\n",
       "      <th>rmse</th>\n",
       "    </tr>\n",
       "  </thead>\n",
       "  <tbody>\n",
       "    <tr>\n",
       "      <th>1</th>\n",
       "      <td>Simple Average</td>\n",
       "      <td>sales</td>\n",
       "      <td>7509.0</td>\n",
       "    </tr>\n",
       "  </tbody>\n",
       "</table>\n",
       "</div>"
      ],
      "text/plain": [
       "       model_type target    rmse\n",
       "1  Simple Average  sales  7509.0"
      ]
     },
     "execution_count": 17,
     "metadata": {},
     "output_type": "execute_result"
    }
   ],
   "source": [
    "# Now let's test it from the model.py file.\n",
    "\n",
    "eval_df = establish_baseline(superstore_train, superstore_validate, periods)\n",
    "eval_df"
   ]
  },
  {
   "cell_type": "markdown",
   "id": "1ad946f5-4c54-426c-a078-657058029330",
   "metadata": {},
   "source": [
    "---\n",
    "\n",
    "## Creating Different Forecasting Models\n",
    "\n",
    "Now that we have a baseline model we can try out some dynamic modeling strategies such as Holt's Linear Trend and FB Prophet.\n",
    "\n",
    "### Holt's Linear Trend\n",
    "\n",
    "Here we'll create a Holt model for forecasting sales."
   ]
  },
  {
   "cell_type": "code",
   "execution_count": 18,
   "id": "7fdeae4f-5f2b-4858-8a55-01784c1e5021",
   "metadata": {},
   "outputs": [
    {
     "name": "stderr",
     "output_type": "stream",
     "text": [
      "/usr/local/anaconda3/lib/python3.9/site-packages/statsmodels/tsa/holtwinters/model.py:427: FutureWarning: After 0.13 initialization must be handled at model creation\n",
      "  warnings.warn(\n"
     ]
    }
   ],
   "source": [
    "# Create the model\n",
    "\n",
    "model = Holt(superstore_train.sales, damped_trend = True)"
   ]
  },
  {
   "cell_type": "code",
   "execution_count": 19,
   "id": "1e089e57-03b9-4300-a5dc-81765fae1d6d",
   "metadata": {},
   "outputs": [
    {
     "name": "stderr",
     "output_type": "stream",
     "text": [
      "/usr/local/anaconda3/lib/python3.9/site-packages/statsmodels/tsa/holtwinters/model.py:920: ConvergenceWarning: Optimization failed to converge. Check mle_retvals.\n",
      "  warnings.warn(\n"
     ]
    }
   ],
   "source": [
    "# Fit the model\n",
    "\n",
    "model = model.fit()"
   ]
  },
  {
   "cell_type": "code",
   "execution_count": 20,
   "id": "59ca5f14-bd9b-4ebc-b7f6-b8394605ad34",
   "metadata": {},
   "outputs": [
    {
     "name": "stderr",
     "output_type": "stream",
     "text": [
      "/usr/local/anaconda3/lib/python3.9/site-packages/statsmodels/tsa/base/tsa_model.py:132: FutureWarning: The 'freq' argument in Timestamp is deprecated and will be removed in a future version.\n",
      "  date_key = Timestamp(key, freq=base_index.freq)\n"
     ]
    },
    {
     "data": {
      "text/plain": [
       "2016-03-31    34310.196437\n",
       "2016-06-30    37734.108164\n",
       "2016-09-30    41123.780773\n",
       "2016-12-31    44479.556657\n",
       "Freq: Q-DEC, dtype: float64"
      ]
     },
     "execution_count": 20,
     "metadata": {},
     "output_type": "execute_result"
    }
   ],
   "source": [
    "# Make predictions\n",
    "\n",
    "predictions = model.predict(\n",
    "    start = superstore_validate.index[0],\n",
    "    end = superstore_validate.index[-1]\n",
    ")\n",
    "predictions.head()"
   ]
  },
  {
   "cell_type": "code",
   "execution_count": 21,
   "id": "8f94e1e0-b7bf-4700-9bc4-a935593f67bc",
   "metadata": {},
   "outputs": [
    {
     "data": {
      "text/html": [
       "<div>\n",
       "<style scoped>\n",
       "    .dataframe tbody tr th:only-of-type {\n",
       "        vertical-align: middle;\n",
       "    }\n",
       "\n",
       "    .dataframe tbody tr th {\n",
       "        vertical-align: top;\n",
       "    }\n",
       "\n",
       "    .dataframe thead th {\n",
       "        text-align: right;\n",
       "    }\n",
       "</style>\n",
       "<table border=\"1\" class=\"dataframe\">\n",
       "  <thead>\n",
       "    <tr style=\"text-align: right;\">\n",
       "      <th></th>\n",
       "      <th>sales</th>\n",
       "    </tr>\n",
       "  </thead>\n",
       "  <tbody>\n",
       "    <tr>\n",
       "      <th>2016-03-31</th>\n",
       "      <td>34310.196437</td>\n",
       "    </tr>\n",
       "    <tr>\n",
       "      <th>2016-06-30</th>\n",
       "      <td>37734.108164</td>\n",
       "    </tr>\n",
       "    <tr>\n",
       "      <th>2016-09-30</th>\n",
       "      <td>41123.780773</td>\n",
       "    </tr>\n",
       "    <tr>\n",
       "      <th>2016-12-31</th>\n",
       "      <td>44479.556657</td>\n",
       "    </tr>\n",
       "  </tbody>\n",
       "</table>\n",
       "</div>"
      ],
      "text/plain": [
       "                   sales\n",
       "2016-03-31  34310.196437\n",
       "2016-06-30  37734.108164\n",
       "2016-09-30  41123.780773\n",
       "2016-12-31  44479.556657"
      ]
     },
     "execution_count": 21,
     "metadata": {},
     "output_type": "execute_result"
    }
   ],
   "source": [
    "# Make predictions a dataframe\n",
    "\n",
    "predictions = pd.DataFrame(predictions, columns = ['sales'], index = predictions.index)\n",
    "predictions.head()"
   ]
  },
  {
   "cell_type": "code",
   "execution_count": 22,
   "id": "a7e93d1a-549d-47db-8bc3-bba780a1b807",
   "metadata": {},
   "outputs": [
    {
     "data": {
      "text/html": [
       "<div>\n",
       "<style scoped>\n",
       "    .dataframe tbody tr th:only-of-type {\n",
       "        vertical-align: middle;\n",
       "    }\n",
       "\n",
       "    .dataframe tbody tr th {\n",
       "        vertical-align: top;\n",
       "    }\n",
       "\n",
       "    .dataframe thead th {\n",
       "        text-align: right;\n",
       "    }\n",
       "</style>\n",
       "<table border=\"1\" class=\"dataframe\">\n",
       "  <thead>\n",
       "    <tr style=\"text-align: right;\">\n",
       "      <th></th>\n",
       "      <th>model_type</th>\n",
       "      <th>target</th>\n",
       "      <th>rmse</th>\n",
       "    </tr>\n",
       "  </thead>\n",
       "  <tbody>\n",
       "    <tr>\n",
       "      <th>0</th>\n",
       "      <td>Simple Average</td>\n",
       "      <td>sales</td>\n",
       "      <td>7509.0</td>\n",
       "    </tr>\n",
       "    <tr>\n",
       "      <th>1</th>\n",
       "      <td>Holt</td>\n",
       "      <td>sales</td>\n",
       "      <td>13539.0</td>\n",
       "    </tr>\n",
       "  </tbody>\n",
       "</table>\n",
       "</div>"
      ],
      "text/plain": [
       "       model_type target     rmse\n",
       "0  Simple Average  sales   7509.0\n",
       "1            Holt  sales  13539.0"
      ]
     },
     "execution_count": 22,
     "metadata": {},
     "output_type": "execute_result"
    }
   ],
   "source": [
    "eval_df = append_eval_df('Holt', 'sales', superstore_validate, predictions, eval_df)\n",
    "eval_df"
   ]
  },
  {
   "cell_type": "code",
   "execution_count": 23,
   "id": "ad5993c8-a198-4dec-bd8c-d023b41dca62",
   "metadata": {},
   "outputs": [
    {
     "data": {
      "image/png": "[encoded data removed]",
      "text/plain": [
       "<Figure size 864x288 with 1 Axes>"
      ]
     },
     "metadata": {
      "needs_background": "light"
     },
     "output_type": "display_data"
    }
   ],
   "source": [
    "plot_forecast('sales', superstore_train, superstore_validate, predictions)"
   ]
  },
  {
   "cell_type": "markdown",
   "id": "3b54f718-eda0-40eb-a5ef-4b8d7b741a68",
   "metadata": {},
   "source": [
    "This model performs far worse than the baseline.\n",
    "\n",
    "### FB Prophet\n",
    "\n",
    "Now let's try a Prophet model."
   ]
  },
  {
   "cell_type": "code",
   "execution_count": 24,
   "id": "ecbab71f-fca9-4931-907b-846aaa0aae0c",
   "metadata": {},
   "outputs": [],
   "source": [
    "# Create the model\n",
    "\n",
    "model = Prophet()"
   ]
  },
  {
   "cell_type": "code",
   "execution_count": 25,
   "id": "7ed240bf-15f1-4fa4-94f0-8afdf08971c2",
   "metadata": {},
   "outputs": [
    {
     "name": "stderr",
     "output_type": "stream",
     "text": [
      "INFO:prophet:Disabling yearly seasonality. Run prophet with yearly_seasonality=True to override this.\n",
      "INFO:prophet:Disabling weekly seasonality. Run prophet with weekly_seasonality=True to override this.\n",
      "INFO:prophet:Disabling daily seasonality. Run prophet with daily_seasonality=True to override this.\n",
      "INFO:prophet:n_changepoints greater than number of observations. Using 5.\n"
     ]
    },
    {
     "name": "stdout",
     "output_type": "stream",
     "text": [
      "\n"
     ]
    },
    {
     "data": {
      "text/plain": [
       "<prophet.forecaster.Prophet at 0x7fc8835bd730>"
      ]
     },
     "execution_count": 25,
     "metadata": {},
     "output_type": "execute_result"
    },
    {
     "name": "stdout",
     "output_type": "stream",
     "text": [
      "Initial log joint probability = -4.51096\n",
      "Iteration  1. Log joint probability =    3.20768. Improved by 7.71863.\n",
      "Iteration  2. Log joint probability =    5.41204. Improved by 2.20436.\n",
      "Iteration  3. Log joint probability =    6.02108. Improved by 0.609046.\n",
      "Iteration  4. Log joint probability =    6.12917. Improved by 0.10809.\n",
      "Iteration  5. Log joint probability =     6.1552. Improved by 0.0260284.\n",
      "Iteration  6. Log joint probability =    6.15964. Improved by 0.00443426.\n",
      "Iteration  7. Log joint probability =    6.15966. Improved by 2.21161e-05.\n",
      "Iteration  8. Log joint probability =    6.16281. Improved by 0.00315163.\n",
      "Iteration  9. Log joint probability =    6.16308. Improved by 0.000266652.\n",
      "Iteration 10. Log joint probability =    6.16394. Improved by 0.00086515.\n",
      "Iteration 11. Log joint probability =    6.16419. Improved by 0.000245701.\n",
      "Iteration 12. Log joint probability =    6.16432. Improved by 0.000128978.\n",
      "Iteration 13. Log joint probability =    6.16466. Improved by 0.000343833.\n",
      "Iteration 14. Log joint probability =    6.16473. Improved by 7.07438e-05.\n",
      "Iteration 15. Log joint probability =    6.16477. Improved by 3.65922e-05.\n",
      "Iteration 16. Log joint probability =    6.16478. Improved by 1.41625e-05.\n",
      "Iteration 17. Log joint probability =    6.16479. Improved by 9.80523e-06.\n",
      "Iteration 18. Log joint probability =     6.1648. Improved by 5.06665e-06.\n",
      "Iteration 19. Log joint probability =     6.1648. Improved by 1.03406e-06.\n",
      "Iteration 20. Log joint probability =     6.1648. Improved by 4.01276e-07.\n",
      "Iteration 21. Log joint probability =     6.1648. Improved by 3.19464e-07.\n",
      "Iteration 22. Log joint probability =     6.1648. Improved by 7.07095e-07.\n",
      "Iteration 23. Log joint probability =     6.1648. Improved by 1.37494e-07.\n",
      "Iteration 24. Log joint probability =     6.1648. Improved by 1.45072e-07.\n",
      "Iteration 25. Log joint probability =     6.1648. Improved by 7.64436e-08.\n",
      "Iteration 26. Log joint probability =     6.1648. Improved by 4.77779e-08.\n",
      "Iteration 27. Log joint probability =     6.1648. Improved by 1.88793e-09.\n"
     ]
    }
   ],
   "source": [
    "# Fit the model\n",
    "\n",
    "model.fit(pd.DataFrame({\n",
    "    'ds' : superstore_train.index,\n",
    "    'y' : superstore_train.sales\n",
    "}))"
   ]
  },
  {
   "cell_type": "code",
   "execution_count": 26,
   "id": "e6471589-36ff-4edd-84a0-b711c7a48c04",
   "metadata": {},
   "outputs": [
    {
     "name": "stdout",
     "output_type": "stream",
     "text": [
      "<class 'pandas.core.frame.DataFrame'>\n",
      "DatetimeIndex: 12 entries, 2014-03-31 to 2016-12-31\n",
      "Freq: Q-DEC\n",
      "Data columns (total 1 columns):\n",
      " #   Column  Non-Null Count  Dtype  \n",
      "---  ------  --------------  -----  \n",
      " 0   sales   12 non-null     float64\n",
      "dtypes: float64(1)\n",
      "memory usage: 192.0 bytes\n"
     ]
    }
   ],
   "source": [
    "# Make predictions\n",
    "\n",
    "future = model.make_future_dataframe(365)\n",
    "results = model.predict(future)\n",
    "predictions = results[['ds', 'yhat']].set_index('ds')\n",
    "predictions.columns = ['sales']\n",
    "predictions = predictions.resample(resample_period).mean()\n",
    "predictions.info()"
   ]
  },
  {
   "cell_type": "code",
   "execution_count": 27,
   "id": "aed51b7d-c976-42a1-a800-dc9d29feb1da",
   "metadata": {},
   "outputs": [
    {
     "name": "stdout",
     "output_type": "stream",
     "text": [
      "<class 'pandas.core.frame.DataFrame'>\n",
      "DatetimeIndex: 4 entries, 2016-03-31 to 2016-12-31\n",
      "Freq: Q-DEC\n",
      "Data columns (total 1 columns):\n",
      " #   Column  Non-Null Count  Dtype  \n",
      "---  ------  --------------  -----  \n",
      " 0   sales   4 non-null      float64\n",
      "dtypes: float64(1)\n",
      "memory usage: 64.0 bytes\n"
     ]
    }
   ],
   "source": [
    "predictions.loc['2016'].info()"
   ]
  },
  {
   "cell_type": "code",
   "execution_count": 28,
   "id": "7572e85a-1d0a-484a-bc9a-8e43a1906dfa",
   "metadata": {},
   "outputs": [
    {
     "data": {
      "text/html": [
       "<div>\n",
       "<style scoped>\n",
       "    .dataframe tbody tr th:only-of-type {\n",
       "        vertical-align: middle;\n",
       "    }\n",
       "\n",
       "    .dataframe tbody tr th {\n",
       "        vertical-align: top;\n",
       "    }\n",
       "\n",
       "    .dataframe thead th {\n",
       "        text-align: right;\n",
       "    }\n",
       "</style>\n",
       "<table border=\"1\" class=\"dataframe\">\n",
       "  <thead>\n",
       "    <tr style=\"text-align: right;\">\n",
       "      <th></th>\n",
       "      <th>model_type</th>\n",
       "      <th>target</th>\n",
       "      <th>rmse</th>\n",
       "    </tr>\n",
       "  </thead>\n",
       "  <tbody>\n",
       "    <tr>\n",
       "      <th>0</th>\n",
       "      <td>Simple Average</td>\n",
       "      <td>sales</td>\n",
       "      <td>7509.0</td>\n",
       "    </tr>\n",
       "    <tr>\n",
       "      <th>1</th>\n",
       "      <td>Holt</td>\n",
       "      <td>sales</td>\n",
       "      <td>13539.0</td>\n",
       "    </tr>\n",
       "    <tr>\n",
       "      <th>2</th>\n",
       "      <td>Prophet</td>\n",
       "      <td>sales</td>\n",
       "      <td>8472.0</td>\n",
       "    </tr>\n",
       "  </tbody>\n",
       "</table>\n",
       "</div>"
      ],
      "text/plain": [
       "       model_type target     rmse\n",
       "0  Simple Average  sales   7509.0\n",
       "1            Holt  sales  13539.0\n",
       "2         Prophet  sales   8472.0"
      ]
     },
     "execution_count": 28,
     "metadata": {},
     "output_type": "execute_result"
    }
   ],
   "source": [
    "eval_df = append_eval_df('Prophet', 'sales', superstore_validate, predictions.loc['2016'], eval_df)\n",
    "eval_df"
   ]
  },
  {
   "cell_type": "code",
   "execution_count": 29,
   "id": "1eac3510-75da-4ff1-8e52-31a5adc6b45f",
   "metadata": {},
   "outputs": [
    {
     "data": {
      "image/png": "[encoded data removed]",
      "text/plain": [
       "<Figure size 864x288 with 1 Axes>"
      ]
     },
     "metadata": {
      "needs_background": "light"
     },
     "output_type": "display_data"
    }
   ],
   "source": [
    "plot_forecast('sales', superstore_train, superstore_validate, predictions.loc['2016'])"
   ]
  },
  {
   "cell_type": "markdown",
   "id": "2954f3d4-caf5-405d-9a37-b3634289d125",
   "metadata": {},
   "source": [
    "Prophet also does not beat the baseline. We will likely need to narrow down the data by some category that will provide clearer insights into the sales trends. Without any seasonality in the data it's difficult to create an accurate model that does more than forecast average sales figures.\n",
    "\n",
    "### Previous Cycle\n",
    "\n",
    "Let's try one more strategy and use the previous cycle to predict the next one."
   ]
  },
  {
   "cell_type": "code",
   "execution_count": 30,
   "id": "e36276c1-f315-49e9-908a-8f99669d766d",
   "metadata": {},
   "outputs": [],
   "source": [
    "predictions = superstore_train.loc['2015'] + superstore_train.diff(year_size).mean()\n",
    "predictions.index = superstore_validate.index"
   ]
  },
  {
   "cell_type": "code",
   "execution_count": 31,
   "id": "819d661c-ea65-470e-95b5-e9d82b6130ea",
   "metadata": {},
   "outputs": [
    {
     "data": {
      "text/html": [
       "<div>\n",
       "<style scoped>\n",
       "    .dataframe tbody tr th:only-of-type {\n",
       "        vertical-align: middle;\n",
       "    }\n",
       "\n",
       "    .dataframe tbody tr th {\n",
       "        vertical-align: top;\n",
       "    }\n",
       "\n",
       "    .dataframe thead th {\n",
       "        text-align: right;\n",
       "    }\n",
       "</style>\n",
       "<table border=\"1\" class=\"dataframe\">\n",
       "  <thead>\n",
       "    <tr style=\"text-align: right;\">\n",
       "      <th></th>\n",
       "      <th>model_type</th>\n",
       "      <th>target</th>\n",
       "      <th>rmse</th>\n",
       "    </tr>\n",
       "  </thead>\n",
       "  <tbody>\n",
       "    <tr>\n",
       "      <th>0</th>\n",
       "      <td>Simple Average</td>\n",
       "      <td>sales</td>\n",
       "      <td>7509.0</td>\n",
       "    </tr>\n",
       "    <tr>\n",
       "      <th>1</th>\n",
       "      <td>Holt</td>\n",
       "      <td>sales</td>\n",
       "      <td>13539.0</td>\n",
       "    </tr>\n",
       "    <tr>\n",
       "      <th>2</th>\n",
       "      <td>Prophet</td>\n",
       "      <td>sales</td>\n",
       "      <td>8472.0</td>\n",
       "    </tr>\n",
       "    <tr>\n",
       "      <th>3</th>\n",
       "      <td>Previous Cycle</td>\n",
       "      <td>sales</td>\n",
       "      <td>11007.0</td>\n",
       "    </tr>\n",
       "  </tbody>\n",
       "</table>\n",
       "</div>"
      ],
      "text/plain": [
       "       model_type target     rmse\n",
       "0  Simple Average  sales   7509.0\n",
       "1            Holt  sales  13539.0\n",
       "2         Prophet  sales   8472.0\n",
       "3  Previous Cycle  sales  11007.0"
      ]
     },
     "execution_count": 31,
     "metadata": {},
     "output_type": "execute_result"
    }
   ],
   "source": [
    "eval_df = append_eval_df('Previous Cycle', 'sales', superstore_validate, predictions, eval_df)\n",
    "eval_df"
   ]
  },
  {
   "cell_type": "code",
   "execution_count": 32,
   "id": "00978487-cef2-4abc-8dc4-26bb1a3ce6c1",
   "metadata": {},
   "outputs": [
    {
     "data": {
      "image/png": "[encoded data removed]",
      "text/plain": [
       "<Figure size 864x288 with 1 Axes>"
      ]
     },
     "metadata": {
      "needs_background": "light"
     },
     "output_type": "display_data"
    }
   ],
   "source": [
    "plot_forecast('sales', superstore_train, superstore_validate, predictions)"
   ]
  },
  {
   "cell_type": "markdown",
   "id": "8aed5feb-9d25-4516-8c39-52e6e14164ae",
   "metadata": {},
   "source": [
    "---\n",
    "\n",
    "## Ensemble Model: A Model Per Region\n",
    "\n",
    "In exploration we noticed that there is a little more seasonality when filtered by region. So here we will try to build an ensemble model where we have a sales forecast for each region and then combine the results to make a total sales forecast.\n",
    "\n",
    "### Simple Average\n",
    "\n",
    "Since the simple average provided the best results for the total sales model we'll create a simple average model here as well."
   ]
  },
  {
   "cell_type": "code",
   "execution_count": 33,
   "id": "6eb1d34b-c53e-49ed-b196-ff0505d47b39",
   "metadata": {},
   "outputs": [
    {
     "data": {
      "text/html": [
       "<div>\n",
       "<style scoped>\n",
       "    .dataframe tbody tr th:only-of-type {\n",
       "        vertical-align: middle;\n",
       "    }\n",
       "\n",
       "    .dataframe tbody tr th {\n",
       "        vertical-align: top;\n",
       "    }\n",
       "\n",
       "    .dataframe thead th {\n",
       "        text-align: right;\n",
       "    }\n",
       "</style>\n",
       "<table border=\"1\" class=\"dataframe\">\n",
       "  <thead>\n",
       "    <tr style=\"text-align: right;\">\n",
       "      <th></th>\n",
       "      <th>sales</th>\n",
       "    </tr>\n",
       "    <tr>\n",
       "      <th>order_date</th>\n",
       "      <th></th>\n",
       "    </tr>\n",
       "  </thead>\n",
       "  <tbody>\n",
       "    <tr>\n",
       "      <th>2016-03-31</th>\n",
       "      <td>24196.742338</td>\n",
       "    </tr>\n",
       "    <tr>\n",
       "      <th>2016-06-30</th>\n",
       "      <td>24196.742338</td>\n",
       "    </tr>\n",
       "    <tr>\n",
       "      <th>2016-09-30</th>\n",
       "      <td>24196.742338</td>\n",
       "    </tr>\n",
       "    <tr>\n",
       "      <th>2016-12-31</th>\n",
       "      <td>24196.742338</td>\n",
       "    </tr>\n",
       "  </tbody>\n",
       "</table>\n",
       "</div>"
      ],
      "text/plain": [
       "                   sales\n",
       "order_date              \n",
       "2016-03-31  24196.742338\n",
       "2016-06-30  24196.742338\n",
       "2016-09-30  24196.742338\n",
       "2016-12-31  24196.742338"
      ]
     },
     "execution_count": 33,
     "metadata": {},
     "output_type": "execute_result"
    }
   ],
   "source": [
    "# Here we are using the model module to create an ensemble model for us.\n",
    "# This will create simple average models for each region and then combine the results.\n",
    "\n",
    "predictions = create_ensemble_predictions(\n",
    "    [store_east_train, store_west_train, store_central_train, store_south_train],\n",
    "    [store_east_validate, store_west_validate, store_central_validate, store_south_validate],\n",
    "    'sales',\n",
    "    simple_average_model\n",
    ")\n",
    "predictions.head()"
   ]
  },
  {
   "cell_type": "code",
   "execution_count": 34,
   "id": "e2e3110b-5065-4f26-93fe-4499a112b0a6",
   "metadata": {},
   "outputs": [
    {
     "data": {
      "text/html": [
       "<div>\n",
       "<style scoped>\n",
       "    .dataframe tbody tr th:only-of-type {\n",
       "        vertical-align: middle;\n",
       "    }\n",
       "\n",
       "    .dataframe tbody tr th {\n",
       "        vertical-align: top;\n",
       "    }\n",
       "\n",
       "    .dataframe thead th {\n",
       "        text-align: right;\n",
       "    }\n",
       "</style>\n",
       "<table border=\"1\" class=\"dataframe\">\n",
       "  <thead>\n",
       "    <tr style=\"text-align: right;\">\n",
       "      <th></th>\n",
       "      <th>model_type</th>\n",
       "      <th>target</th>\n",
       "      <th>rmse</th>\n",
       "    </tr>\n",
       "  </thead>\n",
       "  <tbody>\n",
       "    <tr>\n",
       "      <th>0</th>\n",
       "      <td>Simple Average</td>\n",
       "      <td>sales</td>\n",
       "      <td>7509.0</td>\n",
       "    </tr>\n",
       "  </tbody>\n",
       "</table>\n",
       "</div>"
      ],
      "text/plain": [
       "       model_type target    rmse\n",
       "0  Simple Average  sales  7509.0"
      ]
     },
     "execution_count": 34,
     "metadata": {},
     "output_type": "execute_result"
    }
   ],
   "source": [
    "region_eval_df = append_eval_df('Simple Average', 'sales', superstore_validate, predictions)\n",
    "region_eval_df"
   ]
  },
  {
   "cell_type": "markdown",
   "id": "eafd0ca4-1175-444c-be5e-5f078be0736e",
   "metadata": {},
   "source": [
    "### Holt's Linear Trend\n",
    "\n",
    "Now let's try a Holt ensemble model."
   ]
  },
  {
   "cell_type": "code",
   "execution_count": 35,
   "id": "5d0ad75b-408a-4653-a909-4fe1ca1a1dbf",
   "metadata": {},
   "outputs": [
    {
     "name": "stderr",
     "output_type": "stream",
     "text": [
      "/usr/local/anaconda3/lib/python3.9/site-packages/statsmodels/tsa/holtwinters/model.py:427: FutureWarning: After 0.13 initialization must be handled at model creation\n",
      "  warnings.warn(\n",
      "/usr/local/anaconda3/lib/python3.9/site-packages/statsmodels/tsa/holtwinters/model.py:920: ConvergenceWarning: Optimization failed to converge. Check mle_retvals.\n",
      "  warnings.warn(\n",
      "/usr/local/anaconda3/lib/python3.9/site-packages/statsmodels/tsa/base/tsa_model.py:132: FutureWarning: The 'freq' argument in Timestamp is deprecated and will be removed in a future version.\n",
      "  date_key = Timestamp(key, freq=base_index.freq)\n",
      "/usr/local/anaconda3/lib/python3.9/site-packages/statsmodels/tsa/holtwinters/model.py:920: ConvergenceWarning: Optimization failed to converge. Check mle_retvals.\n",
      "  warnings.warn(\n",
      "/usr/local/anaconda3/lib/python3.9/site-packages/statsmodels/tsa/holtwinters/model.py:920: ConvergenceWarning: Optimization failed to converge. Check mle_retvals.\n",
      "  warnings.warn(\n"
     ]
    },
    {
     "data": {
      "text/html": [
       "<div>\n",
       "<style scoped>\n",
       "    .dataframe tbody tr th:only-of-type {\n",
       "        vertical-align: middle;\n",
       "    }\n",
       "\n",
       "    .dataframe tbody tr th {\n",
       "        vertical-align: top;\n",
       "    }\n",
       "\n",
       "    .dataframe thead th {\n",
       "        text-align: right;\n",
       "    }\n",
       "</style>\n",
       "<table border=\"1\" class=\"dataframe\">\n",
       "  <thead>\n",
       "    <tr style=\"text-align: right;\">\n",
       "      <th></th>\n",
       "      <th>sales</th>\n",
       "    </tr>\n",
       "  </thead>\n",
       "  <tbody>\n",
       "    <tr>\n",
       "      <th>2016-03-31</th>\n",
       "      <td>39913.416209</td>\n",
       "    </tr>\n",
       "    <tr>\n",
       "      <th>2016-06-30</th>\n",
       "      <td>45485.540436</td>\n",
       "    </tr>\n",
       "    <tr>\n",
       "      <th>2016-09-30</th>\n",
       "      <td>51001.943065</td>\n",
       "    </tr>\n",
       "    <tr>\n",
       "      <th>2016-12-31</th>\n",
       "      <td>56463.181316</td>\n",
       "    </tr>\n",
       "  </tbody>\n",
       "</table>\n",
       "</div>"
      ],
      "text/plain": [
       "                   sales\n",
       "2016-03-31  39913.416209\n",
       "2016-06-30  45485.540436\n",
       "2016-09-30  51001.943065\n",
       "2016-12-31  56463.181316"
      ]
     },
     "execution_count": 35,
     "metadata": {},
     "output_type": "execute_result"
    }
   ],
   "source": [
    "# Here we are using the model module to create an ensemble model for us.\n",
    "# This will create Holt's linear trend models for each region and then combine the results.\n",
    "\n",
    "predictions = create_ensemble_predictions(\n",
    "    [store_east_train, store_west_train, store_central_train, store_south_train],\n",
    "    [store_east_validate, store_west_validate, store_central_validate, store_south_validate],\n",
    "    'sales',\n",
    "    holt_model\n",
    ")\n",
    "predictions.head()"
   ]
  },
  {
   "cell_type": "code",
   "execution_count": 36,
   "id": "e815c740-a60b-4a9f-86fc-a69971ac2084",
   "metadata": {},
   "outputs": [
    {
     "data": {
      "text/html": [
       "<div>\n",
       "<style scoped>\n",
       "    .dataframe tbody tr th:only-of-type {\n",
       "        vertical-align: middle;\n",
       "    }\n",
       "\n",
       "    .dataframe tbody tr th {\n",
       "        vertical-align: top;\n",
       "    }\n",
       "\n",
       "    .dataframe thead th {\n",
       "        text-align: right;\n",
       "    }\n",
       "</style>\n",
       "<table border=\"1\" class=\"dataframe\">\n",
       "  <thead>\n",
       "    <tr style=\"text-align: right;\">\n",
       "      <th></th>\n",
       "      <th>model_type</th>\n",
       "      <th>target</th>\n",
       "      <th>rmse</th>\n",
       "    </tr>\n",
       "  </thead>\n",
       "  <tbody>\n",
       "    <tr>\n",
       "      <th>0</th>\n",
       "      <td>Simple Average</td>\n",
       "      <td>sales</td>\n",
       "      <td>7509.0</td>\n",
       "    </tr>\n",
       "    <tr>\n",
       "      <th>1</th>\n",
       "      <td>Holt</td>\n",
       "      <td>sales</td>\n",
       "      <td>21942.0</td>\n",
       "    </tr>\n",
       "  </tbody>\n",
       "</table>\n",
       "</div>"
      ],
      "text/plain": [
       "       model_type target     rmse\n",
       "0  Simple Average  sales   7509.0\n",
       "1            Holt  sales  21942.0"
      ]
     },
     "execution_count": 36,
     "metadata": {},
     "output_type": "execute_result"
    }
   ],
   "source": [
    "region_eval_df = append_eval_df('Holt', 'sales', superstore_validate, predictions, region_eval_df)\n",
    "region_eval_df"
   ]
  },
  {
   "cell_type": "markdown",
   "id": "072d51f9-733d-4ad1-9f4c-01ca8234bf18",
   "metadata": {},
   "source": [
    "### FB Prophet\n",
    "\n",
    "Next, an ensemble model using Prophet."
   ]
  },
  {
   "cell_type": "code",
   "execution_count": 37,
   "id": "146937b5-8784-4cc4-8b7d-e44603c6c7da",
   "metadata": {},
   "outputs": [
    {
     "name": "stderr",
     "output_type": "stream",
     "text": [
      "INFO:prophet:Disabling yearly seasonality. Run prophet with yearly_seasonality=True to override this.\n",
      "INFO:prophet:Disabling weekly seasonality. Run prophet with weekly_seasonality=True to override this.\n",
      "INFO:prophet:Disabling daily seasonality. Run prophet with daily_seasonality=True to override this.\n",
      "INFO:prophet:n_changepoints greater than number of observations. Using 5.\n"
     ]
    },
    {
     "name": "stdout",
     "output_type": "stream",
     "text": [
      "\n",
      "Initial log joint probability = -4.31401\n",
      "Iteration  1. Log joint probability =    4.07672. Improved by 8.39073.\n",
      "Iteration  2. Log joint probability =    7.88481. Improved by 3.8081.\n",
      "Iteration  3. Log joint probability =    8.78012. Improved by 0.895309.\n",
      "Iteration  4. Log joint probability =    8.80203. Improved by 0.0219081.\n",
      "Iteration  5. Log joint probability =    8.80432. Improved by 0.00228554.\n",
      "Iteration  6. Log joint probability =    8.80931. Improved by 0.00499144.\n",
      "Iteration  7. Log joint probability =     8.8252. Improved by 0.0158897.\n",
      "Iteration  8. Log joint probability =    8.82543. Improved by 0.000233771.\n",
      "Iteration  9. Log joint probability =    8.82588. Improved by 0.000450556.\n",
      "Iteration 10. Log joint probability =    8.82727. Improved by 0.00139095.\n",
      "Iteration 11. Log joint probability =    8.82746. Improved by 0.000189056.\n",
      "Iteration 12. Log joint probability =    8.82763. Improved by 0.0001632.\n",
      "Iteration 13. Log joint probability =    8.82771. Improved by 8.73982e-05.\n",
      "Iteration 14. Log joint probability =    8.82782. Improved by 0.000108155.\n",
      "Iteration 15. Log joint probability =    8.82783. Improved by 6.67255e-06.\n",
      "Iteration 16. Log joint probability =    8.82784. Improved by 1.02342e-05.\n",
      "Iteration 17. Log joint probability =    8.82786. Improved by 2.39452e-05.\n",
      "Iteration 18. Log joint probability =    8.82787. Improved by 2.97277e-06.\n",
      "Iteration 19. Log joint probability =    8.82787. Improved by 3.37221e-06.\n",
      "Iteration 20. Log joint probability =    8.82787. Improved by 6.08192e-07.\n",
      "Iteration 21. Log joint probability =    8.82787. Improved by 3.55565e-06.\n",
      "Iteration 22. Log joint probability =    8.82787. Improved by 1.59986e-09.\n"
     ]
    },
    {
     "name": "stderr",
     "output_type": "stream",
     "text": [
      "INFO:prophet:Disabling yearly seasonality. Run prophet with yearly_seasonality=True to override this.\n",
      "INFO:prophet:Disabling weekly seasonality. Run prophet with weekly_seasonality=True to override this.\n",
      "INFO:prophet:Disabling daily seasonality. Run prophet with daily_seasonality=True to override this.\n",
      "INFO:prophet:n_changepoints greater than number of observations. Using 5.\n"
     ]
    },
    {
     "name": "stdout",
     "output_type": "stream",
     "text": [
      "\n",
      "Initial log joint probability = -4.48491\n",
      "Iteration  1. Log joint probability =    3.19892. Improved by 7.68383.\n",
      "Iteration  2. Log joint probability =    5.69899. Improved by 2.50007.\n",
      "Iteration  3. Log joint probability =    6.04394. Improved by 0.344946.\n",
      "Iteration  4. Log joint probability =    6.09382. Improved by 0.0498799.\n",
      "Iteration  5. Log joint probability =    6.11885. Improved by 0.0250271.\n",
      "Iteration  6. Log joint probability =    6.12306. Improved by 0.00421268.\n",
      "Iteration  7. Log joint probability =    6.12318. Improved by 0.000116642.\n",
      "Iteration  8. Log joint probability =    6.12631. Improved by 0.00313057.\n",
      "Iteration  9. Log joint probability =    6.12674. Improved by 0.000437277.\n",
      "Iteration 10. Log joint probability =      6.127. Improved by 0.000251018.\n",
      "Iteration 11. Log joint probability =    6.12776. Improved by 0.00076546.\n",
      "Iteration 12. Log joint probability =    6.12781. Improved by 5.30973e-05.\n",
      "Iteration 13. Log joint probability =    6.12784. Improved by 3.113e-05.\n",
      "Iteration 14. Log joint probability =    6.12808. Improved by 0.000233157.\n",
      "Iteration 15. Log joint probability =    6.12811. Improved by 2.99154e-05.\n",
      "Iteration 16. Log joint probability =    6.12812. Improved by 1.67618e-05.\n",
      "Iteration 17. Log joint probability =    6.12814. Improved by 1.31481e-05.\n",
      "Iteration 18. Log joint probability =    6.12814. Improved by 6.75126e-06.\n",
      "Iteration 19. Log joint probability =    6.12815. Improved by 5.17289e-07.\n",
      "Iteration 20. Log joint probability =    6.12815. Improved by 6.49567e-07.\n",
      "Iteration 21. Log joint probability =    6.12815. Improved by 4.44725e-06.\n",
      "Iteration 22. Log joint probability =    6.12815. Improved by 4.34051e-07.\n",
      "Iteration 23. Log joint probability =    6.12815. Improved by 2.02665e-06.\n",
      "Iteration 24. Log joint probability =    6.12815. Improved by 5.28293e-07.\n",
      "Iteration 25. Log joint probability =    6.12815. Improved by 8.60246e-07.\n",
      "Iteration 26. Log joint probability =    6.12815. Improved by 1.69578e-07.\n",
      "Iteration 27. Log joint probability =    6.12815. Improved by 6.67313e-07.\n",
      "Iteration 28. Log joint probability =    6.12816. Improved by 1.66222e-07.\n",
      "Iteration 29. Log joint probability =    6.12816. Improved by 4.71705e-08.\n",
      "Iteration 30. Log joint probability =    6.12816. Improved by 8.08514e-08.\n",
      "Iteration 31. Log joint probability =    6.12816. Improved by 1.17445e-07.\n",
      "Iteration 32. Log joint probability =    6.12816. Improved by 9.35945e-09.\n"
     ]
    },
    {
     "name": "stderr",
     "output_type": "stream",
     "text": [
      "INFO:prophet:Disabling yearly seasonality. Run prophet with yearly_seasonality=True to override this.\n",
      "INFO:prophet:Disabling weekly seasonality. Run prophet with weekly_seasonality=True to override this.\n",
      "INFO:prophet:Disabling daily seasonality. Run prophet with daily_seasonality=True to override this.\n",
      "INFO:prophet:n_changepoints greater than number of observations. Using 5.\n"
     ]
    },
    {
     "name": "stdout",
     "output_type": "stream",
     "text": [
      "\n",
      "Initial log joint probability = -4.29523\n",
      "Iteration  1. Log joint probability =    6.39439. Improved by 10.6896.\n",
      "Iteration  2. Log joint probability =    6.55663. Improved by 0.162243.\n",
      "Iteration  3. Log joint probability =    6.89941. Improved by 0.342782.\n",
      "Iteration  4. Log joint probability =    6.96532. Improved by 0.0659035.\n",
      "Iteration  5. Log joint probability =    7.01443. Improved by 0.0491125.\n",
      "Iteration  6. Log joint probability =    7.04456. Improved by 0.0301265.\n",
      "Iteration  7. Log joint probability =    7.04864. Improved by 0.00408546.\n",
      "Iteration  8. Log joint probability =    7.05493. Improved by 0.00628628.\n",
      "Iteration  9. Log joint probability =    7.05989. Improved by 0.00496045.\n",
      "Iteration 10. Log joint probability =    7.06245. Improved by 0.002563.\n",
      "Iteration 11. Log joint probability =    7.06292. Improved by 0.00046538.\n",
      "Iteration 12. Log joint probability =    7.06307. Improved by 0.000148956.\n",
      "Iteration 13. Log joint probability =    7.06355. Improved by 0.000483142.\n",
      "Iteration 14. Log joint probability =    7.06365. Improved by 9.96893e-05.\n",
      "Iteration 15. Log joint probability =    7.06401. Improved by 0.000362382.\n",
      "Iteration 16. Log joint probability =    7.06411. Improved by 9.80514e-05.\n",
      "Iteration 17. Log joint probability =    7.06415. Improved by 4.03022e-05.\n",
      "Iteration 18. Log joint probability =    7.06418. Improved by 2.92982e-05.\n",
      "Iteration 19. Log joint probability =    7.06423. Improved by 4.97084e-05.\n",
      "Iteration 20. Log joint probability =    7.06423. Improved by 1.35657e-06.\n",
      "Iteration 21. Log joint probability =    7.06423. Improved by 1.8769e-06.\n",
      "Iteration 22. Log joint probability =    7.06424. Improved by 7.24754e-06.\n",
      "Iteration 23. Log joint probability =    7.06424. Improved by 2.71383e-06.\n",
      "Iteration 24. Log joint probability =    7.06424. Improved by 1.32547e-06.\n",
      "Iteration 25. Log joint probability =    7.06424. Improved by 2.7063e-07.\n",
      "Iteration 26. Log joint probability =    7.06424. Improved by 3.53237e-07.\n",
      "Iteration 27. Log joint probability =    7.06424. Improved by 1.11284e-06.\n",
      "Iteration 28. Log joint probability =    7.06425. Improved by 6.56713e-07.\n",
      "Iteration 29. Log joint probability =    7.06425. Improved by 1.8774e-07.\n",
      "Iteration 30. Log joint probability =    7.06425. Improved by 2.96793e-08.\n",
      "Iteration 31. Log joint probability =    7.06425. Improved by 1.299e-07.\n",
      "Iteration 32. Log joint probability =    7.06425. Improved by 1.54151e-08.\n",
      "Iteration 33. Log joint probability =    7.06425. Improved by 4.87886e-09.\n"
     ]
    },
    {
     "name": "stderr",
     "output_type": "stream",
     "text": [
      "INFO:prophet:Disabling yearly seasonality. Run prophet with yearly_seasonality=True to override this.\n",
      "INFO:prophet:Disabling weekly seasonality. Run prophet with weekly_seasonality=True to override this.\n",
      "INFO:prophet:Disabling daily seasonality. Run prophet with daily_seasonality=True to override this.\n",
      "INFO:prophet:n_changepoints greater than number of observations. Using 5.\n"
     ]
    },
    {
     "name": "stdout",
     "output_type": "stream",
     "text": [
      "\n",
      "Initial log joint probability = -4.46167\n",
      "Iteration  1. Log joint probability =    1.22141. Improved by 5.68309.\n",
      "Iteration  2. Log joint probability =    1.93751. Improved by 0.716095.\n",
      "Iteration  3. Log joint probability =    2.41244. Improved by 0.474928.\n",
      "Iteration  4. Log joint probability =    2.43204. Improved by 0.0196079.\n",
      "Iteration  5. Log joint probability =    2.48189. Improved by 0.0498487.\n",
      "Iteration  6. Log joint probability =    2.62639. Improved by 0.144495.\n",
      "Iteration  7. Log joint probability =    2.64933. Improved by 0.0229446.\n",
      "Iteration  8. Log joint probability =    4.19648. Improved by 1.54715.\n",
      "Iteration  9. Log joint probability =    4.23592. Improved by 0.0394388.\n",
      "Iteration 10. Log joint probability =    4.30831. Improved by 0.0723856.\n",
      "Iteration 11. Log joint probability =     4.3193. Improved by 0.0109878.\n",
      "Iteration 12. Log joint probability =    5.30842. Improved by 0.989128.\n",
      "Iteration 13. Log joint probability =    5.33893. Improved by 0.0305112.\n",
      "Iteration 14. Log joint probability =    5.48159. Improved by 0.142658.\n",
      "Iteration 15. Log joint probability =    5.56301. Improved by 0.0814153.\n",
      "Iteration 16. Log joint probability =    5.61011. Improved by 0.0471031.\n",
      "Iteration 17. Log joint probability =    5.71835. Improved by 0.108243.\n",
      "Iteration 18. Log joint probability =    5.72289. Improved by 0.00454053.\n",
      "Iteration 19. Log joint probability =    5.72313. Improved by 0.000231109.\n",
      "Iteration 20. Log joint probability =    5.72393. Improved by 0.000801256.\n",
      "Iteration 21. Log joint probability =    5.72442. Improved by 0.000496558.\n",
      "Iteration 22. Log joint probability =    5.72446. Improved by 3.60474e-05.\n",
      "Iteration 23. Log joint probability =    5.72518. Improved by 0.000723752.\n",
      "Iteration 24. Log joint probability =    5.72625. Improved by 0.00106863.\n",
      "Iteration 25. Log joint probability =    5.72897. Improved by 0.00271911.\n",
      "Iteration 26. Log joint probability =    5.72911. Improved by 0.000139607.\n",
      "Iteration 27. Log joint probability =    5.72958. Improved by 0.000468568.\n",
      "Iteration 28. Log joint probability =     5.7296. Improved by 2.51369e-05.\n",
      "Iteration 29. Log joint probability =    5.72982. Improved by 0.000217607.\n",
      "Iteration 30. Log joint probability =    5.73002. Improved by 0.000194782.\n",
      "Iteration 31. Log joint probability =    5.73013. Improved by 0.000108968.\n",
      "Iteration 32. Log joint probability =    5.73022. Improved by 9.60797e-05.\n",
      "Iteration 33. Log joint probability =    5.73023. Improved by 3.10846e-06.\n",
      "Iteration 34. Log joint probability =    5.73024. Improved by 1.60366e-05.\n",
      "Iteration 35. Log joint probability =    5.73025. Improved by 9.71615e-06.\n",
      "Iteration 36. Log joint probability =    5.73026. Improved by 6.13144e-06.\n",
      "Iteration 37. Log joint probability =    5.73026. Improved by 6.5459e-06.\n",
      "Iteration 38. Log joint probability =    5.73026. Improved by 1.22348e-06.\n",
      "Iteration 39. Log joint probability =    5.73027. Improved by 4.88087e-06.\n",
      "Iteration 40. Log joint probability =    5.73027. Improved by 4.00058e-06.\n",
      "Iteration 41. Log joint probability =    5.73027. Improved by 2.01917e-07.\n",
      "Iteration 42. Log joint probability =    5.73027. Improved by 4.33177e-07.\n",
      "Iteration 43. Log joint probability =    5.73027. Improved by 2.75125e-08.\n",
      "Iteration 44. Log joint probability =    5.73027. Improved by 7.4848e-08.\n",
      "Iteration 45. Log joint probability =    5.73027. Improved by 4.4931e-08.\n",
      "Iteration 46. Log joint probability =    5.73027. Improved by 1.32815e-08.\n",
      "Iteration 47. Log joint probability =    5.73027. Improved by 3.33589e-09.\n"
     ]
    },
    {
     "data": {
      "text/html": [
       "<div>\n",
       "<style scoped>\n",
       "    .dataframe tbody tr th:only-of-type {\n",
       "        vertical-align: middle;\n",
       "    }\n",
       "\n",
       "    .dataframe tbody tr th {\n",
       "        vertical-align: top;\n",
       "    }\n",
       "\n",
       "    .dataframe thead th {\n",
       "        text-align: right;\n",
       "    }\n",
       "</style>\n",
       "<table border=\"1\" class=\"dataframe\">\n",
       "  <thead>\n",
       "    <tr style=\"text-align: right;\">\n",
       "      <th></th>\n",
       "      <th>sales</th>\n",
       "    </tr>\n",
       "    <tr>\n",
       "      <th>ds</th>\n",
       "      <th></th>\n",
       "    </tr>\n",
       "  </thead>\n",
       "  <tbody>\n",
       "    <tr>\n",
       "      <th>2014-03-31</th>\n",
       "      <td>18652.156085</td>\n",
       "    </tr>\n",
       "    <tr>\n",
       "      <th>2014-06-30</th>\n",
       "      <td>20230.175256</td>\n",
       "    </tr>\n",
       "    <tr>\n",
       "      <th>2014-09-30</th>\n",
       "      <td>21825.535325</td>\n",
       "    </tr>\n",
       "    <tr>\n",
       "      <th>2014-12-31</th>\n",
       "      <td>23420.895366</td>\n",
       "    </tr>\n",
       "    <tr>\n",
       "      <th>2015-03-31</th>\n",
       "      <td>24981.573644</td>\n",
       "    </tr>\n",
       "  </tbody>\n",
       "</table>\n",
       "</div>"
      ],
      "text/plain": [
       "                   sales\n",
       "ds                      \n",
       "2014-03-31  18652.156085\n",
       "2014-06-30  20230.175256\n",
       "2014-09-30  21825.535325\n",
       "2014-12-31  23420.895366\n",
       "2015-03-31  24981.573644"
      ]
     },
     "execution_count": 37,
     "metadata": {},
     "output_type": "execute_result"
    }
   ],
   "source": [
    "# Here we are using the model module to create an ensemble model for us.\n",
    "# This will create Prophet models for each region and then combine the results.\n",
    "\n",
    "predictions = create_ensemble_predictions(\n",
    "    [store_east_train, store_west_train, store_central_train, store_south_train],\n",
    "    [store_east_validate, store_west_validate, store_central_validate, store_south_validate],\n",
    "    'sales',\n",
    "    prophet_model\n",
    ")\n",
    "predictions.head()"
   ]
  },
  {
   "cell_type": "code",
   "execution_count": 38,
   "id": "91ace06d-c546-4584-bea1-fb78f2525e5a",
   "metadata": {},
   "outputs": [
    {
     "data": {
      "text/html": [
       "<div>\n",
       "<style scoped>\n",
       "    .dataframe tbody tr th:only-of-type {\n",
       "        vertical-align: middle;\n",
       "    }\n",
       "\n",
       "    .dataframe tbody tr th {\n",
       "        vertical-align: top;\n",
       "    }\n",
       "\n",
       "    .dataframe thead th {\n",
       "        text-align: right;\n",
       "    }\n",
       "</style>\n",
       "<table border=\"1\" class=\"dataframe\">\n",
       "  <thead>\n",
       "    <tr style=\"text-align: right;\">\n",
       "      <th></th>\n",
       "      <th>model_type</th>\n",
       "      <th>target</th>\n",
       "      <th>rmse</th>\n",
       "    </tr>\n",
       "  </thead>\n",
       "  <tbody>\n",
       "    <tr>\n",
       "      <th>0</th>\n",
       "      <td>Simple Average</td>\n",
       "      <td>sales</td>\n",
       "      <td>7509.0</td>\n",
       "    </tr>\n",
       "    <tr>\n",
       "      <th>1</th>\n",
       "      <td>Holt</td>\n",
       "      <td>sales</td>\n",
       "      <td>21942.0</td>\n",
       "    </tr>\n",
       "    <tr>\n",
       "      <th>2</th>\n",
       "      <td>Prophet</td>\n",
       "      <td>sales</td>\n",
       "      <td>8493.0</td>\n",
       "    </tr>\n",
       "  </tbody>\n",
       "</table>\n",
       "</div>"
      ],
      "text/plain": [
       "       model_type target     rmse\n",
       "0  Simple Average  sales   7509.0\n",
       "1            Holt  sales  21942.0\n",
       "2         Prophet  sales   8493.0"
      ]
     },
     "execution_count": 38,
     "metadata": {},
     "output_type": "execute_result"
    }
   ],
   "source": [
    "region_eval_df = append_eval_df('Prophet', 'sales', superstore_validate, predictions.loc['2016'], region_eval_df)\n",
    "region_eval_df"
   ]
  },
  {
   "cell_type": "markdown",
   "id": "2779e9e4-3056-49b4-ad62-12e4cb0a67bd",
   "metadata": {},
   "source": [
    "### Previous Cycle\n",
    "\n",
    "Finally, let's do an ensemble previous cycle model."
   ]
  },
  {
   "cell_type": "code",
   "execution_count": 39,
   "id": "086024ff-046f-46f5-8f7c-108ea5b32ade",
   "metadata": {},
   "outputs": [
    {
     "data": {
      "text/html": [
       "<div>\n",
       "<style scoped>\n",
       "    .dataframe tbody tr th:only-of-type {\n",
       "        vertical-align: middle;\n",
       "    }\n",
       "\n",
       "    .dataframe tbody tr th {\n",
       "        vertical-align: top;\n",
       "    }\n",
       "\n",
       "    .dataframe thead th {\n",
       "        text-align: right;\n",
       "    }\n",
       "</style>\n",
       "<table border=\"1\" class=\"dataframe\">\n",
       "  <thead>\n",
       "    <tr style=\"text-align: right;\">\n",
       "      <th></th>\n",
       "      <th>sales</th>\n",
       "      <th>quantity</th>\n",
       "      <th>discount</th>\n",
       "      <th>profit</th>\n",
       "    </tr>\n",
       "    <tr>\n",
       "      <th>order_date</th>\n",
       "      <th></th>\n",
       "      <th></th>\n",
       "      <th></th>\n",
       "      <th></th>\n",
       "    </tr>\n",
       "  </thead>\n",
       "  <tbody>\n",
       "    <tr>\n",
       "      <th>2016-03-31</th>\n",
       "      <td>19181.948425</td>\n",
       "      <td>201.0</td>\n",
       "      <td>9.9175</td>\n",
       "      <td>4131.1165</td>\n",
       "    </tr>\n",
       "    <tr>\n",
       "      <th>2016-06-30</th>\n",
       "      <td>9573.685425</td>\n",
       "      <td>294.0</td>\n",
       "      <td>12.7175</td>\n",
       "      <td>2249.4833</td>\n",
       "    </tr>\n",
       "    <tr>\n",
       "      <th>2016-09-30</th>\n",
       "      <td>30808.776425</td>\n",
       "      <td>490.0</td>\n",
       "      <td>21.0175</td>\n",
       "      <td>2512.1174</td>\n",
       "    </tr>\n",
       "    <tr>\n",
       "      <th>2016-12-31</th>\n",
       "      <td>29539.825625</td>\n",
       "      <td>663.0</td>\n",
       "      <td>29.5375</td>\n",
       "      <td>1839.8741</td>\n",
       "    </tr>\n",
       "  </tbody>\n",
       "</table>\n",
       "</div>"
      ],
      "text/plain": [
       "                   sales  quantity  discount     profit\n",
       "order_date                                             \n",
       "2016-03-31  19181.948425     201.0    9.9175  4131.1165\n",
       "2016-06-30   9573.685425     294.0   12.7175  2249.4833\n",
       "2016-09-30  30808.776425     490.0   21.0175  2512.1174\n",
       "2016-12-31  29539.825625     663.0   29.5375  1839.8741"
      ]
     },
     "execution_count": 39,
     "metadata": {},
     "output_type": "execute_result"
    }
   ],
   "source": [
    "# Here we are using the model module to create an ensemble model for us.\n",
    "# This will create previous cycle models for each region and then combine the results.\n",
    "\n",
    "predictions = create_ensemble_predictions(\n",
    "    [store_east_train, store_west_train, store_central_train, store_south_train],\n",
    "    [store_east_validate, store_west_validate, store_central_validate, store_south_validate],\n",
    "    'sales',\n",
    "    previous_cycle_model\n",
    ")\n",
    "predictions.head()"
   ]
  },
  {
   "cell_type": "code",
   "execution_count": 40,
   "id": "70de33c4-4a4c-4bb4-b958-88b3f73d3ed1",
   "metadata": {},
   "outputs": [
    {
     "data": {
      "text/html": [
       "<div>\n",
       "<style scoped>\n",
       "    .dataframe tbody tr th:only-of-type {\n",
       "        vertical-align: middle;\n",
       "    }\n",
       "\n",
       "    .dataframe tbody tr th {\n",
       "        vertical-align: top;\n",
       "    }\n",
       "\n",
       "    .dataframe thead th {\n",
       "        text-align: right;\n",
       "    }\n",
       "</style>\n",
       "<table border=\"1\" class=\"dataframe\">\n",
       "  <thead>\n",
       "    <tr style=\"text-align: right;\">\n",
       "      <th></th>\n",
       "      <th>model_type</th>\n",
       "      <th>target</th>\n",
       "      <th>rmse</th>\n",
       "    </tr>\n",
       "  </thead>\n",
       "  <tbody>\n",
       "    <tr>\n",
       "      <th>0</th>\n",
       "      <td>Simple Average</td>\n",
       "      <td>sales</td>\n",
       "      <td>7509.0</td>\n",
       "    </tr>\n",
       "    <tr>\n",
       "      <th>1</th>\n",
       "      <td>Holt</td>\n",
       "      <td>sales</td>\n",
       "      <td>21942.0</td>\n",
       "    </tr>\n",
       "    <tr>\n",
       "      <th>2</th>\n",
       "      <td>Prophet</td>\n",
       "      <td>sales</td>\n",
       "      <td>8493.0</td>\n",
       "    </tr>\n",
       "    <tr>\n",
       "      <th>3</th>\n",
       "      <td>Previous Cycle</td>\n",
       "      <td>sales</td>\n",
       "      <td>11007.0</td>\n",
       "    </tr>\n",
       "  </tbody>\n",
       "</table>\n",
       "</div>"
      ],
      "text/plain": [
       "       model_type target     rmse\n",
       "0  Simple Average  sales   7509.0\n",
       "1            Holt  sales  21942.0\n",
       "2         Prophet  sales   8493.0\n",
       "3  Previous Cycle  sales  11007.0"
      ]
     },
     "execution_count": 40,
     "metadata": {},
     "output_type": "execute_result"
    }
   ],
   "source": [
    "region_eval_df = append_eval_df('Previous Cycle', 'sales', superstore_validate, predictions, region_eval_df)\n",
    "region_eval_df"
   ]
  },
  {
   "cell_type": "markdown",
   "id": "c5636247-728c-4e6a-afe0-0174c3ddfeb1",
   "metadata": {},
   "source": [
    "### Results\n",
    "\n",
    "We still get the most accurate forecast from the simple average model. I wonder if we may get a more accurate forecast by resampling by month or quarter instead.\n",
    "\n",
    "---\n",
    "\n",
    "## Ensemble Model: A Model Per Product Category\n",
    "\n",
    "The last modeling strategy we'll try is building ensemble models separating by category.\n",
    "\n",
    "### Simple Average\n",
    "\n",
    "First the simple average model."
   ]
  },
  {
   "cell_type": "code",
   "execution_count": 41,
   "id": "46a363e8-7920-4ea3-ac32-8cbaa8db7b00",
   "metadata": {},
   "outputs": [
    {
     "data": {
      "text/html": [
       "<div>\n",
       "<style scoped>\n",
       "    .dataframe tbody tr th:only-of-type {\n",
       "        vertical-align: middle;\n",
       "    }\n",
       "\n",
       "    .dataframe tbody tr th {\n",
       "        vertical-align: top;\n",
       "    }\n",
       "\n",
       "    .dataframe thead th {\n",
       "        text-align: right;\n",
       "    }\n",
       "</style>\n",
       "<table border=\"1\" class=\"dataframe\">\n",
       "  <thead>\n",
       "    <tr style=\"text-align: right;\">\n",
       "      <th></th>\n",
       "      <th>sales</th>\n",
       "    </tr>\n",
       "    <tr>\n",
       "      <th>order_date</th>\n",
       "      <th></th>\n",
       "    </tr>\n",
       "  </thead>\n",
       "  <tbody>\n",
       "    <tr>\n",
       "      <th>2016-03-31</th>\n",
       "      <td>24196.742337</td>\n",
       "    </tr>\n",
       "    <tr>\n",
       "      <th>2016-06-30</th>\n",
       "      <td>24196.742337</td>\n",
       "    </tr>\n",
       "    <tr>\n",
       "      <th>2016-09-30</th>\n",
       "      <td>24196.742337</td>\n",
       "    </tr>\n",
       "    <tr>\n",
       "      <th>2016-12-31</th>\n",
       "      <td>24196.742337</td>\n",
       "    </tr>\n",
       "  </tbody>\n",
       "</table>\n",
       "</div>"
      ],
      "text/plain": [
       "                   sales\n",
       "order_date              \n",
       "2016-03-31  24196.742337\n",
       "2016-06-30  24196.742337\n",
       "2016-09-30  24196.742337\n",
       "2016-12-31  24196.742337"
      ]
     },
     "execution_count": 41,
     "metadata": {},
     "output_type": "execute_result"
    }
   ],
   "source": [
    "# Here we are using the model module to create an ensemble model for us.\n",
    "# This will create simple average models for each product category and then combine the results.\n",
    "\n",
    "predictions = create_ensemble_predictions(\n",
    "    [office_supplies_train, furniture_train, technology_train],\n",
    "    [office_supplies_validate, furniture_validate, technology_validate],\n",
    "    'sales',\n",
    "    simple_average_model\n",
    ")\n",
    "predictions.head()"
   ]
  },
  {
   "cell_type": "code",
   "execution_count": 42,
   "id": "15dea040-86fd-4f01-a17a-85faaeeb8229",
   "metadata": {},
   "outputs": [
    {
     "data": {
      "text/html": [
       "<div>\n",
       "<style scoped>\n",
       "    .dataframe tbody tr th:only-of-type {\n",
       "        vertical-align: middle;\n",
       "    }\n",
       "\n",
       "    .dataframe tbody tr th {\n",
       "        vertical-align: top;\n",
       "    }\n",
       "\n",
       "    .dataframe thead th {\n",
       "        text-align: right;\n",
       "    }\n",
       "</style>\n",
       "<table border=\"1\" class=\"dataframe\">\n",
       "  <thead>\n",
       "    <tr style=\"text-align: right;\">\n",
       "      <th></th>\n",
       "      <th>model_type</th>\n",
       "      <th>target</th>\n",
       "      <th>rmse</th>\n",
       "    </tr>\n",
       "  </thead>\n",
       "  <tbody>\n",
       "    <tr>\n",
       "      <th>0</th>\n",
       "      <td>Simple Average</td>\n",
       "      <td>sales</td>\n",
       "      <td>7509.0</td>\n",
       "    </tr>\n",
       "  </tbody>\n",
       "</table>\n",
       "</div>"
      ],
      "text/plain": [
       "       model_type target    rmse\n",
       "0  Simple Average  sales  7509.0"
      ]
     },
     "execution_count": 42,
     "metadata": {},
     "output_type": "execute_result"
    }
   ],
   "source": [
    "region_eval_df = append_eval_df('Simple Average', 'sales', superstore_validate, predictions)\n",
    "region_eval_df"
   ]
  },
  {
   "cell_type": "markdown",
   "id": "2cfd5a7b-8600-4e08-a60d-8e5a6b831614",
   "metadata": {},
   "source": [
    "### Holt's Linear Trend\n",
    "\n",
    "Next, an ensemble Holt's linear trend model."
   ]
  },
  {
   "cell_type": "code",
   "execution_count": 43,
   "id": "3ef33d36-deda-43e7-9a3b-b18d1ec3ccfe",
   "metadata": {},
   "outputs": [
    {
     "name": "stderr",
     "output_type": "stream",
     "text": [
      "/usr/local/anaconda3/lib/python3.9/site-packages/statsmodels/tsa/holtwinters/model.py:427: FutureWarning: After 0.13 initialization must be handled at model creation\n",
      "  warnings.warn(\n",
      "/usr/local/anaconda3/lib/python3.9/site-packages/statsmodels/tsa/holtwinters/model.py:920: ConvergenceWarning: Optimization failed to converge. Check mle_retvals.\n",
      "  warnings.warn(\n",
      "/usr/local/anaconda3/lib/python3.9/site-packages/statsmodels/tsa/base/tsa_model.py:132: FutureWarning: The 'freq' argument in Timestamp is deprecated and will be removed in a future version.\n",
      "  date_key = Timestamp(key, freq=base_index.freq)\n",
      "/usr/local/anaconda3/lib/python3.9/site-packages/statsmodels/tsa/holtwinters/model.py:920: ConvergenceWarning: Optimization failed to converge. Check mle_retvals.\n",
      "  warnings.warn(\n",
      "/usr/local/anaconda3/lib/python3.9/site-packages/statsmodels/tsa/holtwinters/model.py:920: ConvergenceWarning: Optimization failed to converge. Check mle_retvals.\n",
      "  warnings.warn(\n"
     ]
    },
    {
     "data": {
      "text/html": [
       "<div>\n",
       "<style scoped>\n",
       "    .dataframe tbody tr th:only-of-type {\n",
       "        vertical-align: middle;\n",
       "    }\n",
       "\n",
       "    .dataframe tbody tr th {\n",
       "        vertical-align: top;\n",
       "    }\n",
       "\n",
       "    .dataframe thead th {\n",
       "        text-align: right;\n",
       "    }\n",
       "</style>\n",
       "<table border=\"1\" class=\"dataframe\">\n",
       "  <thead>\n",
       "    <tr style=\"text-align: right;\">\n",
       "      <th></th>\n",
       "      <th>sales</th>\n",
       "    </tr>\n",
       "  </thead>\n",
       "  <tbody>\n",
       "    <tr>\n",
       "      <th>2016-03-31</th>\n",
       "      <td>34171.361838</td>\n",
       "    </tr>\n",
       "    <tr>\n",
       "      <th>2016-06-30</th>\n",
       "      <td>39429.583401</td>\n",
       "    </tr>\n",
       "    <tr>\n",
       "      <th>2016-09-30</th>\n",
       "      <td>44635.222749</td>\n",
       "    </tr>\n",
       "    <tr>\n",
       "      <th>2016-12-31</th>\n",
       "      <td>49788.805703</td>\n",
       "    </tr>\n",
       "  </tbody>\n",
       "</table>\n",
       "</div>"
      ],
      "text/plain": [
       "                   sales\n",
       "2016-03-31  34171.361838\n",
       "2016-06-30  39429.583401\n",
       "2016-09-30  44635.222749\n",
       "2016-12-31  49788.805703"
      ]
     },
     "execution_count": 43,
     "metadata": {},
     "output_type": "execute_result"
    }
   ],
   "source": [
    "# Here we are using the model module to create an ensemble model for us.\n",
    "# This will create Holt's linear trend models for each product category and then combine the results.\n",
    "\n",
    "predictions = create_ensemble_predictions(\n",
    "    [office_supplies_train, furniture_train, technology_train],\n",
    "    [office_supplies_validate, furniture_validate, technology_validate],\n",
    "    'sales',\n",
    "    holt_model\n",
    ")\n",
    "predictions.head()"
   ]
  },
  {
   "cell_type": "code",
   "execution_count": 44,
   "id": "1c7f5c32-5444-450d-9e57-76e33da41268",
   "metadata": {},
   "outputs": [
    {
     "data": {
      "text/html": [
       "<div>\n",
       "<style scoped>\n",
       "    .dataframe tbody tr th:only-of-type {\n",
       "        vertical-align: middle;\n",
       "    }\n",
       "\n",
       "    .dataframe tbody tr th {\n",
       "        vertical-align: top;\n",
       "    }\n",
       "\n",
       "    .dataframe thead th {\n",
       "        text-align: right;\n",
       "    }\n",
       "</style>\n",
       "<table border=\"1\" class=\"dataframe\">\n",
       "  <thead>\n",
       "    <tr style=\"text-align: right;\">\n",
       "      <th></th>\n",
       "      <th>model_type</th>\n",
       "      <th>target</th>\n",
       "      <th>rmse</th>\n",
       "    </tr>\n",
       "  </thead>\n",
       "  <tbody>\n",
       "    <tr>\n",
       "      <th>0</th>\n",
       "      <td>Simple Average</td>\n",
       "      <td>sales</td>\n",
       "      <td>7509.0</td>\n",
       "    </tr>\n",
       "    <tr>\n",
       "      <th>1</th>\n",
       "      <td>Holt</td>\n",
       "      <td>sales</td>\n",
       "      <td>15884.0</td>\n",
       "    </tr>\n",
       "  </tbody>\n",
       "</table>\n",
       "</div>"
      ],
      "text/plain": [
       "       model_type target     rmse\n",
       "0  Simple Average  sales   7509.0\n",
       "1            Holt  sales  15884.0"
      ]
     },
     "execution_count": 44,
     "metadata": {},
     "output_type": "execute_result"
    }
   ],
   "source": [
    "region_eval_df = append_eval_df('Holt', 'sales', superstore_validate, predictions, region_eval_df)\n",
    "region_eval_df"
   ]
  },
  {
   "cell_type": "markdown",
   "id": "384c93d8-ac8f-4584-b1e6-635fc9185663",
   "metadata": {},
   "source": [
    "### FB Prophet\n",
    "\n",
    "Next, an ensemble Prophet model."
   ]
  },
  {
   "cell_type": "code",
   "execution_count": 45,
   "id": "e00aa26b-9c3e-4d39-930a-af393c770a16",
   "metadata": {},
   "outputs": [
    {
     "name": "stderr",
     "output_type": "stream",
     "text": [
      "INFO:prophet:Disabling yearly seasonality. Run prophet with yearly_seasonality=True to override this.\n",
      "INFO:prophet:Disabling weekly seasonality. Run prophet with weekly_seasonality=True to override this.\n",
      "INFO:prophet:Disabling daily seasonality. Run prophet with daily_seasonality=True to override this.\n",
      "INFO:prophet:n_changepoints greater than number of observations. Using 5.\n"
     ]
    },
    {
     "name": "stdout",
     "output_type": "stream",
     "text": [
      "\n",
      "Initial log joint probability = -4.26047\n",
      "Iteration  1. Log joint probability =  -0.065721. Improved by 4.19475.\n",
      "Iteration  2. Log joint probability =    7.28966. Improved by 7.35539.\n",
      "Iteration  3. Log joint probability =    9.00013. Improved by 1.71047.\n",
      "Iteration  4. Log joint probability =    9.41275. Improved by 0.412618.\n",
      "Iteration  5. Log joint probability =    9.46827. Improved by 0.0555193.\n",
      "Iteration  6. Log joint probability =      9.586. Improved by 0.117735.\n",
      "Iteration  7. Log joint probability =    9.61014. Improved by 0.0241351.\n",
      "Iteration  8. Log joint probability =    9.61338. Improved by 0.00324721.\n",
      "Iteration  9. Log joint probability =    9.61818. Improved by 0.00479184.\n",
      "Iteration 10. Log joint probability =    9.62267. Improved by 0.00449355.\n",
      "Iteration 11. Log joint probability =    9.62479. Improved by 0.0021167.\n",
      "Iteration 12. Log joint probability =      9.625. Improved by 0.000215302.\n",
      "Iteration 13. Log joint probability =     9.6257. Improved by 0.000702542.\n",
      "Iteration 14. Log joint probability =    9.62591. Improved by 0.000203914.\n",
      "Iteration 15. Log joint probability =    9.62618. Improved by 0.000276406.\n",
      "Iteration 16. Log joint probability =    9.62627. Improved by 8.44354e-05.\n",
      "Iteration 17. Log joint probability =     9.6265. Improved by 0.000229451.\n",
      "Iteration 18. Log joint probability =    9.62653. Improved by 3.0328e-05.\n",
      "Iteration 19. Log joint probability =    9.62655. Improved by 1.94109e-05.\n",
      "Iteration 20. Log joint probability =     9.6266. Improved by 4.83224e-05.\n",
      "Iteration 21. Log joint probability =    9.62665. Improved by 5.05818e-05.\n",
      "Iteration 22. Log joint probability =    9.62666. Improved by 1.71653e-05.\n",
      "Iteration 23. Log joint probability =    9.62669. Improved by 2.83584e-05.\n",
      "Iteration 24. Log joint probability =    9.62669. Improved by 4.96362e-07.\n",
      "Iteration 25. Log joint probability =     9.6267. Improved by 5.88232e-06.\n",
      "Iteration 26. Log joint probability =     9.6267. Improved by 1.06132e-06.\n",
      "Iteration 27. Log joint probability =     9.6267. Improved by 7.45148e-07.\n",
      "Iteration 28. Log joint probability =     9.6267. Improved by 1.20642e-06.\n",
      "Iteration 29. Log joint probability =     9.6267. Improved by 3.42366e-07.\n",
      "Iteration 30. Log joint probability =     9.6267. Improved by 1.16296e-07.\n",
      "Iteration 31. Log joint probability =     9.6267. Improved by 4.32066e-07.\n",
      "Iteration 32. Log joint probability =     9.6267. Improved by 1.2308e-07.\n",
      "Iteration 33. Log joint probability =     9.6267. Improved by 3.04031e-09.\n"
     ]
    },
    {
     "name": "stderr",
     "output_type": "stream",
     "text": [
      "INFO:prophet:Disabling yearly seasonality. Run prophet with yearly_seasonality=True to override this.\n",
      "INFO:prophet:Disabling weekly seasonality. Run prophet with weekly_seasonality=True to override this.\n",
      "INFO:prophet:Disabling daily seasonality. Run prophet with daily_seasonality=True to override this.\n",
      "INFO:prophet:n_changepoints greater than number of observations. Using 5.\n"
     ]
    },
    {
     "name": "stdout",
     "output_type": "stream",
     "text": [
      "\n",
      "Initial log joint probability = -4.36303\n",
      "Iteration  1. Log joint probability =    3.89802. Improved by 8.26105.\n",
      "Iteration  2. Log joint probability =    3.98589. Improved by 0.0878737.\n",
      "Iteration  3. Log joint probability =    4.07509. Improved by 0.0892023.\n",
      "Iteration  4. Log joint probability =    4.19424. Improved by 0.119146.\n",
      "Iteration  5. Log joint probability =    4.29913. Improved by 0.104887.\n",
      "Iteration  6. Log joint probability =    4.35073. Improved by 0.0516023.\n",
      "Iteration  7. Log joint probability =    6.46607. Improved by 2.11534.\n",
      "Iteration  8. Log joint probability =    6.55799. Improved by 0.0919251.\n",
      "Iteration  9. Log joint probability =     6.6096. Improved by 0.0516081.\n",
      "Iteration 10. Log joint probability =    6.61321. Improved by 0.00361078.\n",
      "Iteration 11. Log joint probability =    6.61788. Improved by 0.00466764.\n",
      "Iteration 12. Log joint probability =    6.62134. Improved by 0.00346516.\n",
      "Iteration 13. Log joint probability =    6.62316. Improved by 0.00182113.\n",
      "Iteration 14. Log joint probability =    6.62447. Improved by 0.00131103.\n",
      "Iteration 15. Log joint probability =    6.62496. Improved by 0.000486461.\n",
      "Iteration 16. Log joint probability =    6.62532. Improved by 0.000360302.\n",
      "Iteration 17. Log joint probability =    6.62537. Improved by 5.10035e-05.\n",
      "Iteration 18. Log joint probability =    6.62545. Improved by 7.76005e-05.\n",
      "Iteration 19. Log joint probability =    6.62546. Improved by 9.34584e-06.\n",
      "Iteration 20. Log joint probability =    6.62552. Improved by 6.40038e-05.\n",
      "Iteration 21. Log joint probability =    6.62553. Improved by 9.12343e-06.\n",
      "Iteration 22. Log joint probability =    6.62555. Improved by 1.90369e-05.\n",
      "Iteration 23. Log joint probability =    6.62556. Improved by 7.20689e-06.\n",
      "Iteration 24. Log joint probability =    6.62556. Improved by 2.82772e-06.\n",
      "Iteration 25. Log joint probability =    6.62557. Improved by 4.93084e-06.\n",
      "Iteration 26. Log joint probability =    6.62557. Improved by 1.58507e-06.\n",
      "Iteration 27. Log joint probability =    6.62557. Improved by 1.34048e-06.\n",
      "Iteration 28. Log joint probability =    6.62557. Improved by 3.44608e-08.\n",
      "Iteration 29. Log joint probability =    6.62557. Improved by 2.23274e-07.\n",
      "Iteration 30. Log joint probability =    6.62557. Improved by 2.14268e-07.\n",
      "Iteration 31. Log joint probability =    6.62557. Improved by 8.36804e-08.\n",
      "Iteration 32. Log joint probability =    6.62557. Improved by 9.63209e-08.\n",
      "Iteration 33. Log joint probability =    6.62557. Improved by 1.04386e-08.\n",
      "Iteration 34. Log joint probability =    6.62557. Improved by 3.4878e-08.\n",
      "Iteration 35. Log joint probability =    6.62557. Improved by 2.62925e-08.\n",
      "Iteration 36. Log joint probability =    6.62557. Improved by 1.71701e-08.\n",
      "Iteration 37. Log joint probability =    6.62557. Improved by 1.0586e-08.\n",
      "Iteration 38. Log joint probability =    6.62557. Improved by 3.15183e-09.\n"
     ]
    },
    {
     "name": "stderr",
     "output_type": "stream",
     "text": [
      "INFO:prophet:Disabling yearly seasonality. Run prophet with yearly_seasonality=True to override this.\n",
      "INFO:prophet:Disabling weekly seasonality. Run prophet with weekly_seasonality=True to override this.\n",
      "INFO:prophet:Disabling daily seasonality. Run prophet with daily_seasonality=True to override this.\n",
      "INFO:prophet:n_changepoints greater than number of observations. Using 5.\n"
     ]
    },
    {
     "name": "stdout",
     "output_type": "stream",
     "text": [
      "\n",
      "Initial log joint probability = -4.48322\n",
      "Iteration  1. Log joint probability =    3.20725. Improved by 7.69046.\n",
      "Iteration  2. Log joint probability =    5.61691. Improved by 2.40966.\n",
      "Iteration  3. Log joint probability =    6.05774. Improved by 0.440836.\n",
      "Iteration  4. Log joint probability =    6.12716. Improved by 0.0694175.\n",
      "Iteration  5. Log joint probability =    6.15278. Improved by 0.0256248.\n",
      "Iteration  6. Log joint probability =    6.15585. Improved by 0.00306121.\n",
      "Iteration  7. Log joint probability =    6.15793. Improved by 0.00208225.\n",
      "Iteration  8. Log joint probability =    6.15924. Improved by 0.00131401.\n",
      "Iteration  9. Log joint probability =    6.15946. Improved by 0.000213478.\n",
      "Iteration 10. Log joint probability =     6.1603. Improved by 0.000846077.\n",
      "Iteration 11. Log joint probability =    6.16099. Improved by 0.000687291.\n",
      "Iteration 12. Log joint probability =    6.16165. Improved by 0.000660529.\n",
      "Iteration 13. Log joint probability =     6.1618. Improved by 0.00014642.\n",
      "Iteration 14. Log joint probability =    6.16185. Improved by 5.63105e-05.\n",
      "Iteration 15. Log joint probability =    6.16189. Improved by 3.77226e-05.\n",
      "Iteration 16. Log joint probability =    6.16194. Improved by 5.56078e-05.\n",
      "Iteration 17. Log joint probability =    6.16195. Improved by 1.41293e-06.\n",
      "Iteration 18. Log joint probability =    6.16195. Improved by 8.10135e-06.\n",
      "Iteration 19. Log joint probability =    6.16196. Improved by 3.52696e-06.\n",
      "Iteration 20. Log joint probability =    6.16196. Improved by 2.2769e-06.\n",
      "Iteration 21. Log joint probability =    6.16196. Improved by 1.65927e-06.\n",
      "Iteration 22. Log joint probability =    6.16196. Improved by 9.71893e-07.\n",
      "Iteration 23. Log joint probability =    6.16196. Improved by 1.99634e-06.\n",
      "Iteration 24. Log joint probability =    6.16197. Improved by 4.48001e-07.\n",
      "Iteration 25. Log joint probability =    6.16197. Improved by 1.29132e-06.\n",
      "Iteration 26. Log joint probability =    6.16197. Improved by 1.61636e-07.\n",
      "Iteration 27. Log joint probability =    6.16197. Improved by 1.7369e-07.\n",
      "Iteration 28. Log joint probability =    6.16197. Improved by 8.17301e-08.\n",
      "Iteration 29. Log joint probability =    6.16197. Improved by 9.92532e-08.\n",
      "Iteration 30. Log joint probability =    6.16197. Improved by 4.05026e-08.\n",
      "Iteration 31. Log joint probability =    6.16197. Improved by 6.97655e-08.\n",
      "Iteration 32. Log joint probability =    6.16197. Improved by 2.88779e-08.\n",
      "Iteration 33. Log joint probability =    6.16197. Improved by 2.07557e-08.\n",
      "Iteration 34. Log joint probability =    6.16197. Improved by 9.50246e-09.\n"
     ]
    },
    {
     "data": {
      "text/html": [
       "<div>\n",
       "<style scoped>\n",
       "    .dataframe tbody tr th:only-of-type {\n",
       "        vertical-align: middle;\n",
       "    }\n",
       "\n",
       "    .dataframe tbody tr th {\n",
       "        vertical-align: top;\n",
       "    }\n",
       "\n",
       "    .dataframe thead th {\n",
       "        text-align: right;\n",
       "    }\n",
       "</style>\n",
       "<table border=\"1\" class=\"dataframe\">\n",
       "  <thead>\n",
       "    <tr style=\"text-align: right;\">\n",
       "      <th></th>\n",
       "      <th>sales</th>\n",
       "    </tr>\n",
       "    <tr>\n",
       "      <th>ds</th>\n",
       "      <th></th>\n",
       "    </tr>\n",
       "  </thead>\n",
       "  <tbody>\n",
       "    <tr>\n",
       "      <th>2014-03-31</th>\n",
       "      <td>18665.174791</td>\n",
       "    </tr>\n",
       "    <tr>\n",
       "      <th>2014-06-30</th>\n",
       "      <td>20242.937301</td>\n",
       "    </tr>\n",
       "    <tr>\n",
       "      <th>2014-09-30</th>\n",
       "      <td>21838.037861</td>\n",
       "    </tr>\n",
       "    <tr>\n",
       "      <th>2014-12-31</th>\n",
       "      <td>23433.138420</td>\n",
       "    </tr>\n",
       "    <tr>\n",
       "      <th>2015-03-31</th>\n",
       "      <td>24993.562880</td>\n",
       "    </tr>\n",
       "  </tbody>\n",
       "</table>\n",
       "</div>"
      ],
      "text/plain": [
       "                   sales\n",
       "ds                      \n",
       "2014-03-31  18665.174791\n",
       "2014-06-30  20242.937301\n",
       "2014-09-30  21838.037861\n",
       "2014-12-31  23433.138420\n",
       "2015-03-31  24993.562880"
      ]
     },
     "execution_count": 45,
     "metadata": {},
     "output_type": "execute_result"
    }
   ],
   "source": [
    "# Here we are using the model module to create an ensemble model for us.\n",
    "# This will create Prophet models for each product category and then combine the results.\n",
    "\n",
    "predictions = create_ensemble_predictions(\n",
    "    [office_supplies_train, furniture_train, technology_train],\n",
    "    [office_supplies_validate, furniture_validate, technology_validate],\n",
    "    'sales',\n",
    "    prophet_model\n",
    ")\n",
    "predictions.head()"
   ]
  },
  {
   "cell_type": "code",
   "execution_count": 46,
   "id": "1716bebf-1783-4215-844a-0bac177b21bb",
   "metadata": {},
   "outputs": [
    {
     "data": {
      "text/html": [
       "<div>\n",
       "<style scoped>\n",
       "    .dataframe tbody tr th:only-of-type {\n",
       "        vertical-align: middle;\n",
       "    }\n",
       "\n",
       "    .dataframe tbody tr th {\n",
       "        vertical-align: top;\n",
       "    }\n",
       "\n",
       "    .dataframe thead th {\n",
       "        text-align: right;\n",
       "    }\n",
       "</style>\n",
       "<table border=\"1\" class=\"dataframe\">\n",
       "  <thead>\n",
       "    <tr style=\"text-align: right;\">\n",
       "      <th></th>\n",
       "      <th>model_type</th>\n",
       "      <th>target</th>\n",
       "      <th>rmse</th>\n",
       "    </tr>\n",
       "  </thead>\n",
       "  <tbody>\n",
       "    <tr>\n",
       "      <th>0</th>\n",
       "      <td>Simple Average</td>\n",
       "      <td>sales</td>\n",
       "      <td>7509.0</td>\n",
       "    </tr>\n",
       "    <tr>\n",
       "      <th>1</th>\n",
       "      <td>Holt</td>\n",
       "      <td>sales</td>\n",
       "      <td>15884.0</td>\n",
       "    </tr>\n",
       "    <tr>\n",
       "      <th>2</th>\n",
       "      <td>Prophet</td>\n",
       "      <td>sales</td>\n",
       "      <td>8501.0</td>\n",
       "    </tr>\n",
       "  </tbody>\n",
       "</table>\n",
       "</div>"
      ],
      "text/plain": [
       "       model_type target     rmse\n",
       "0  Simple Average  sales   7509.0\n",
       "1            Holt  sales  15884.0\n",
       "2         Prophet  sales   8501.0"
      ]
     },
     "execution_count": 46,
     "metadata": {},
     "output_type": "execute_result"
    }
   ],
   "source": [
    "region_eval_df = append_eval_df('Prophet', 'sales', superstore_validate, predictions.loc['2016'], region_eval_df)\n",
    "region_eval_df"
   ]
  },
  {
   "cell_type": "markdown",
   "id": "b4bb4808-acd3-460b-878a-7d81a24957ec",
   "metadata": {},
   "source": [
    "### Previous Cycle\n",
    "\n",
    "Lastly, an ensemble previous cycle model."
   ]
  },
  {
   "cell_type": "code",
   "execution_count": 47,
   "id": "6336403b-1ac0-4c6b-aae9-a1887100d9a7",
   "metadata": {},
   "outputs": [
    {
     "data": {
      "text/html": [
       "<div>\n",
       "<style scoped>\n",
       "    .dataframe tbody tr th:only-of-type {\n",
       "        vertical-align: middle;\n",
       "    }\n",
       "\n",
       "    .dataframe tbody tr th {\n",
       "        vertical-align: top;\n",
       "    }\n",
       "\n",
       "    .dataframe thead th {\n",
       "        text-align: right;\n",
       "    }\n",
       "</style>\n",
       "<table border=\"1\" class=\"dataframe\">\n",
       "  <thead>\n",
       "    <tr style=\"text-align: right;\">\n",
       "      <th></th>\n",
       "      <th>sales</th>\n",
       "      <th>quantity</th>\n",
       "      <th>discount</th>\n",
       "      <th>profit</th>\n",
       "    </tr>\n",
       "    <tr>\n",
       "      <th>order_date</th>\n",
       "      <th></th>\n",
       "      <th></th>\n",
       "      <th></th>\n",
       "      <th></th>\n",
       "    </tr>\n",
       "  </thead>\n",
       "  <tbody>\n",
       "    <tr>\n",
       "      <th>2016-03-31</th>\n",
       "      <td>19181.948425</td>\n",
       "      <td>201.0</td>\n",
       "      <td>9.9175</td>\n",
       "      <td>4131.1165</td>\n",
       "    </tr>\n",
       "    <tr>\n",
       "      <th>2016-06-30</th>\n",
       "      <td>9573.685425</td>\n",
       "      <td>294.0</td>\n",
       "      <td>12.7175</td>\n",
       "      <td>2249.4833</td>\n",
       "    </tr>\n",
       "    <tr>\n",
       "      <th>2016-09-30</th>\n",
       "      <td>30808.776425</td>\n",
       "      <td>490.0</td>\n",
       "      <td>21.0175</td>\n",
       "      <td>2512.1174</td>\n",
       "    </tr>\n",
       "    <tr>\n",
       "      <th>2016-12-31</th>\n",
       "      <td>29539.825625</td>\n",
       "      <td>663.0</td>\n",
       "      <td>29.5375</td>\n",
       "      <td>1839.8741</td>\n",
       "    </tr>\n",
       "  </tbody>\n",
       "</table>\n",
       "</div>"
      ],
      "text/plain": [
       "                   sales  quantity  discount     profit\n",
       "order_date                                             \n",
       "2016-03-31  19181.948425     201.0    9.9175  4131.1165\n",
       "2016-06-30   9573.685425     294.0   12.7175  2249.4833\n",
       "2016-09-30  30808.776425     490.0   21.0175  2512.1174\n",
       "2016-12-31  29539.825625     663.0   29.5375  1839.8741"
      ]
     },
     "execution_count": 47,
     "metadata": {},
     "output_type": "execute_result"
    }
   ],
   "source": [
    "# Here we are using the model module to create an ensemble model for us.\n",
    "# This will create previous cycle models for each product category and then combine the results.\n",
    "\n",
    "predictions = create_ensemble_predictions(\n",
    "    [office_supplies_train, furniture_train, technology_train],\n",
    "    [office_supplies_validate, furniture_validate, technology_validate],\n",
    "    'sales',\n",
    "    previous_cycle_model\n",
    ")\n",
    "predictions.head()"
   ]
  },
  {
   "cell_type": "code",
   "execution_count": 48,
   "id": "39904dfe-08c7-4b6d-933d-92dfb64b99f4",
   "metadata": {},
   "outputs": [
    {
     "data": {
      "text/html": [
       "<div>\n",
       "<style scoped>\n",
       "    .dataframe tbody tr th:only-of-type {\n",
       "        vertical-align: middle;\n",
       "    }\n",
       "\n",
       "    .dataframe tbody tr th {\n",
       "        vertical-align: top;\n",
       "    }\n",
       "\n",
       "    .dataframe thead th {\n",
       "        text-align: right;\n",
       "    }\n",
       "</style>\n",
       "<table border=\"1\" class=\"dataframe\">\n",
       "  <thead>\n",
       "    <tr style=\"text-align: right;\">\n",
       "      <th></th>\n",
       "      <th>model_type</th>\n",
       "      <th>target</th>\n",
       "      <th>rmse</th>\n",
       "    </tr>\n",
       "  </thead>\n",
       "  <tbody>\n",
       "    <tr>\n",
       "      <th>0</th>\n",
       "      <td>Simple Average</td>\n",
       "      <td>sales</td>\n",
       "      <td>7509.0</td>\n",
       "    </tr>\n",
       "    <tr>\n",
       "      <th>1</th>\n",
       "      <td>Holt</td>\n",
       "      <td>sales</td>\n",
       "      <td>15884.0</td>\n",
       "    </tr>\n",
       "    <tr>\n",
       "      <th>2</th>\n",
       "      <td>Prophet</td>\n",
       "      <td>sales</td>\n",
       "      <td>8501.0</td>\n",
       "    </tr>\n",
       "    <tr>\n",
       "      <th>3</th>\n",
       "      <td>Previous Cycle</td>\n",
       "      <td>sales</td>\n",
       "      <td>11007.0</td>\n",
       "    </tr>\n",
       "  </tbody>\n",
       "</table>\n",
       "</div>"
      ],
      "text/plain": [
       "       model_type target     rmse\n",
       "0  Simple Average  sales   7509.0\n",
       "1            Holt  sales  15884.0\n",
       "2         Prophet  sales   8501.0\n",
       "3  Previous Cycle  sales  11007.0"
      ]
     },
     "execution_count": 48,
     "metadata": {},
     "output_type": "execute_result"
    }
   ],
   "source": [
    "region_eval_df = append_eval_df('Previous Cycle', 'sales', superstore_validate, predictions, region_eval_df)\n",
    "region_eval_df"
   ]
  },
  {
   "cell_type": "markdown",
   "id": "1a9f3293-a507-4eef-a335-6763f6fcca13",
   "metadata": {},
   "source": [
    "### Results\n",
    "\n",
    "It looks like the results are the same across the board whether we split by region, category, or forecast total sales."
   ]
  }
 ],
 "metadata": {
  "kernelspec": {
   "display_name": "Python 3 (ipykernel)",
   "language": "python",
   "name": "python3"
  },
  "language_info": {
   "codemirror_mode": {
    "name": "ipython",
    "version": 3
   },
   "file_extension": ".py",
   "mimetype": "text/x-python",
   "name": "python",
   "nbconvert_exporter": "python",
   "pygments_lexer": "ipython3",
   "version": "3.9.7"
  }
 },
 "nbformat": 4,
 "nbformat_minor": 5
}
