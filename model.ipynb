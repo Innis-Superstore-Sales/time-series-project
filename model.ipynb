{
 "cells": [
  {
   "cell_type": "markdown",
   "id": "91bcf273-05a1-45e3-ac7f-4eb2d7d988e3",
   "metadata": {},
   "source": [
    "# Modeling\n",
    "\n",
    "This notebook contains all steps taken in the modeling phase of the data science pipeline for the Superstore Time Series project. This notebook does rely on helper files so if you want to run the code blocks in this notebook ensure that you have all the helper files in the same directory.\n",
    "\n",
    "---\n",
    "\n",
    "## The Required Imports\n",
    "\n",
    "Everything we need to run the code blocks in this notebook are imported below. To run the code blocks in this report you will need numpy, pandas, matplotlib, seaborn and sklearn installed on your computer."
   ]
  },
  {
   "cell_type": "code",
   "execution_count": 1,
   "id": "a9720e14-c193-4899-97d6-cedf48cf63dd",
   "metadata": {},
   "outputs": [
    {
     "name": "stderr",
     "output_type": "stream",
     "text": [
      "Importing plotly failed. Interactive plots will not work.\n"
     ]
    }
   ],
   "source": [
    "import numpy as np\n",
    "import pandas as pd\n",
    "import matplotlib.pyplot as plt\n",
    "import seaborn as sns\n",
    "\n",
    "import statsmodels.api as sm\n",
    "from statsmodels.tsa.api import Holt\n",
    "from prophet import Prophet\n",
    "\n",
    "from sklearn.metrics import mean_squared_error\n",
    "\n",
    "# from prepare import split_data\n",
    "from wrangle import wrangle\n",
    "from prepare import split_data\n",
    "from evaluate import *"
   ]
  },
  {
   "cell_type": "markdown",
   "id": "07f752dd-da5e-467a-8e7e-a01324e343b5",
   "metadata": {},
   "source": [
    "---\n",
    "\n",
    "## Acquire, Prepare, and Split the Data\n",
    "\n",
    "Here we will acquire and prepare the data using the wrangle module. We'll then split each dataframe into train, validate, and test using the prepare module."
   ]
  },
  {
   "cell_type": "code",
   "execution_count": 2,
   "id": "389a5e75-043f-400f-b963-a33c998767f7",
   "metadata": {},
   "outputs": [
    {
     "name": "stdout",
     "output_type": "stream",
     "text": [
      "Reading from .csv file.\n"
     ]
    }
   ],
   "source": [
    "superstore, store_east, store_west, store_south, store_central, office_supplies, furniture, technology = wrangle()"
   ]
  },
  {
   "cell_type": "code",
   "execution_count": 3,
   "id": "680a79d1-35e3-417d-9c3a-f6fa3239973c",
   "metadata": {},
   "outputs": [],
   "source": [
    "superstore_train, superstore_validate, superstore_test = split_data(superstore)\n",
    "\n",
    "store_east_train, store_east_validate, store_east_test = split_data(store_east)\n",
    "store_west_train, store_west_validate, store_west_test = split_data(store_west)\n",
    "store_south_train, store_south_validate, store_south_test = split_data(store_south)\n",
    "store_central_train, store_central_validate, store_central_test = split_data(store_central)\n",
    "\n",
    "office_supplies_train, office_supplies_validate, office_supplies_test = split_data(office_supplies)\n",
    "furniture_train, furniture_validate, furniture_test = split_data(furniture)\n",
    "technology_train, technology_validate, technology_test = split_data(technology)"
   ]
  },
  {
   "cell_type": "markdown",
   "id": "d2d0e15d-fdf8-42de-a805-28c2c34b71d9",
   "metadata": {},
   "source": [
    "---\n",
    "\n",
    "## Establishing a Baseline\n",
    "\n",
    "Now we need to establish a baseline against which to compare the performance of our models. We'll use various simple forecasting strategies (last observed value, simple average, various moving averages) and pick the strategy with the lowest RMSE value to be our baseline.\n",
    "\n",
    "### Last Observed Value\n",
    "\n",
    "We'll start by creating a last observed value forecast."
   ]
  },
  {
   "cell_type": "code",
   "execution_count": 4,
   "id": "a76865d8-566c-4a63-b1a1-a13421fba4e3",
   "metadata": {},
   "outputs": [
    {
     "data": {
      "text/plain": [
       "4987.26"
      ]
     },
     "execution_count": 4,
     "metadata": {},
     "output_type": "execute_result"
    }
   ],
   "source": [
    "# Calculate the last observed value.\n",
    "\n",
    "last_observed_value = round(superstore_train.sales[-1], 2)\n",
    "last_observed_value"
   ]
  },
  {
   "cell_type": "code",
   "execution_count": 5,
   "id": "893e881d-3b02-473c-a251-c7cc021abd7d",
   "metadata": {},
   "outputs": [
    {
     "data": {
      "text/html": [
       "<div>\n",
       "<style scoped>\n",
       "    .dataframe tbody tr th:only-of-type {\n",
       "        vertical-align: middle;\n",
       "    }\n",
       "\n",
       "    .dataframe tbody tr th {\n",
       "        vertical-align: top;\n",
       "    }\n",
       "\n",
       "    .dataframe thead th {\n",
       "        text-align: right;\n",
       "    }\n",
       "</style>\n",
       "<table border=\"1\" class=\"dataframe\">\n",
       "  <thead>\n",
       "    <tr style=\"text-align: right;\">\n",
       "      <th></th>\n",
       "      <th>sales</th>\n",
       "    </tr>\n",
       "    <tr>\n",
       "      <th>order_date</th>\n",
       "      <th></th>\n",
       "    </tr>\n",
       "  </thead>\n",
       "  <tbody>\n",
       "    <tr>\n",
       "      <th>2016-01-03</th>\n",
       "      <td>4987.26</td>\n",
       "    </tr>\n",
       "    <tr>\n",
       "      <th>2016-01-10</th>\n",
       "      <td>4987.26</td>\n",
       "    </tr>\n",
       "    <tr>\n",
       "      <th>2016-01-17</th>\n",
       "      <td>4987.26</td>\n",
       "    </tr>\n",
       "    <tr>\n",
       "      <th>2016-01-24</th>\n",
       "      <td>4987.26</td>\n",
       "    </tr>\n",
       "    <tr>\n",
       "      <th>2016-01-31</th>\n",
       "      <td>4987.26</td>\n",
       "    </tr>\n",
       "  </tbody>\n",
       "</table>\n",
       "</div>"
      ],
      "text/plain": [
       "              sales\n",
       "order_date         \n",
       "2016-01-03  4987.26\n",
       "2016-01-10  4987.26\n",
       "2016-01-17  4987.26\n",
       "2016-01-24  4987.26\n",
       "2016-01-31  4987.26"
      ]
     },
     "execution_count": 5,
     "metadata": {},
     "output_type": "execute_result"
    }
   ],
   "source": [
    "# Create a dataframe of predictions using the last observed value.\n",
    "\n",
    "predictions = make_static_predictions('sales', last_observed_value, superstore_validate.index)\n",
    "predictions.head()"
   ]
  },
  {
   "cell_type": "code",
   "execution_count": 6,
   "id": "51ca14bc-04b4-4c96-8bde-3bb849e34fb7",
   "metadata": {},
   "outputs": [
    {
     "data": {
      "text/html": [
       "<div>\n",
       "<style scoped>\n",
       "    .dataframe tbody tr th:only-of-type {\n",
       "        vertical-align: middle;\n",
       "    }\n",
       "\n",
       "    .dataframe tbody tr th {\n",
       "        vertical-align: top;\n",
       "    }\n",
       "\n",
       "    .dataframe thead th {\n",
       "        text-align: right;\n",
       "    }\n",
       "</style>\n",
       "<table border=\"1\" class=\"dataframe\">\n",
       "  <thead>\n",
       "    <tr style=\"text-align: right;\">\n",
       "      <th></th>\n",
       "      <th>model_type</th>\n",
       "      <th>target</th>\n",
       "      <th>rmse</th>\n",
       "    </tr>\n",
       "  </thead>\n",
       "  <tbody>\n",
       "    <tr>\n",
       "      <th>0</th>\n",
       "      <td>Last Observed Value</td>\n",
       "      <td>sales</td>\n",
       "      <td>3598.0</td>\n",
       "    </tr>\n",
       "  </tbody>\n",
       "</table>\n",
       "</div>"
      ],
      "text/plain": [
       "            model_type target    rmse\n",
       "0  Last Observed Value  sales  3598.0"
      ]
     },
     "execution_count": 6,
     "metadata": {},
     "output_type": "execute_result"
    }
   ],
   "source": [
    "# Add the results to the eval_df.\n",
    "\n",
    "eval_df = append_eval_df('Last Observed Value', 'sales', superstore_validate, predictions)\n",
    "eval_df"
   ]
  },
  {
   "cell_type": "code",
   "execution_count": 7,
   "id": "6b34b2dc-69b5-4030-962b-d92088f174eb",
   "metadata": {},
   "outputs": [
    {
     "data": {
      "image/png": "[encoded data removed]",
      "text/plain": [
       "<Figure size 864x288 with 1 Axes>"
      ]
     },
     "metadata": {
      "needs_background": "light"
     },
     "output_type": "display_data"
    }
   ],
   "source": [
    "# Visualize the results.\n",
    "\n",
    "plot_forecast('sales', superstore_train, superstore_validate, predictions)"
   ]
  },
  {
   "cell_type": "markdown",
   "id": "d53f8b37-f5a5-496a-af58-95ee6d8c08c8",
   "metadata": {},
   "source": [
    "### Simple Average\n",
    "\n",
    "Now let's create a simple average forecast."
   ]
  },
  {
   "cell_type": "code",
   "execution_count": 8,
   "id": "1c965430-baa3-4dc8-ae9e-650ec001fe60",
   "metadata": {},
   "outputs": [
    {
     "data": {
      "text/plain": [
       "1861.29"
      ]
     },
     "execution_count": 8,
     "metadata": {},
     "output_type": "execute_result"
    }
   ],
   "source": [
    "# Calculate the simple average.\n",
    "\n",
    "simple_avg = round(superstore_train.sales.mean(), 2)\n",
    "simple_avg"
   ]
  },
  {
   "cell_type": "code",
   "execution_count": 9,
   "id": "8a2e5c48-6380-4d0a-81ad-7a3321de9f50",
   "metadata": {},
   "outputs": [
    {
     "data": {
      "text/html": [
       "<div>\n",
       "<style scoped>\n",
       "    .dataframe tbody tr th:only-of-type {\n",
       "        vertical-align: middle;\n",
       "    }\n",
       "\n",
       "    .dataframe tbody tr th {\n",
       "        vertical-align: top;\n",
       "    }\n",
       "\n",
       "    .dataframe thead th {\n",
       "        text-align: right;\n",
       "    }\n",
       "</style>\n",
       "<table border=\"1\" class=\"dataframe\">\n",
       "  <thead>\n",
       "    <tr style=\"text-align: right;\">\n",
       "      <th></th>\n",
       "      <th>sales</th>\n",
       "    </tr>\n",
       "    <tr>\n",
       "      <th>order_date</th>\n",
       "      <th></th>\n",
       "    </tr>\n",
       "  </thead>\n",
       "  <tbody>\n",
       "    <tr>\n",
       "      <th>2016-01-03</th>\n",
       "      <td>1861.29</td>\n",
       "    </tr>\n",
       "    <tr>\n",
       "      <th>2016-01-10</th>\n",
       "      <td>1861.29</td>\n",
       "    </tr>\n",
       "    <tr>\n",
       "      <th>2016-01-17</th>\n",
       "      <td>1861.29</td>\n",
       "    </tr>\n",
       "    <tr>\n",
       "      <th>2016-01-24</th>\n",
       "      <td>1861.29</td>\n",
       "    </tr>\n",
       "    <tr>\n",
       "      <th>2016-01-31</th>\n",
       "      <td>1861.29</td>\n",
       "    </tr>\n",
       "  </tbody>\n",
       "</table>\n",
       "</div>"
      ],
      "text/plain": [
       "              sales\n",
       "order_date         \n",
       "2016-01-03  1861.29\n",
       "2016-01-10  1861.29\n",
       "2016-01-17  1861.29\n",
       "2016-01-24  1861.29\n",
       "2016-01-31  1861.29"
      ]
     },
     "execution_count": 9,
     "metadata": {},
     "output_type": "execute_result"
    }
   ],
   "source": [
    "# Create a predictions dataframe using the simple average.\n",
    "\n",
    "predictions = make_static_predictions('sales', simple_avg, superstore_validate.index)\n",
    "predictions.head()"
   ]
  },
  {
   "cell_type": "code",
   "execution_count": 10,
   "id": "6f7a3ab1-8a03-4910-8ce7-577fb42a6ece",
   "metadata": {},
   "outputs": [
    {
     "data": {
      "text/html": [
       "<div>\n",
       "<style scoped>\n",
       "    .dataframe tbody tr th:only-of-type {\n",
       "        vertical-align: middle;\n",
       "    }\n",
       "\n",
       "    .dataframe tbody tr th {\n",
       "        vertical-align: top;\n",
       "    }\n",
       "\n",
       "    .dataframe thead th {\n",
       "        text-align: right;\n",
       "    }\n",
       "</style>\n",
       "<table border=\"1\" class=\"dataframe\">\n",
       "  <thead>\n",
       "    <tr style=\"text-align: right;\">\n",
       "      <th></th>\n",
       "      <th>model_type</th>\n",
       "      <th>target</th>\n",
       "      <th>rmse</th>\n",
       "    </tr>\n",
       "  </thead>\n",
       "  <tbody>\n",
       "    <tr>\n",
       "      <th>0</th>\n",
       "      <td>Last Observed Value</td>\n",
       "      <td>sales</td>\n",
       "      <td>3598.0</td>\n",
       "    </tr>\n",
       "    <tr>\n",
       "      <th>1</th>\n",
       "      <td>Simple Average</td>\n",
       "      <td>sales</td>\n",
       "      <td>2089.0</td>\n",
       "    </tr>\n",
       "  </tbody>\n",
       "</table>\n",
       "</div>"
      ],
      "text/plain": [
       "            model_type target    rmse\n",
       "0  Last Observed Value  sales  3598.0\n",
       "1       Simple Average  sales  2089.0"
      ]
     },
     "execution_count": 10,
     "metadata": {},
     "output_type": "execute_result"
    }
   ],
   "source": [
    "# Add the results to eval_df.\n",
    "\n",
    "eval_df = append_eval_df('Simple Average', 'sales', superstore_validate, predictions, eval_df)\n",
    "eval_df"
   ]
  },
  {
   "cell_type": "code",
   "execution_count": 11,
   "id": "61a4ed69-25e5-4508-b5c1-6d2421b5aab3",
   "metadata": {},
   "outputs": [
    {
     "data": {
      "image/png": "[encoded data removed]",
      "text/plain": [
       "<Figure size 864x288 with 1 Axes>"
      ]
     },
     "metadata": {
      "needs_background": "light"
     },
     "output_type": "display_data"
    }
   ],
   "source": [
    "# Visualize the results.\n",
    "\n",
    "plot_forecast('sales', superstore_train, superstore_validate, predictions)"
   ]
  },
  {
   "cell_type": "markdown",
   "id": "010a7dc5-adbc-4d46-812b-3f773dc0b902",
   "metadata": {},
   "source": [
    "### Moving Average\n",
    "\n",
    "Now we'll create various moving average forecasts. We'll do the following moving averages: 1 month, 1 quarter, half year, and full year."
   ]
  },
  {
   "cell_type": "code",
   "execution_count": 12,
   "id": "3581e228-eae9-44d8-a053-5242c1232323",
   "metadata": {},
   "outputs": [
    {
     "data": {
      "text/html": [
       "<div>\n",
       "<style scoped>\n",
       "    .dataframe tbody tr th:only-of-type {\n",
       "        vertical-align: middle;\n",
       "    }\n",
       "\n",
       "    .dataframe tbody tr th {\n",
       "        vertical-align: top;\n",
       "    }\n",
       "\n",
       "    .dataframe thead th {\n",
       "        text-align: right;\n",
       "    }\n",
       "</style>\n",
       "<table border=\"1\" class=\"dataframe\">\n",
       "  <thead>\n",
       "    <tr style=\"text-align: right;\">\n",
       "      <th></th>\n",
       "      <th>model_type</th>\n",
       "      <th>target</th>\n",
       "      <th>rmse</th>\n",
       "    </tr>\n",
       "  </thead>\n",
       "  <tbody>\n",
       "    <tr>\n",
       "      <th>0</th>\n",
       "      <td>Last Observed Value</td>\n",
       "      <td>sales</td>\n",
       "      <td>3598.0</td>\n",
       "    </tr>\n",
       "    <tr>\n",
       "      <th>1</th>\n",
       "      <td>Simple Average</td>\n",
       "      <td>sales</td>\n",
       "      <td>2089.0</td>\n",
       "    </tr>\n",
       "    <tr>\n",
       "      <th>2</th>\n",
       "      <td>Moving Average 4 Weeks</td>\n",
       "      <td>sales</td>\n",
       "      <td>2399.0</td>\n",
       "    </tr>\n",
       "    <tr>\n",
       "      <th>3</th>\n",
       "      <td>Moving Average 12 Weeks</td>\n",
       "      <td>sales</td>\n",
       "      <td>2130.0</td>\n",
       "    </tr>\n",
       "    <tr>\n",
       "      <th>4</th>\n",
       "      <td>Moving Average 26 Weeks</td>\n",
       "      <td>sales</td>\n",
       "      <td>2112.0</td>\n",
       "    </tr>\n",
       "    <tr>\n",
       "      <th>5</th>\n",
       "      <td>Moving Average 52 Weeks</td>\n",
       "      <td>sales</td>\n",
       "      <td>2094.0</td>\n",
       "    </tr>\n",
       "  </tbody>\n",
       "</table>\n",
       "</div>"
      ],
      "text/plain": [
       "                model_type target    rmse\n",
       "0      Last Observed Value  sales  3598.0\n",
       "1           Simple Average  sales  2089.0\n",
       "2   Moving Average 4 Weeks  sales  2399.0\n",
       "3  Moving Average 12 Weeks  sales  2130.0\n",
       "4  Moving Average 26 Weeks  sales  2112.0\n",
       "5  Moving Average 52 Weeks  sales  2094.0"
      ]
     },
     "execution_count": 12,
     "metadata": {},
     "output_type": "execute_result"
    }
   ],
   "source": [
    "# Our data is grouped by weeks so we will use values 4, 12, 26, and 52.\n",
    "periods = [4, 12, 26, 52]\n",
    "\n",
    "# For each period:\n",
    "# - Calculate the moving average\n",
    "# - Create the predictions dataframe\n",
    "# - Add the results to eval_df\n",
    "for period in periods:\n",
    "    moving_avg = round(superstore_train.sales.rolling(period).mean()[-1], 2)\n",
    "    predictions = make_static_predictions('sales', moving_avg, superstore_validate.index)\n",
    "    eval_df = append_eval_df(f'Moving Average {period} Weeks', 'sales', superstore_validate, predictions, eval_df)\n",
    "    \n",
    "eval_df"
   ]
  },
  {
   "cell_type": "markdown",
   "id": "fd19ebec-dffa-4752-a5ee-fc8450af735a",
   "metadata": {},
   "source": [
    "### Results\n",
    "\n",
    "For the overall total sales the simple average forecast provides the lowest RMSE value so this will be the baseline. We can determine this programmatically as well."
   ]
  },
  {
   "cell_type": "code",
   "execution_count": 13,
   "id": "3fdbe670-8d3f-437a-b8f7-269b777dccc6",
   "metadata": {},
   "outputs": [
    {
     "data": {
      "text/html": [
       "<div>\n",
       "<style scoped>\n",
       "    .dataframe tbody tr th:only-of-type {\n",
       "        vertical-align: middle;\n",
       "    }\n",
       "\n",
       "    .dataframe tbody tr th {\n",
       "        vertical-align: top;\n",
       "    }\n",
       "\n",
       "    .dataframe thead th {\n",
       "        text-align: right;\n",
       "    }\n",
       "</style>\n",
       "<table border=\"1\" class=\"dataframe\">\n",
       "  <thead>\n",
       "    <tr style=\"text-align: right;\">\n",
       "      <th></th>\n",
       "      <th>model_type</th>\n",
       "      <th>target</th>\n",
       "      <th>rmse</th>\n",
       "    </tr>\n",
       "  </thead>\n",
       "  <tbody>\n",
       "    <tr>\n",
       "      <th>1</th>\n",
       "      <td>Simple Average</td>\n",
       "      <td>sales</td>\n",
       "      <td>2089.0</td>\n",
       "    </tr>\n",
       "  </tbody>\n",
       "</table>\n",
       "</div>"
      ],
      "text/plain": [
       "       model_type target    rmse\n",
       "1  Simple Average  sales  2089.0"
      ]
     },
     "execution_count": 13,
     "metadata": {},
     "output_type": "execute_result"
    }
   ],
   "source": [
    "# Get the row with the minimum rmse value.\n",
    "\n",
    "eval_df[eval_df.rmse == eval_df.rmse.min()]"
   ]
  },
  {
   "cell_type": "markdown",
   "id": "e0110851-acc6-45e1-8ed7-26559497931d",
   "metadata": {},
   "source": [
    "### Throw it in a Function\n",
    "\n",
    "Finally, let's create a function that can determine the best baseline for us."
   ]
  },
  {
   "cell_type": "code",
   "execution_count": 14,
   "id": "ff205a61-8e27-4ee4-9331-0c5e6e8a3479",
   "metadata": {},
   "outputs": [],
   "source": [
    "# def establish_baseline(train, validate):\n",
    "#     forecast_values = {\n",
    "#         'Last Observed Value' : round(train.sales[-1], 2),\n",
    "#         'Simple Average' : round(train.sales.mean(), 2)\n",
    "#     }\n",
    "\n",
    "#     periods = [4, 12, 26, 52]\n",
    "#     for period in periods:\n",
    "#         forecast_values[f'Moving Average {period} Weeks'] = round(train.sales.rolling(period).mean()[-1], 2)\n",
    "\n",
    "#     predictions = {}\n",
    "#     for key, value in forecast_values.items():\n",
    "#         predictions[key] = make_static_predictions('sales', value, validate.index)\n",
    "\n",
    "#     eval_df = None\n",
    "#     for key, prediction in predictions.items():\n",
    "#         eval_df = append_eval_df(key, 'sales', validate, prediction, eval_df)\n",
    "\n",
    "#     return eval_df[eval_df.rmse == eval_df.rmse.min()]"
   ]
  },
  {
   "cell_type": "code",
   "execution_count": 15,
   "id": "322849b9-8902-4e17-a804-d8504358b703",
   "metadata": {},
   "outputs": [],
   "source": [
    "# Let's test it\n",
    "\n",
    "# establish_baseline(superstore_train, superstore_validate)"
   ]
  },
  {
   "cell_type": "code",
   "execution_count": 16,
   "id": "1a816ca4-fc1f-4e6e-95e9-2af8c5da5ab5",
   "metadata": {},
   "outputs": [
    {
     "data": {
      "text/html": [
       "<div>\n",
       "<style scoped>\n",
       "    .dataframe tbody tr th:only-of-type {\n",
       "        vertical-align: middle;\n",
       "    }\n",
       "\n",
       "    .dataframe tbody tr th {\n",
       "        vertical-align: top;\n",
       "    }\n",
       "\n",
       "    .dataframe thead th {\n",
       "        text-align: right;\n",
       "    }\n",
       "</style>\n",
       "<table border=\"1\" class=\"dataframe\">\n",
       "  <thead>\n",
       "    <tr style=\"text-align: right;\">\n",
       "      <th></th>\n",
       "      <th>model_type</th>\n",
       "      <th>target</th>\n",
       "      <th>rmse</th>\n",
       "    </tr>\n",
       "  </thead>\n",
       "  <tbody>\n",
       "    <tr>\n",
       "      <th>1</th>\n",
       "      <td>Simple Average</td>\n",
       "      <td>sales</td>\n",
       "      <td>2089.0</td>\n",
       "    </tr>\n",
       "  </tbody>\n",
       "</table>\n",
       "</div>"
      ],
      "text/plain": [
       "       model_type target    rmse\n",
       "1  Simple Average  sales  2089.0"
      ]
     },
     "execution_count": 16,
     "metadata": {},
     "output_type": "execute_result"
    }
   ],
   "source": [
    "# Now let's test it from the model.py file.\n",
    "\n",
    "from model import establish_baseline\n",
    "\n",
    "eval_df = establish_baseline(superstore_train, superstore_validate)\n",
    "eval_df"
   ]
  },
  {
   "cell_type": "markdown",
   "id": "1ad946f5-4c54-426c-a078-657058029330",
   "metadata": {},
   "source": [
    "---\n",
    "\n",
    "## Creating Different Forecasting Models\n",
    "\n",
    "Now that we have a baseline model we can try out some dynamic modeling strategies such as Holt's Linear Trend and FB Prophet.\n",
    "\n",
    "### Holt's Linear Trend\n",
    "\n",
    "Here we'll create a Holt model for forecasting sales."
   ]
  },
  {
   "cell_type": "code",
   "execution_count": 17,
   "id": "7fdeae4f-5f2b-4858-8a55-01784c1e5021",
   "metadata": {},
   "outputs": [
    {
     "name": "stderr",
     "output_type": "stream",
     "text": [
      "/usr/local/anaconda3/lib/python3.9/site-packages/statsmodels/tsa/holtwinters/model.py:427: FutureWarning: After 0.13 initialization must be handled at model creation\n",
      "  warnings.warn(\n"
     ]
    }
   ],
   "source": [
    "# Create the model\n",
    "\n",
    "model = Holt(superstore_train.sales, damped_trend = True)"
   ]
  },
  {
   "cell_type": "code",
   "execution_count": 18,
   "id": "1e089e57-03b9-4300-a5dc-81765fae1d6d",
   "metadata": {},
   "outputs": [
    {
     "name": "stderr",
     "output_type": "stream",
     "text": [
      "/usr/local/anaconda3/lib/python3.9/site-packages/statsmodels/tsa/holtwinters/model.py:920: ConvergenceWarning: Optimization failed to converge. Check mle_retvals.\n",
      "  warnings.warn(\n"
     ]
    }
   ],
   "source": [
    "# Fit the model\n",
    "\n",
    "model = model.fit()"
   ]
  },
  {
   "cell_type": "code",
   "execution_count": 19,
   "id": "59ca5f14-bd9b-4ebc-b7f6-b8394605ad34",
   "metadata": {},
   "outputs": [
    {
     "name": "stderr",
     "output_type": "stream",
     "text": [
      "/usr/local/anaconda3/lib/python3.9/site-packages/statsmodels/tsa/base/tsa_model.py:132: FutureWarning: The 'freq' argument in Timestamp is deprecated and will be removed in a future version.\n",
      "  date_key = Timestamp(key, freq=base_index.freq)\n"
     ]
    },
    {
     "data": {
      "text/plain": [
       "2016-01-03    3187.481390\n",
       "2016-01-10    3270.026987\n",
       "2016-01-17    3351.714971\n",
       "2016-01-24    3432.554254\n",
       "2016-01-31    3512.553653\n",
       "Freq: W-SUN, dtype: float64"
      ]
     },
     "execution_count": 19,
     "metadata": {},
     "output_type": "execute_result"
    }
   ],
   "source": [
    "# Make predictions\n",
    "\n",
    "predictions = model.predict(\n",
    "    start = superstore_validate.index[0],\n",
    "    end = superstore_validate.index[-1]\n",
    ")\n",
    "predictions.head()"
   ]
  },
  {
   "cell_type": "code",
   "execution_count": 20,
   "id": "8f94e1e0-b7bf-4700-9bc4-a935593f67bc",
   "metadata": {},
   "outputs": [
    {
     "data": {
      "text/html": [
       "<div>\n",
       "<style scoped>\n",
       "    .dataframe tbody tr th:only-of-type {\n",
       "        vertical-align: middle;\n",
       "    }\n",
       "\n",
       "    .dataframe tbody tr th {\n",
       "        vertical-align: top;\n",
       "    }\n",
       "\n",
       "    .dataframe thead th {\n",
       "        text-align: right;\n",
       "    }\n",
       "</style>\n",
       "<table border=\"1\" class=\"dataframe\">\n",
       "  <thead>\n",
       "    <tr style=\"text-align: right;\">\n",
       "      <th></th>\n",
       "      <th>sales</th>\n",
       "    </tr>\n",
       "  </thead>\n",
       "  <tbody>\n",
       "    <tr>\n",
       "      <th>2016-01-03</th>\n",
       "      <td>3187.481390</td>\n",
       "    </tr>\n",
       "    <tr>\n",
       "      <th>2016-01-10</th>\n",
       "      <td>3270.026987</td>\n",
       "    </tr>\n",
       "    <tr>\n",
       "      <th>2016-01-17</th>\n",
       "      <td>3351.714971</td>\n",
       "    </tr>\n",
       "    <tr>\n",
       "      <th>2016-01-24</th>\n",
       "      <td>3432.554254</td>\n",
       "    </tr>\n",
       "    <tr>\n",
       "      <th>2016-01-31</th>\n",
       "      <td>3512.553653</td>\n",
       "    </tr>\n",
       "  </tbody>\n",
       "</table>\n",
       "</div>"
      ],
      "text/plain": [
       "                  sales\n",
       "2016-01-03  3187.481390\n",
       "2016-01-10  3270.026987\n",
       "2016-01-17  3351.714971\n",
       "2016-01-24  3432.554254\n",
       "2016-01-31  3512.553653"
      ]
     },
     "execution_count": 20,
     "metadata": {},
     "output_type": "execute_result"
    }
   ],
   "source": [
    "# Make predictions a dataframe\n",
    "\n",
    "predictions = pd.DataFrame(predictions, columns = ['sales'], index = predictions.index)\n",
    "predictions.head()"
   ]
  },
  {
   "cell_type": "code",
   "execution_count": 21,
   "id": "a7e93d1a-549d-47db-8bc3-bba780a1b807",
   "metadata": {},
   "outputs": [
    {
     "data": {
      "text/html": [
       "<div>\n",
       "<style scoped>\n",
       "    .dataframe tbody tr th:only-of-type {\n",
       "        vertical-align: middle;\n",
       "    }\n",
       "\n",
       "    .dataframe tbody tr th {\n",
       "        vertical-align: top;\n",
       "    }\n",
       "\n",
       "    .dataframe thead th {\n",
       "        text-align: right;\n",
       "    }\n",
       "</style>\n",
       "<table border=\"1\" class=\"dataframe\">\n",
       "  <thead>\n",
       "    <tr style=\"text-align: right;\">\n",
       "      <th></th>\n",
       "      <th>model_type</th>\n",
       "      <th>target</th>\n",
       "      <th>rmse</th>\n",
       "    </tr>\n",
       "  </thead>\n",
       "  <tbody>\n",
       "    <tr>\n",
       "      <th>0</th>\n",
       "      <td>Simple Average</td>\n",
       "      <td>sales</td>\n",
       "      <td>2089.0</td>\n",
       "    </tr>\n",
       "    <tr>\n",
       "      <th>1</th>\n",
       "      <td>Holt</td>\n",
       "      <td>sales</td>\n",
       "      <td>3544.0</td>\n",
       "    </tr>\n",
       "  </tbody>\n",
       "</table>\n",
       "</div>"
      ],
      "text/plain": [
       "       model_type target    rmse\n",
       "0  Simple Average  sales  2089.0\n",
       "1            Holt  sales  3544.0"
      ]
     },
     "execution_count": 21,
     "metadata": {},
     "output_type": "execute_result"
    }
   ],
   "source": [
    "eval_df = append_eval_df('Holt', 'sales', superstore_validate, predictions, eval_df)\n",
    "eval_df"
   ]
  },
  {
   "cell_type": "code",
   "execution_count": 22,
   "id": "ad5993c8-a198-4dec-bd8c-d023b41dca62",
   "metadata": {},
   "outputs": [
    {
     "data": {
      "image/png": "[encoded data removed]",
      "text/plain": [
       "<Figure size 864x288 with 1 Axes>"
      ]
     },
     "metadata": {
      "needs_background": "light"
     },
     "output_type": "display_data"
    }
   ],
   "source": [
    "plot_forecast('sales', superstore_train, superstore_validate, predictions)"
   ]
  },
  {
   "cell_type": "markdown",
   "id": "3b54f718-eda0-40eb-a5ef-4b8d7b741a68",
   "metadata": {},
   "source": [
    "This model performs far worse than the baseline.\n",
    "\n",
    "### FB Prophet\n",
    "\n",
    "Now let's try a Prophet model."
   ]
  },
  {
   "cell_type": "code",
   "execution_count": 23,
   "id": "ecbab71f-fca9-4931-907b-846aaa0aae0c",
   "metadata": {},
   "outputs": [],
   "source": [
    "# Create the model\n",
    "\n",
    "model = Prophet()"
   ]
  },
  {
   "cell_type": "code",
   "execution_count": 24,
   "id": "7ed240bf-15f1-4fa4-94f0-8afdf08971c2",
   "metadata": {},
   "outputs": [
    {
     "name": "stderr",
     "output_type": "stream",
     "text": [
      "INFO:prophet:Disabling yearly seasonality. Run prophet with yearly_seasonality=True to override this.\n",
      "INFO:prophet:Disabling weekly seasonality. Run prophet with weekly_seasonality=True to override this.\n",
      "INFO:prophet:Disabling daily seasonality. Run prophet with daily_seasonality=True to override this.\n"
     ]
    },
    {
     "name": "stdout",
     "output_type": "stream",
     "text": [
      "Initial log joint probability = -4.50357\n",
      "    Iter      log prob        ||dx||      ||grad||       alpha      alpha0  # evals  Notes \n",
      "      99       119.538   1.06219e-07       90.2011      0.4486      0.4486      120   \n",
      "    Iter      log prob        ||dx||      ||grad||       alpha      alpha0  # evals  Notes \n",
      "     118       119.538   3.12052e-09         91.34      0.2796      0.2796      146   \n",
      "Optimization terminated normally: \n",
      "  Convergence detected: absolute parameter change was below tolerance\n"
     ]
    },
    {
     "data": {
      "text/plain": [
       "<prophet.forecaster.Prophet at 0x7fa60336c1f0>"
      ]
     },
     "execution_count": 24,
     "metadata": {},
     "output_type": "execute_result"
    }
   ],
   "source": [
    "# Fit the model\n",
    "\n",
    "model.fit(pd.DataFrame({\n",
    "    'ds' : superstore_train.index,\n",
    "    'y' : superstore_train.sales\n",
    "}))"
   ]
  },
  {
   "cell_type": "code",
   "execution_count": 25,
   "id": "e6471589-36ff-4edd-84a0-b711c7a48c04",
   "metadata": {},
   "outputs": [
    {
     "name": "stdout",
     "output_type": "stream",
     "text": [
      "<class 'pandas.core.frame.DataFrame'>\n",
      "DatetimeIndex: 157 entries, 2014-01-05 to 2017-01-01\n",
      "Freq: W-SUN\n",
      "Data columns (total 1 columns):\n",
      " #   Column  Non-Null Count  Dtype  \n",
      "---  ------  --------------  -----  \n",
      " 0   sales   157 non-null    float64\n",
      "dtypes: float64(1)\n",
      "memory usage: 2.5 KB\n"
     ]
    }
   ],
   "source": [
    "# Make predictions\n",
    "\n",
    "future = model.make_future_dataframe(365)\n",
    "results = model.predict(future)\n",
    "predictions = results[['ds', 'yhat']].set_index('ds')\n",
    "predictions.columns = ['sales']\n",
    "predictions = predictions.resample('W').mean()\n",
    "predictions.info()"
   ]
  },
  {
   "cell_type": "code",
   "execution_count": 26,
   "id": "7572e85a-1d0a-484a-bc9a-8e43a1906dfa",
   "metadata": {},
   "outputs": [
    {
     "data": {
      "text/html": [
       "<div>\n",
       "<style scoped>\n",
       "    .dataframe tbody tr th:only-of-type {\n",
       "        vertical-align: middle;\n",
       "    }\n",
       "\n",
       "    .dataframe tbody tr th {\n",
       "        vertical-align: top;\n",
       "    }\n",
       "\n",
       "    .dataframe thead th {\n",
       "        text-align: right;\n",
       "    }\n",
       "</style>\n",
       "<table border=\"1\" class=\"dataframe\">\n",
       "  <thead>\n",
       "    <tr style=\"text-align: right;\">\n",
       "      <th></th>\n",
       "      <th>model_type</th>\n",
       "      <th>target</th>\n",
       "      <th>rmse</th>\n",
       "    </tr>\n",
       "  </thead>\n",
       "  <tbody>\n",
       "    <tr>\n",
       "      <th>0</th>\n",
       "      <td>Simple Average</td>\n",
       "      <td>sales</td>\n",
       "      <td>2089.0</td>\n",
       "    </tr>\n",
       "    <tr>\n",
       "      <th>1</th>\n",
       "      <td>Holt</td>\n",
       "      <td>sales</td>\n",
       "      <td>3544.0</td>\n",
       "    </tr>\n",
       "    <tr>\n",
       "      <th>2</th>\n",
       "      <td>Prophet</td>\n",
       "      <td>sales</td>\n",
       "      <td>2201.0</td>\n",
       "    </tr>\n",
       "  </tbody>\n",
       "</table>\n",
       "</div>"
      ],
      "text/plain": [
       "       model_type target    rmse\n",
       "0  Simple Average  sales  2089.0\n",
       "1            Holt  sales  3544.0\n",
       "2         Prophet  sales  2201.0"
      ]
     },
     "execution_count": 26,
     "metadata": {},
     "output_type": "execute_result"
    }
   ],
   "source": [
    "eval_df = append_eval_df('Prophet', 'sales', superstore_validate, predictions.loc['2016'], eval_df)\n",
    "eval_df"
   ]
  },
  {
   "cell_type": "code",
   "execution_count": 27,
   "id": "1eac3510-75da-4ff1-8e52-31a5adc6b45f",
   "metadata": {},
   "outputs": [
    {
     "data": {
      "image/png": "[encoded data removed]",
      "text/plain": [
       "<Figure size 864x288 with 1 Axes>"
      ]
     },
     "metadata": {
      "needs_background": "light"
     },
     "output_type": "display_data"
    }
   ],
   "source": [
    "plot_forecast('sales', superstore_train, superstore_validate, predictions.loc['2016'])"
   ]
  },
  {
   "cell_type": "markdown",
   "id": "2954f3d4-caf5-405d-9a37-b3634289d125",
   "metadata": {},
   "source": [
    "Prophet also does not beat the baseline. We will likely need to narrow down the data by some category that will provide clearer insights into the sales trends. Without any seasonality in the data it's difficult to create an accurate model that does more than forecast average sales figures.\n",
    "\n",
    "### Previous Cycle\n",
    "\n",
    "Let's try one more strategy and use the previous cycle to predict the next one."
   ]
  },
  {
   "cell_type": "code",
   "execution_count": 28,
   "id": "e36276c1-f315-49e9-908a-8f99669d766d",
   "metadata": {},
   "outputs": [],
   "source": [
    "predictions = superstore_train.loc['2015'] + superstore_train.diff(52).mean()\n",
    "predictions.index = superstore_validate.index"
   ]
  },
  {
   "cell_type": "code",
   "execution_count": 29,
   "id": "819d661c-ea65-470e-95b5-e9d82b6130ea",
   "metadata": {},
   "outputs": [
    {
     "data": {
      "text/html": [
       "<div>\n",
       "<style scoped>\n",
       "    .dataframe tbody tr th:only-of-type {\n",
       "        vertical-align: middle;\n",
       "    }\n",
       "\n",
       "    .dataframe tbody tr th {\n",
       "        vertical-align: top;\n",
       "    }\n",
       "\n",
       "    .dataframe thead th {\n",
       "        text-align: right;\n",
       "    }\n",
       "</style>\n",
       "<table border=\"1\" class=\"dataframe\">\n",
       "  <thead>\n",
       "    <tr style=\"text-align: right;\">\n",
       "      <th></th>\n",
       "      <th>model_type</th>\n",
       "      <th>target</th>\n",
       "      <th>rmse</th>\n",
       "    </tr>\n",
       "  </thead>\n",
       "  <tbody>\n",
       "    <tr>\n",
       "      <th>0</th>\n",
       "      <td>Simple Average</td>\n",
       "      <td>sales</td>\n",
       "      <td>2089.0</td>\n",
       "    </tr>\n",
       "    <tr>\n",
       "      <th>1</th>\n",
       "      <td>Holt</td>\n",
       "      <td>sales</td>\n",
       "      <td>3544.0</td>\n",
       "    </tr>\n",
       "    <tr>\n",
       "      <th>2</th>\n",
       "      <td>Prophet</td>\n",
       "      <td>sales</td>\n",
       "      <td>2201.0</td>\n",
       "    </tr>\n",
       "    <tr>\n",
       "      <th>3</th>\n",
       "      <td>Previous Cycle</td>\n",
       "      <td>sales</td>\n",
       "      <td>3080.0</td>\n",
       "    </tr>\n",
       "  </tbody>\n",
       "</table>\n",
       "</div>"
      ],
      "text/plain": [
       "       model_type target    rmse\n",
       "0  Simple Average  sales  2089.0\n",
       "1            Holt  sales  3544.0\n",
       "2         Prophet  sales  2201.0\n",
       "3  Previous Cycle  sales  3080.0"
      ]
     },
     "execution_count": 29,
     "metadata": {},
     "output_type": "execute_result"
    }
   ],
   "source": [
    "eval_df = append_eval_df('Previous Cycle', 'sales', superstore_validate, predictions, eval_df)\n",
    "eval_df"
   ]
  },
  {
   "cell_type": "code",
   "execution_count": 30,
   "id": "00978487-cef2-4abc-8dc4-26bb1a3ce6c1",
   "metadata": {},
   "outputs": [
    {
     "data": {
      "image/png": "[encoded data removed]",
      "text/plain": [
       "<Figure size 864x288 with 1 Axes>"
      ]
     },
     "metadata": {
      "needs_background": "light"
     },
     "output_type": "display_data"
    }
   ],
   "source": [
    "plot_forecast('sales', superstore_train, superstore_validate, predictions)"
   ]
  },
  {
   "cell_type": "markdown",
   "id": "8aed5feb-9d25-4516-8c39-52e6e14164ae",
   "metadata": {},
   "source": [
    "---\n",
    "\n",
    "## Ensemble Model: A Model Per Region\n",
    "\n",
    "In exploration we noticed that there is a little more seasonality when filtered by region. So here we will try to build an ensemble model where we have a sales forecast for each region and then combine the results to make a total sales forecast.\n",
    "\n",
    "### Simple Average\n",
    "\n",
    "Since the simple average provided the best results for the total sales model we'll create a simple average model here as well."
   ]
  },
  {
   "cell_type": "code",
   "execution_count": 31,
   "id": "9b7b8467-2fab-43da-89cc-72536689ce38",
   "metadata": {},
   "outputs": [
    {
     "data": {
      "text/plain": [
       "1861.2878721153852"
      ]
     },
     "execution_count": 31,
     "metadata": {},
     "output_type": "execute_result"
    }
   ],
   "source": [
    "superstore_train.sales.mean()"
   ]
  },
  {
   "cell_type": "code",
   "execution_count": 33,
   "id": "3b693f5a-1906-4fb4-8dc0-a9723f904778",
   "metadata": {},
   "outputs": [
    {
     "data": {
      "text/plain": [
       "1894.2580870575055"
      ]
     },
     "execution_count": 33,
     "metadata": {},
     "output_type": "execute_result"
    }
   ],
   "source": [
    "store_east_train.sales.mean() + store_west_train.sales.mean() + store_central_train.sales.mean() + store_south_train.sales.mean()"
   ]
  },
  {
   "cell_type": "code",
   "execution_count": 34,
   "id": "6eb1d34b-c53e-49ed-b196-ff0505d47b39",
   "metadata": {},
   "outputs": [
    {
     "data": {
      "text/html": [
       "<div>\n",
       "<style scoped>\n",
       "    .dataframe tbody tr th:only-of-type {\n",
       "        vertical-align: middle;\n",
       "    }\n",
       "\n",
       "    .dataframe tbody tr th {\n",
       "        vertical-align: top;\n",
       "    }\n",
       "\n",
       "    .dataframe thead th {\n",
       "        text-align: right;\n",
       "    }\n",
       "</style>\n",
       "<table border=\"1\" class=\"dataframe\">\n",
       "  <thead>\n",
       "    <tr style=\"text-align: right;\">\n",
       "      <th></th>\n",
       "      <th>sales</th>\n",
       "    </tr>\n",
       "    <tr>\n",
       "      <th>order_date</th>\n",
       "      <th></th>\n",
       "    </tr>\n",
       "  </thead>\n",
       "  <tbody>\n",
       "    <tr>\n",
       "      <th>2016-01-03</th>\n",
       "      <td>1894.258087</td>\n",
       "    </tr>\n",
       "    <tr>\n",
       "      <th>2016-01-10</th>\n",
       "      <td>1894.258087</td>\n",
       "    </tr>\n",
       "    <tr>\n",
       "      <th>2016-01-17</th>\n",
       "      <td>1894.258087</td>\n",
       "    </tr>\n",
       "    <tr>\n",
       "      <th>2016-01-24</th>\n",
       "      <td>1894.258087</td>\n",
       "    </tr>\n",
       "    <tr>\n",
       "      <th>2016-01-31</th>\n",
       "      <td>1894.258087</td>\n",
       "    </tr>\n",
       "  </tbody>\n",
       "</table>\n",
       "</div>"
      ],
      "text/plain": [
       "                  sales\n",
       "order_date             \n",
       "2016-01-03  1894.258087\n",
       "2016-01-10  1894.258087\n",
       "2016-01-17  1894.258087\n",
       "2016-01-24  1894.258087\n",
       "2016-01-31  1894.258087"
      ]
     },
     "execution_count": 34,
     "metadata": {},
     "output_type": "execute_result"
    }
   ],
   "source": [
    "east_predictions = make_static_predictions('sales', store_east_train.sales.mean(), store_east_validate.index)\n",
    "west_predictions = make_static_predictions('sales', store_west_train.sales.mean(), store_west_validate.index)\n",
    "central_predictions = make_static_predictions('sales', store_central_train.sales.mean(), store_central_validate.index)\n",
    "south_predictions = make_static_predictions('sales', store_south_train.sales.mean(), store_south_validate.index)\n",
    "\n",
    "predictions = east_predictions + west_predictions + central_predictions + south_predictions\n",
    "predictions.head()"
   ]
  },
  {
   "cell_type": "code",
   "execution_count": 35,
   "id": "e2e3110b-5065-4f26-93fe-4499a112b0a6",
   "metadata": {},
   "outputs": [
    {
     "data": {
      "text/html": [
       "<div>\n",
       "<style scoped>\n",
       "    .dataframe tbody tr th:only-of-type {\n",
       "        vertical-align: middle;\n",
       "    }\n",
       "\n",
       "    .dataframe tbody tr th {\n",
       "        vertical-align: top;\n",
       "    }\n",
       "\n",
       "    .dataframe thead th {\n",
       "        text-align: right;\n",
       "    }\n",
       "</style>\n",
       "<table border=\"1\" class=\"dataframe\">\n",
       "  <thead>\n",
       "    <tr style=\"text-align: right;\">\n",
       "      <th></th>\n",
       "      <th>model_type</th>\n",
       "      <th>target</th>\n",
       "      <th>rmse</th>\n",
       "    </tr>\n",
       "  </thead>\n",
       "  <tbody>\n",
       "    <tr>\n",
       "      <th>0</th>\n",
       "      <td>Simple Average</td>\n",
       "      <td>sales</td>\n",
       "      <td>2086.0</td>\n",
       "    </tr>\n",
       "  </tbody>\n",
       "</table>\n",
       "</div>"
      ],
      "text/plain": [
       "       model_type target    rmse\n",
       "0  Simple Average  sales  2086.0"
      ]
     },
     "execution_count": 35,
     "metadata": {},
     "output_type": "execute_result"
    }
   ],
   "source": [
    "region_eval_df = append_eval_df('Simple Average', 'sales', superstore_validate, predictions)\n",
    "region_eval_df"
   ]
  },
  {
   "cell_type": "code",
   "execution_count": null,
   "id": "88b64a3a-22e6-4335-8757-4675ead58345",
   "metadata": {},
   "outputs": [],
   "source": []
  }
 ],
 "metadata": {
  "kernelspec": {
   "display_name": "Python 3 (ipykernel)",
   "language": "python",
   "name": "python3"
  },
  "language_info": {
   "codemirror_mode": {
    "name": "ipython",
    "version": 3
   },
   "file_extension": ".py",
   "mimetype": "text/x-python",
   "name": "python",
   "nbconvert_exporter": "python",
   "pygments_lexer": "ipython3",
   "version": "3.9.7"
  }
 },
 "nbformat": 4,
 "nbformat_minor": 5
}
