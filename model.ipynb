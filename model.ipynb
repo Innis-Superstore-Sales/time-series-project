{
 "cells": [
  {
   "cell_type": "markdown",
   "id": "91bcf273-05a1-45e3-ac7f-4eb2d7d988e3",
   "metadata": {},
   "source": [
    "# Modeling\n",
    "\n",
    "This notebook contains all steps taken in the modeling phase of the data science pipeline for the Superstore Time Series project. This notebook does rely on helper files so if you want to run the code blocks in this notebook ensure that you have all the helper files in the same directory.\n",
    "\n",
    "---\n",
    "\n",
    "## The Required Imports\n",
    "\n",
    "Everything we need to run the code blocks in this notebook are imported below. To run the code blocks in this report you will need numpy, pandas, matplotlib, seaborn and sklearn installed on your computer."
   ]
  },
  {
   "cell_type": "code",
   "execution_count": 1,
   "id": "a9720e14-c193-4899-97d6-cedf48cf63dd",
   "metadata": {},
   "outputs": [
    {
     "name": "stderr",
     "output_type": "stream",
     "text": [
      "Importing plotly failed. Interactive plots will not work.\n"
     ]
    }
   ],
   "source": [
    "import numpy as np\n",
    "import pandas as pd\n",
    "import matplotlib.pyplot as plt\n",
    "import seaborn as sns\n",
    "\n",
    "import statsmodels.api as sm\n",
    "from statsmodels.tsa.api import Holt\n",
    "from prophet import Prophet\n",
    "\n",
    "from sklearn.metrics import mean_squared_error\n",
    "\n",
    "# from prepare import split_data\n",
    "from wrangle import *\n",
    "from prepare import split_data\n",
    "from evaluate import *\n",
    "from model import *"
   ]
  },
  {
   "cell_type": "markdown",
   "id": "07f752dd-da5e-467a-8e7e-a01324e343b5",
   "metadata": {},
   "source": [
    "---\n",
    "\n",
    "## Acquire, Prepare, and Split the Data\n",
    "\n",
    "Here we will acquire and prepare the data using the wrangle module. We'll then split each dataframe into train, validate, and test using the prepare module."
   ]
  },
  {
   "cell_type": "code",
   "execution_count": 2,
   "id": "389a5e75-043f-400f-b963-a33c998767f7",
   "metadata": {},
   "outputs": [
    {
     "name": "stdout",
     "output_type": "stream",
     "text": [
      "Reading from .csv file.\n"
     ]
    }
   ],
   "source": [
    "superstore, store_east, store_west, store_south, store_central, office_supplies, furniture, technology = wrangle_remove_outliers()"
   ]
  },
  {
   "cell_type": "code",
   "execution_count": 3,
   "id": "c109ccc5-865a-4cf8-8024-b4c106318d6a",
   "metadata": {},
   "outputs": [],
   "source": [
    "# Here we'll resample into a less finely grained period to produce a more accurate forecast.\n",
    "\n",
    "resample_period = 'M'\n",
    "\n",
    "# This is the periods that are used for producing the moving averages\n",
    "periods = [1, 3, 6, 12]\n",
    "\n",
    "# Year size for previous cycle\n",
    "year_size = 12\n",
    "\n",
    "superstore = superstore.resample(resample_period).sum()\n",
    "\n",
    "store_east = store_east.resample(resample_period).sum()\n",
    "store_west = store_west.resample(resample_period).sum()\n",
    "store_south = store_south.resample(resample_period).sum()\n",
    "store_central = store_central.resample(resample_period).sum()\n",
    "\n",
    "office_supplies = office_supplies.resample(resample_period).sum()\n",
    "furniture = furniture.resample(resample_period).sum()\n",
    "technology = technology.resample(resample_period).sum()"
   ]
  },
  {
   "cell_type": "code",
   "execution_count": 4,
   "id": "680a79d1-35e3-417d-9c3a-f6fa3239973c",
   "metadata": {},
   "outputs": [],
   "source": [
    "superstore_train, superstore_validate, superstore_test = split_data(superstore)\n",
    "\n",
    "store_east_train, store_east_validate, store_east_test = split_data(store_east)\n",
    "store_west_train, store_west_validate, store_west_test = split_data(store_west)\n",
    "store_south_train, store_south_validate, store_south_test = split_data(store_south)\n",
    "store_central_train, store_central_validate, store_central_test = split_data(store_central)\n",
    "\n",
    "office_supplies_train, office_supplies_validate, office_supplies_test = split_data(office_supplies)\n",
    "furniture_train, furniture_validate, furniture_test = split_data(furniture)\n",
    "technology_train, technology_validate, technology_test = split_data(technology)"
   ]
  },
  {
   "cell_type": "markdown",
   "id": "d2d0e15d-fdf8-42de-a805-28c2c34b71d9",
   "metadata": {},
   "source": [
    "---\n",
    "\n",
    "## Establishing a Baseline\n",
    "\n",
    "Now we need to establish a baseline against which to compare the performance of our models. We'll use various simple forecasting strategies (last observed value, simple average, various moving averages) and pick the strategy with the lowest RMSE value to be our baseline.\n",
    "\n",
    "### Last Observed Value\n",
    "\n",
    "We'll start by creating a last observed value forecast."
   ]
  },
  {
   "cell_type": "code",
   "execution_count": 5,
   "id": "a76865d8-566c-4a63-b1a1-a13421fba4e3",
   "metadata": {},
   "outputs": [
    {
     "data": {
      "text/plain": [
       "6759.31"
      ]
     },
     "execution_count": 5,
     "metadata": {},
     "output_type": "execute_result"
    }
   ],
   "source": [
    "# Calculate the last observed value.\n",
    "\n",
    "last_observed_value = round(superstore_train.sales[-1], 2)\n",
    "last_observed_value"
   ]
  },
  {
   "cell_type": "code",
   "execution_count": 6,
   "id": "893e881d-3b02-473c-a251-c7cc021abd7d",
   "metadata": {},
   "outputs": [
    {
     "data": {
      "text/html": [
       "<div>\n",
       "<style scoped>\n",
       "    .dataframe tbody tr th:only-of-type {\n",
       "        vertical-align: middle;\n",
       "    }\n",
       "\n",
       "    .dataframe tbody tr th {\n",
       "        vertical-align: top;\n",
       "    }\n",
       "\n",
       "    .dataframe thead th {\n",
       "        text-align: right;\n",
       "    }\n",
       "</style>\n",
       "<table border=\"1\" class=\"dataframe\">\n",
       "  <thead>\n",
       "    <tr style=\"text-align: right;\">\n",
       "      <th></th>\n",
       "      <th>sales</th>\n",
       "    </tr>\n",
       "    <tr>\n",
       "      <th>order_date</th>\n",
       "      <th></th>\n",
       "    </tr>\n",
       "  </thead>\n",
       "  <tbody>\n",
       "    <tr>\n",
       "      <th>2016-01-31</th>\n",
       "      <td>6759.31</td>\n",
       "    </tr>\n",
       "    <tr>\n",
       "      <th>2016-02-29</th>\n",
       "      <td>6759.31</td>\n",
       "    </tr>\n",
       "    <tr>\n",
       "      <th>2016-03-31</th>\n",
       "      <td>6759.31</td>\n",
       "    </tr>\n",
       "    <tr>\n",
       "      <th>2016-04-30</th>\n",
       "      <td>6759.31</td>\n",
       "    </tr>\n",
       "    <tr>\n",
       "      <th>2016-05-31</th>\n",
       "      <td>6759.31</td>\n",
       "    </tr>\n",
       "  </tbody>\n",
       "</table>\n",
       "</div>"
      ],
      "text/plain": [
       "              sales\n",
       "order_date         \n",
       "2016-01-31  6759.31\n",
       "2016-02-29  6759.31\n",
       "2016-03-31  6759.31\n",
       "2016-04-30  6759.31\n",
       "2016-05-31  6759.31"
      ]
     },
     "execution_count": 6,
     "metadata": {},
     "output_type": "execute_result"
    }
   ],
   "source": [
    "# Create a dataframe of predictions using the last observed value.\n",
    "\n",
    "predictions = make_static_predictions('sales', last_observed_value, superstore_validate.index)\n",
    "predictions.head()"
   ]
  },
  {
   "cell_type": "code",
   "execution_count": 7,
   "id": "51ca14bc-04b4-4c96-8bde-3bb849e34fb7",
   "metadata": {},
   "outputs": [
    {
     "data": {
      "text/html": [
       "<div>\n",
       "<style scoped>\n",
       "    .dataframe tbody tr th:only-of-type {\n",
       "        vertical-align: middle;\n",
       "    }\n",
       "\n",
       "    .dataframe tbody tr th {\n",
       "        vertical-align: top;\n",
       "    }\n",
       "\n",
       "    .dataframe thead th {\n",
       "        text-align: right;\n",
       "    }\n",
       "</style>\n",
       "<table border=\"1\" class=\"dataframe\">\n",
       "  <thead>\n",
       "    <tr style=\"text-align: right;\">\n",
       "      <th></th>\n",
       "      <th>model_type</th>\n",
       "      <th>target</th>\n",
       "      <th>rmse</th>\n",
       "    </tr>\n",
       "  </thead>\n",
       "  <tbody>\n",
       "    <tr>\n",
       "      <th>0</th>\n",
       "      <td>Last Observed Value</td>\n",
       "      <td>sales</td>\n",
       "      <td>3509.0</td>\n",
       "    </tr>\n",
       "  </tbody>\n",
       "</table>\n",
       "</div>"
      ],
      "text/plain": [
       "            model_type target    rmse\n",
       "0  Last Observed Value  sales  3509.0"
      ]
     },
     "execution_count": 7,
     "metadata": {},
     "output_type": "execute_result"
    }
   ],
   "source": [
    "# Add the results to the eval_df.\n",
    "\n",
    "eval_df = append_eval_df('Last Observed Value', 'sales', superstore_validate, predictions)\n",
    "eval_df"
   ]
  },
  {
   "cell_type": "code",
   "execution_count": 8,
   "id": "6b34b2dc-69b5-4030-962b-d92088f174eb",
   "metadata": {},
   "outputs": [
    {
     "data": {
      "image/png": "[encoded data removed]",
      "text/plain": [
       "<Figure size 864x288 with 1 Axes>"
      ]
     },
     "metadata": {
      "needs_background": "light"
     },
     "output_type": "display_data"
    }
   ],
   "source": [
    "# Visualize the results.\n",
    "\n",
    "plot_forecast('sales', superstore_train, superstore_validate, predictions)"
   ]
  },
  {
   "cell_type": "markdown",
   "id": "d53f8b37-f5a5-496a-af58-95ee6d8c08c8",
   "metadata": {},
   "source": [
    "### Simple Average\n",
    "\n",
    "Now let's create a simple average forecast."
   ]
  },
  {
   "cell_type": "code",
   "execution_count": 9,
   "id": "1c965430-baa3-4dc8-ae9e-650ec001fe60",
   "metadata": {},
   "outputs": [
    {
     "data": {
      "text/plain": [
       "2443.89"
      ]
     },
     "execution_count": 9,
     "metadata": {},
     "output_type": "execute_result"
    }
   ],
   "source": [
    "# Calculate the simple average.\n",
    "\n",
    "simple_avg = round(superstore_train.sales.mean(), 2)\n",
    "simple_avg"
   ]
  },
  {
   "cell_type": "code",
   "execution_count": 10,
   "id": "8a2e5c48-6380-4d0a-81ad-7a3321de9f50",
   "metadata": {},
   "outputs": [
    {
     "data": {
      "text/html": [
       "<div>\n",
       "<style scoped>\n",
       "    .dataframe tbody tr th:only-of-type {\n",
       "        vertical-align: middle;\n",
       "    }\n",
       "\n",
       "    .dataframe tbody tr th {\n",
       "        vertical-align: top;\n",
       "    }\n",
       "\n",
       "    .dataframe thead th {\n",
       "        text-align: right;\n",
       "    }\n",
       "</style>\n",
       "<table border=\"1\" class=\"dataframe\">\n",
       "  <thead>\n",
       "    <tr style=\"text-align: right;\">\n",
       "      <th></th>\n",
       "      <th>sales</th>\n",
       "    </tr>\n",
       "    <tr>\n",
       "      <th>order_date</th>\n",
       "      <th></th>\n",
       "    </tr>\n",
       "  </thead>\n",
       "  <tbody>\n",
       "    <tr>\n",
       "      <th>2016-01-31</th>\n",
       "      <td>2443.89</td>\n",
       "    </tr>\n",
       "    <tr>\n",
       "      <th>2016-02-29</th>\n",
       "      <td>2443.89</td>\n",
       "    </tr>\n",
       "    <tr>\n",
       "      <th>2016-03-31</th>\n",
       "      <td>2443.89</td>\n",
       "    </tr>\n",
       "    <tr>\n",
       "      <th>2016-04-30</th>\n",
       "      <td>2443.89</td>\n",
       "    </tr>\n",
       "    <tr>\n",
       "      <th>2016-05-31</th>\n",
       "      <td>2443.89</td>\n",
       "    </tr>\n",
       "  </tbody>\n",
       "</table>\n",
       "</div>"
      ],
      "text/plain": [
       "              sales\n",
       "order_date         \n",
       "2016-01-31  2443.89\n",
       "2016-02-29  2443.89\n",
       "2016-03-31  2443.89\n",
       "2016-04-30  2443.89\n",
       "2016-05-31  2443.89"
      ]
     },
     "execution_count": 10,
     "metadata": {},
     "output_type": "execute_result"
    }
   ],
   "source": [
    "# Create a predictions dataframe using the simple average.\n",
    "\n",
    "predictions = make_static_predictions('sales', simple_avg, superstore_validate.index)\n",
    "predictions.head()"
   ]
  },
  {
   "cell_type": "code",
   "execution_count": 11,
   "id": "6f7a3ab1-8a03-4910-8ce7-577fb42a6ece",
   "metadata": {},
   "outputs": [
    {
     "data": {
      "text/html": [
       "<div>\n",
       "<style scoped>\n",
       "    .dataframe tbody tr th:only-of-type {\n",
       "        vertical-align: middle;\n",
       "    }\n",
       "\n",
       "    .dataframe tbody tr th {\n",
       "        vertical-align: top;\n",
       "    }\n",
       "\n",
       "    .dataframe thead th {\n",
       "        text-align: right;\n",
       "    }\n",
       "</style>\n",
       "<table border=\"1\" class=\"dataframe\">\n",
       "  <thead>\n",
       "    <tr style=\"text-align: right;\">\n",
       "      <th></th>\n",
       "      <th>model_type</th>\n",
       "      <th>target</th>\n",
       "      <th>rmse</th>\n",
       "    </tr>\n",
       "  </thead>\n",
       "  <tbody>\n",
       "    <tr>\n",
       "      <th>0</th>\n",
       "      <td>Last Observed Value</td>\n",
       "      <td>sales</td>\n",
       "      <td>3509.0</td>\n",
       "    </tr>\n",
       "    <tr>\n",
       "      <th>1</th>\n",
       "      <td>Simple Average</td>\n",
       "      <td>sales</td>\n",
       "      <td>2127.0</td>\n",
       "    </tr>\n",
       "  </tbody>\n",
       "</table>\n",
       "</div>"
      ],
      "text/plain": [
       "            model_type target    rmse\n",
       "0  Last Observed Value  sales  3509.0\n",
       "1       Simple Average  sales  2127.0"
      ]
     },
     "execution_count": 11,
     "metadata": {},
     "output_type": "execute_result"
    }
   ],
   "source": [
    "# Add the results to eval_df.\n",
    "\n",
    "eval_df = append_eval_df('Simple Average', 'sales', superstore_validate, predictions, eval_df)\n",
    "eval_df"
   ]
  },
  {
   "cell_type": "code",
   "execution_count": 12,
   "id": "61a4ed69-25e5-4508-b5c1-6d2421b5aab3",
   "metadata": {},
   "outputs": [
    {
     "data": {
      "image/png": "[encoded data removed]",
      "text/plain": [
       "<Figure size 864x288 with 1 Axes>"
      ]
     },
     "metadata": {
      "needs_background": "light"
     },
     "output_type": "display_data"
    }
   ],
   "source": [
    "# Visualize the results.\n",
    "\n",
    "plot_forecast('sales', superstore_train, superstore_validate, predictions)"
   ]
  },
  {
   "cell_type": "markdown",
   "id": "010a7dc5-adbc-4d46-812b-3f773dc0b902",
   "metadata": {},
   "source": [
    "### Moving Average\n",
    "\n",
    "Now we'll create various moving average forecasts. We'll do the following moving averages: 1 month, 1 quarter, half year, and full year."
   ]
  },
  {
   "cell_type": "code",
   "execution_count": 13,
   "id": "3581e228-eae9-44d8-a053-5242c1232323",
   "metadata": {},
   "outputs": [
    {
     "data": {
      "text/html": [
       "<div>\n",
       "<style scoped>\n",
       "    .dataframe tbody tr th:only-of-type {\n",
       "        vertical-align: middle;\n",
       "    }\n",
       "\n",
       "    .dataframe tbody tr th {\n",
       "        vertical-align: top;\n",
       "    }\n",
       "\n",
       "    .dataframe thead th {\n",
       "        text-align: right;\n",
       "    }\n",
       "</style>\n",
       "<table border=\"1\" class=\"dataframe\">\n",
       "  <thead>\n",
       "    <tr style=\"text-align: right;\">\n",
       "      <th></th>\n",
       "      <th>model_type</th>\n",
       "      <th>target</th>\n",
       "      <th>rmse</th>\n",
       "    </tr>\n",
       "  </thead>\n",
       "  <tbody>\n",
       "    <tr>\n",
       "      <th>0</th>\n",
       "      <td>Last Observed Value</td>\n",
       "      <td>sales</td>\n",
       "      <td>3509.0</td>\n",
       "    </tr>\n",
       "    <tr>\n",
       "      <th>1</th>\n",
       "      <td>Simple Average</td>\n",
       "      <td>sales</td>\n",
       "      <td>2127.0</td>\n",
       "    </tr>\n",
       "    <tr>\n",
       "      <th>2</th>\n",
       "      <td>Moving Average 1 Weeks</td>\n",
       "      <td>sales</td>\n",
       "      <td>3509.0</td>\n",
       "    </tr>\n",
       "    <tr>\n",
       "      <th>3</th>\n",
       "      <td>Moving Average 3 Weeks</td>\n",
       "      <td>sales</td>\n",
       "      <td>1979.0</td>\n",
       "    </tr>\n",
       "    <tr>\n",
       "      <th>4</th>\n",
       "      <td>Moving Average 6 Weeks</td>\n",
       "      <td>sales</td>\n",
       "      <td>1721.0</td>\n",
       "    </tr>\n",
       "    <tr>\n",
       "      <th>5</th>\n",
       "      <td>Moving Average 12 Weeks</td>\n",
       "      <td>sales</td>\n",
       "      <td>2081.0</td>\n",
       "    </tr>\n",
       "  </tbody>\n",
       "</table>\n",
       "</div>"
      ],
      "text/plain": [
       "                model_type target    rmse\n",
       "0      Last Observed Value  sales  3509.0\n",
       "1           Simple Average  sales  2127.0\n",
       "2   Moving Average 1 Weeks  sales  3509.0\n",
       "3   Moving Average 3 Weeks  sales  1979.0\n",
       "4   Moving Average 6 Weeks  sales  1721.0\n",
       "5  Moving Average 12 Weeks  sales  2081.0"
      ]
     },
     "execution_count": 13,
     "metadata": {},
     "output_type": "execute_result"
    }
   ],
   "source": [
    "# For each period:\n",
    "# - Calculate the moving average\n",
    "# - Create the predictions dataframe\n",
    "# - Add the results to eval_df\n",
    "for period in periods:\n",
    "    moving_avg = round(superstore_train.sales.rolling(period).mean()[-1], 2)\n",
    "    predictions = make_static_predictions('sales', moving_avg, superstore_validate.index)\n",
    "    eval_df = append_eval_df(f'Moving Average {period} Weeks', 'sales', superstore_validate, predictions, eval_df)\n",
    "    \n",
    "eval_df"
   ]
  },
  {
   "cell_type": "markdown",
   "id": "fd19ebec-dffa-4752-a5ee-fc8450af735a",
   "metadata": {},
   "source": [
    "### Results\n",
    "\n",
    "For the overall total sales the simple average forecast provides the lowest RMSE value so this will be the baseline. We can determine this programmatically as well."
   ]
  },
  {
   "cell_type": "code",
   "execution_count": 14,
   "id": "3fdbe670-8d3f-437a-b8f7-269b777dccc6",
   "metadata": {},
   "outputs": [
    {
     "data": {
      "text/html": [
       "<div>\n",
       "<style scoped>\n",
       "    .dataframe tbody tr th:only-of-type {\n",
       "        vertical-align: middle;\n",
       "    }\n",
       "\n",
       "    .dataframe tbody tr th {\n",
       "        vertical-align: top;\n",
       "    }\n",
       "\n",
       "    .dataframe thead th {\n",
       "        text-align: right;\n",
       "    }\n",
       "</style>\n",
       "<table border=\"1\" class=\"dataframe\">\n",
       "  <thead>\n",
       "    <tr style=\"text-align: right;\">\n",
       "      <th></th>\n",
       "      <th>model_type</th>\n",
       "      <th>target</th>\n",
       "      <th>rmse</th>\n",
       "    </tr>\n",
       "  </thead>\n",
       "  <tbody>\n",
       "    <tr>\n",
       "      <th>4</th>\n",
       "      <td>Moving Average 6 Weeks</td>\n",
       "      <td>sales</td>\n",
       "      <td>1721.0</td>\n",
       "    </tr>\n",
       "  </tbody>\n",
       "</table>\n",
       "</div>"
      ],
      "text/plain": [
       "               model_type target    rmse\n",
       "4  Moving Average 6 Weeks  sales  1721.0"
      ]
     },
     "execution_count": 14,
     "metadata": {},
     "output_type": "execute_result"
    }
   ],
   "source": [
    "# Get the row with the minimum rmse value.\n",
    "\n",
    "eval_df[eval_df.rmse == eval_df.rmse.min()]"
   ]
  },
  {
   "cell_type": "markdown",
   "id": "e0110851-acc6-45e1-8ed7-26559497931d",
   "metadata": {},
   "source": [
    "### Throw it in a Function\n",
    "\n",
    "Finally, let's create a function that can determine the best baseline for us."
   ]
  },
  {
   "cell_type": "code",
   "execution_count": 15,
   "id": "ff205a61-8e27-4ee4-9331-0c5e6e8a3479",
   "metadata": {},
   "outputs": [],
   "source": [
    "# def establish_baseline(train, validate):\n",
    "#     forecast_values = {\n",
    "#         'Last Observed Value' : round(train.sales[-1], 2),\n",
    "#         'Simple Average' : round(train.sales.mean(), 2)\n",
    "#     }\n",
    "\n",
    "#     periods = [4, 12, 26, 52]\n",
    "#     for period in periods:\n",
    "#         forecast_values[f'Moving Average {period} Weeks'] = round(train.sales.rolling(period).mean()[-1], 2)\n",
    "\n",
    "#     predictions = {}\n",
    "#     for key, value in forecast_values.items():\n",
    "#         predictions[key] = make_static_predictions('sales', value, validate.index)\n",
    "\n",
    "#     eval_df = None\n",
    "#     for key, prediction in predictions.items():\n",
    "#         eval_df = append_eval_df(key, 'sales', validate, prediction, eval_df)\n",
    "\n",
    "#     return eval_df[eval_df.rmse == eval_df.rmse.min()]"
   ]
  },
  {
   "cell_type": "code",
   "execution_count": 16,
   "id": "322849b9-8902-4e17-a804-d8504358b703",
   "metadata": {},
   "outputs": [],
   "source": [
    "# Let's test it\n",
    "\n",
    "# establish_baseline(superstore_train, superstore_validate)"
   ]
  },
  {
   "cell_type": "code",
   "execution_count": 17,
   "id": "1a816ca4-fc1f-4e6e-95e9-2af8c5da5ab5",
   "metadata": {},
   "outputs": [
    {
     "data": {
      "text/html": [
       "<div>\n",
       "<style scoped>\n",
       "    .dataframe tbody tr th:only-of-type {\n",
       "        vertical-align: middle;\n",
       "    }\n",
       "\n",
       "    .dataframe tbody tr th {\n",
       "        vertical-align: top;\n",
       "    }\n",
       "\n",
       "    .dataframe thead th {\n",
       "        text-align: right;\n",
       "    }\n",
       "</style>\n",
       "<table border=\"1\" class=\"dataframe\">\n",
       "  <thead>\n",
       "    <tr style=\"text-align: right;\">\n",
       "      <th></th>\n",
       "      <th>model_type</th>\n",
       "      <th>target</th>\n",
       "      <th>rmse</th>\n",
       "    </tr>\n",
       "  </thead>\n",
       "  <tbody>\n",
       "    <tr>\n",
       "      <th>4</th>\n",
       "      <td>Moving Average 6 Weeks</td>\n",
       "      <td>sales</td>\n",
       "      <td>1721.0</td>\n",
       "    </tr>\n",
       "  </tbody>\n",
       "</table>\n",
       "</div>"
      ],
      "text/plain": [
       "               model_type target    rmse\n",
       "4  Moving Average 6 Weeks  sales  1721.0"
      ]
     },
     "execution_count": 17,
     "metadata": {},
     "output_type": "execute_result"
    }
   ],
   "source": [
    "# Now let's test it from the model.py file.\n",
    "\n",
    "eval_df = establish_baseline(superstore_train, superstore_validate, periods)\n",
    "eval_df"
   ]
  },
  {
   "cell_type": "markdown",
   "id": "1ad946f5-4c54-426c-a078-657058029330",
   "metadata": {},
   "source": [
    "---\n",
    "\n",
    "## Creating Different Forecasting Models\n",
    "\n",
    "Now that we have a baseline model we can try out some dynamic modeling strategies such as Holt's Linear Trend and FB Prophet.\n",
    "\n",
    "### Holt's Linear Trend\n",
    "\n",
    "Here we'll create a Holt model for forecasting sales."
   ]
  },
  {
   "cell_type": "code",
   "execution_count": 18,
   "id": "7fdeae4f-5f2b-4858-8a55-01784c1e5021",
   "metadata": {},
   "outputs": [
    {
     "name": "stderr",
     "output_type": "stream",
     "text": [
      "/usr/local/anaconda3/lib/python3.9/site-packages/statsmodels/tsa/holtwinters/model.py:427: FutureWarning: After 0.13 initialization must be handled at model creation\n",
      "  warnings.warn(\n"
     ]
    }
   ],
   "source": [
    "# Create the model\n",
    "\n",
    "model = Holt(superstore_train.sales, damped_trend = True)"
   ]
  },
  {
   "cell_type": "code",
   "execution_count": 19,
   "id": "1e089e57-03b9-4300-a5dc-81765fae1d6d",
   "metadata": {},
   "outputs": [],
   "source": [
    "# Fit the model\n",
    "\n",
    "model = model.fit()"
   ]
  },
  {
   "cell_type": "code",
   "execution_count": 20,
   "id": "59ca5f14-bd9b-4ebc-b7f6-b8394605ad34",
   "metadata": {},
   "outputs": [
    {
     "name": "stderr",
     "output_type": "stream",
     "text": [
      "/usr/local/anaconda3/lib/python3.9/site-packages/statsmodels/tsa/base/tsa_model.py:132: FutureWarning: The 'freq' argument in Timestamp is deprecated and will be removed in a future version.\n",
      "  date_key = Timestamp(key, freq=base_index.freq)\n"
     ]
    },
    {
     "data": {
      "text/plain": [
       "2016-01-31    6037.293158\n",
       "2016-02-29    6238.041308\n",
       "2016-03-31    6436.244686\n",
       "2016-04-30    6631.935551\n",
       "2016-05-31    6825.145752\n",
       "Freq: M, dtype: float64"
      ]
     },
     "execution_count": 20,
     "metadata": {},
     "output_type": "execute_result"
    }
   ],
   "source": [
    "# Make predictions\n",
    "\n",
    "predictions = model.predict(\n",
    "    start = superstore_validate.index[0],\n",
    "    end = superstore_validate.index[-1]\n",
    ")\n",
    "predictions.head()"
   ]
  },
  {
   "cell_type": "code",
   "execution_count": 21,
   "id": "8f94e1e0-b7bf-4700-9bc4-a935593f67bc",
   "metadata": {},
   "outputs": [
    {
     "data": {
      "text/html": [
       "<div>\n",
       "<style scoped>\n",
       "    .dataframe tbody tr th:only-of-type {\n",
       "        vertical-align: middle;\n",
       "    }\n",
       "\n",
       "    .dataframe tbody tr th {\n",
       "        vertical-align: top;\n",
       "    }\n",
       "\n",
       "    .dataframe thead th {\n",
       "        text-align: right;\n",
       "    }\n",
       "</style>\n",
       "<table border=\"1\" class=\"dataframe\">\n",
       "  <thead>\n",
       "    <tr style=\"text-align: right;\">\n",
       "      <th></th>\n",
       "      <th>sales</th>\n",
       "    </tr>\n",
       "  </thead>\n",
       "  <tbody>\n",
       "    <tr>\n",
       "      <th>2016-01-31</th>\n",
       "      <td>6037.293158</td>\n",
       "    </tr>\n",
       "    <tr>\n",
       "      <th>2016-02-29</th>\n",
       "      <td>6238.041308</td>\n",
       "    </tr>\n",
       "    <tr>\n",
       "      <th>2016-03-31</th>\n",
       "      <td>6436.244686</td>\n",
       "    </tr>\n",
       "    <tr>\n",
       "      <th>2016-04-30</th>\n",
       "      <td>6631.935551</td>\n",
       "    </tr>\n",
       "    <tr>\n",
       "      <th>2016-05-31</th>\n",
       "      <td>6825.145752</td>\n",
       "    </tr>\n",
       "  </tbody>\n",
       "</table>\n",
       "</div>"
      ],
      "text/plain": [
       "                  sales\n",
       "2016-01-31  6037.293158\n",
       "2016-02-29  6238.041308\n",
       "2016-03-31  6436.244686\n",
       "2016-04-30  6631.935551\n",
       "2016-05-31  6825.145752"
      ]
     },
     "execution_count": 21,
     "metadata": {},
     "output_type": "execute_result"
    }
   ],
   "source": [
    "# Make predictions a dataframe\n",
    "\n",
    "predictions = pd.DataFrame(predictions, columns = ['sales'], index = predictions.index)\n",
    "predictions.head()"
   ]
  },
  {
   "cell_type": "code",
   "execution_count": 22,
   "id": "a7e93d1a-549d-47db-8bc3-bba780a1b807",
   "metadata": {},
   "outputs": [
    {
     "data": {
      "text/html": [
       "<div>\n",
       "<style scoped>\n",
       "    .dataframe tbody tr th:only-of-type {\n",
       "        vertical-align: middle;\n",
       "    }\n",
       "\n",
       "    .dataframe tbody tr th {\n",
       "        vertical-align: top;\n",
       "    }\n",
       "\n",
       "    .dataframe thead th {\n",
       "        text-align: right;\n",
       "    }\n",
       "</style>\n",
       "<table border=\"1\" class=\"dataframe\">\n",
       "  <thead>\n",
       "    <tr style=\"text-align: right;\">\n",
       "      <th></th>\n",
       "      <th>model_type</th>\n",
       "      <th>target</th>\n",
       "      <th>rmse</th>\n",
       "    </tr>\n",
       "  </thead>\n",
       "  <tbody>\n",
       "    <tr>\n",
       "      <th>0</th>\n",
       "      <td>Moving Average 6 Weeks</td>\n",
       "      <td>sales</td>\n",
       "      <td>1721.0</td>\n",
       "    </tr>\n",
       "    <tr>\n",
       "      <th>1</th>\n",
       "      <td>Holt</td>\n",
       "      <td>sales</td>\n",
       "      <td>3725.0</td>\n",
       "    </tr>\n",
       "  </tbody>\n",
       "</table>\n",
       "</div>"
      ],
      "text/plain": [
       "               model_type target    rmse\n",
       "0  Moving Average 6 Weeks  sales  1721.0\n",
       "1                    Holt  sales  3725.0"
      ]
     },
     "execution_count": 22,
     "metadata": {},
     "output_type": "execute_result"
    }
   ],
   "source": [
    "eval_df = append_eval_df('Holt', 'sales', superstore_validate, predictions, eval_df)\n",
    "eval_df"
   ]
  },
  {
   "cell_type": "code",
   "execution_count": 23,
   "id": "ad5993c8-a198-4dec-bd8c-d023b41dca62",
   "metadata": {},
   "outputs": [
    {
     "data": {
      "image/png": "[encoded data removed]",
      "text/plain": [
       "<Figure size 864x288 with 1 Axes>"
      ]
     },
     "metadata": {
      "needs_background": "light"
     },
     "output_type": "display_data"
    }
   ],
   "source": [
    "plot_forecast('sales', superstore_train, superstore_validate, predictions)"
   ]
  },
  {
   "cell_type": "markdown",
   "id": "3b54f718-eda0-40eb-a5ef-4b8d7b741a68",
   "metadata": {},
   "source": [
    "This model performs far worse than the baseline.\n",
    "\n",
    "### FB Prophet\n",
    "\n",
    "Now let's try a Prophet model."
   ]
  },
  {
   "cell_type": "code",
   "execution_count": 24,
   "id": "ecbab71f-fca9-4931-907b-846aaa0aae0c",
   "metadata": {},
   "outputs": [],
   "source": [
    "# Create the model\n",
    "\n",
    "model = Prophet()"
   ]
  },
  {
   "cell_type": "code",
   "execution_count": 25,
   "id": "7ed240bf-15f1-4fa4-94f0-8afdf08971c2",
   "metadata": {},
   "outputs": [
    {
     "name": "stderr",
     "output_type": "stream",
     "text": [
      "INFO:prophet:Disabling yearly seasonality. Run prophet with yearly_seasonality=True to override this.\n",
      "INFO:prophet:Disabling weekly seasonality. Run prophet with weekly_seasonality=True to override this.\n",
      "INFO:prophet:Disabling daily seasonality. Run prophet with daily_seasonality=True to override this.\n",
      "INFO:prophet:n_changepoints greater than number of observations. Using 18.\n"
     ]
    },
    {
     "name": "stdout",
     "output_type": "stream",
     "text": [
      "\n"
     ]
    },
    {
     "data": {
      "text/plain": [
       "<prophet.forecaster.Prophet at 0x7fc7e831f8e0>"
      ]
     },
     "execution_count": 25,
     "metadata": {},
     "output_type": "execute_result"
    },
    {
     "name": "stdout",
     "output_type": "stream",
     "text": [
      "Initial log joint probability = 9.81923\n",
      "Iteration  1. Log joint probability =    11.0159. Improved by 1.19663.\n",
      "Iteration  2. Log joint probability =     22.774. Improved by 11.7581.\n",
      "Iteration  3. Log joint probability =    23.8362. Improved by 1.06227.\n",
      "Iteration  4. Log joint probability =     24.738. Improved by 0.901727.\n",
      "Iteration  5. Log joint probability =    24.9185. Improved by 0.180513.\n",
      "Iteration  6. Log joint probability =    25.1585. Improved by 0.24.\n",
      "Iteration  7. Log joint probability =    25.1656. Improved by 0.00716836.\n",
      "Iteration  8. Log joint probability =    25.2283. Improved by 0.0626667.\n",
      "Iteration  9. Log joint probability =    25.2387. Improved by 0.010366.\n",
      "Iteration 10. Log joint probability =     25.246. Improved by 0.00732951.\n",
      "Iteration 11. Log joint probability =    25.2509. Improved by 0.00490465.\n",
      "Iteration 12. Log joint probability =    25.2598. Improved by 0.00891596.\n",
      "Iteration 13. Log joint probability =    25.2615. Improved by 0.00166215.\n",
      "Iteration 14. Log joint probability =    25.2641. Improved by 0.002656.\n",
      "Iteration 15. Log joint probability =    25.2649. Improved by 0.000763474.\n",
      "Iteration 16. Log joint probability =    25.2654. Improved by 0.000453184.\n",
      "Iteration 17. Log joint probability =    25.2662. Improved by 0.000896922.\n",
      "Iteration 18. Log joint probability =    25.2666. Improved by 0.000400303.\n",
      "Iteration 19. Log joint probability =    25.2669. Improved by 0.000268986.\n",
      "Iteration 20. Log joint probability =    25.2671. Improved by 0.000141239.\n",
      "Iteration 21. Log joint probability =    25.2672. Improved by 0.000152038.\n",
      "Iteration 22. Log joint probability =    25.2673. Improved by 9.07318e-05.\n",
      "Iteration 23. Log joint probability =    25.2674. Improved by 6.57897e-05.\n",
      "Iteration 24. Log joint probability =    25.2674. Improved by 2.91599e-05.\n",
      "Iteration 25. Log joint probability =    25.2674. Improved by 1.18978e-06.\n",
      "Iteration 26. Log joint probability =    25.2674. Improved by 1.92329e-05.\n",
      "Iteration 27. Log joint probability =    25.2674. Improved by 5.92755e-06.\n",
      "Iteration 28. Log joint probability =    25.2674. Improved by 1.66145e-06.\n",
      "Iteration 29. Log joint probability =    25.2674. Improved by 3.98731e-06.\n",
      "Iteration 30. Log joint probability =    25.2674. Improved by 1.4019e-06.\n",
      "Iteration 31. Log joint probability =    25.2674. Improved by 1.14891e-06.\n",
      "Iteration 32. Log joint probability =    25.2674. Improved by 3.38585e-07.\n",
      "Iteration 33. Log joint probability =    25.2674. Improved by 3.14705e-07.\n",
      "Iteration 34. Log joint probability =    25.2674. Improved by 2.82928e-07.\n",
      "Iteration 35. Log joint probability =    25.2674. Improved by 2.15043e-07.\n",
      "Iteration 36. Log joint probability =    25.2674. Improved by 1.56333e-07.\n",
      "Iteration 37. Log joint probability =    25.2674. Improved by 1.39987e-07.\n",
      "Iteration 38. Log joint probability =    25.2674. Improved by 7.02569e-08.\n",
      "Iteration 39. Log joint probability =    25.2674. Improved by 3.41642e-08.\n",
      "Iteration 40. Log joint probability =    25.2674. Improved by 1.4811e-08.\n",
      "Iteration 41. Log joint probability =    25.2674. Improved by 2.47318e-09.\n"
     ]
    }
   ],
   "source": [
    "# Fit the model\n",
    "\n",
    "model.fit(pd.DataFrame({\n",
    "    'ds' : superstore_train.index,\n",
    "    'y' : superstore_train.sales\n",
    "}))"
   ]
  },
  {
   "cell_type": "code",
   "execution_count": 26,
   "id": "e6471589-36ff-4edd-84a0-b711c7a48c04",
   "metadata": {},
   "outputs": [
    {
     "name": "stdout",
     "output_type": "stream",
     "text": [
      "<class 'pandas.core.frame.DataFrame'>\n",
      "DatetimeIndex: 36 entries, 2014-01-31 to 2016-12-31\n",
      "Freq: M\n",
      "Data columns (total 1 columns):\n",
      " #   Column  Non-Null Count  Dtype  \n",
      "---  ------  --------------  -----  \n",
      " 0   sales   36 non-null     float64\n",
      "dtypes: float64(1)\n",
      "memory usage: 576.0 bytes\n"
     ]
    }
   ],
   "source": [
    "# Make predictions\n",
    "\n",
    "future = model.make_future_dataframe(365)\n",
    "results = model.predict(future)\n",
    "predictions = results[['ds', 'yhat']].set_index('ds')\n",
    "predictions.columns = ['sales']\n",
    "predictions = predictions.resample(resample_period).mean()\n",
    "predictions.info()"
   ]
  },
  {
   "cell_type": "code",
   "execution_count": 27,
   "id": "aed51b7d-c976-42a1-a800-dc9d29feb1da",
   "metadata": {},
   "outputs": [
    {
     "name": "stdout",
     "output_type": "stream",
     "text": [
      "<class 'pandas.core.frame.DataFrame'>\n",
      "DatetimeIndex: 12 entries, 2016-01-31 to 2016-12-31\n",
      "Freq: M\n",
      "Data columns (total 1 columns):\n",
      " #   Column  Non-Null Count  Dtype  \n",
      "---  ------  --------------  -----  \n",
      " 0   sales   12 non-null     float64\n",
      "dtypes: float64(1)\n",
      "memory usage: 192.0 bytes\n"
     ]
    }
   ],
   "source": [
    "predictions.loc['2016'].info()"
   ]
  },
  {
   "cell_type": "code",
   "execution_count": 28,
   "id": "7572e85a-1d0a-484a-bc9a-8e43a1906dfa",
   "metadata": {},
   "outputs": [
    {
     "data": {
      "text/html": [
       "<div>\n",
       "<style scoped>\n",
       "    .dataframe tbody tr th:only-of-type {\n",
       "        vertical-align: middle;\n",
       "    }\n",
       "\n",
       "    .dataframe tbody tr th {\n",
       "        vertical-align: top;\n",
       "    }\n",
       "\n",
       "    .dataframe thead th {\n",
       "        text-align: right;\n",
       "    }\n",
       "</style>\n",
       "<table border=\"1\" class=\"dataframe\">\n",
       "  <thead>\n",
       "    <tr style=\"text-align: right;\">\n",
       "      <th></th>\n",
       "      <th>model_type</th>\n",
       "      <th>target</th>\n",
       "      <th>rmse</th>\n",
       "    </tr>\n",
       "  </thead>\n",
       "  <tbody>\n",
       "    <tr>\n",
       "      <th>0</th>\n",
       "      <td>Moving Average 6 Weeks</td>\n",
       "      <td>sales</td>\n",
       "      <td>1721.0</td>\n",
       "    </tr>\n",
       "    <tr>\n",
       "      <th>1</th>\n",
       "      <td>Holt</td>\n",
       "      <td>sales</td>\n",
       "      <td>3725.0</td>\n",
       "    </tr>\n",
       "    <tr>\n",
       "      <th>2</th>\n",
       "      <td>Prophet</td>\n",
       "      <td>sales</td>\n",
       "      <td>1636.0</td>\n",
       "    </tr>\n",
       "  </tbody>\n",
       "</table>\n",
       "</div>"
      ],
      "text/plain": [
       "               model_type target    rmse\n",
       "0  Moving Average 6 Weeks  sales  1721.0\n",
       "1                    Holt  sales  3725.0\n",
       "2                 Prophet  sales  1636.0"
      ]
     },
     "execution_count": 28,
     "metadata": {},
     "output_type": "execute_result"
    }
   ],
   "source": [
    "eval_df = append_eval_df('Prophet', 'sales', superstore_validate, predictions.loc['2016'], eval_df)\n",
    "eval_df"
   ]
  },
  {
   "cell_type": "code",
   "execution_count": 29,
   "id": "1eac3510-75da-4ff1-8e52-31a5adc6b45f",
   "metadata": {},
   "outputs": [
    {
     "data": {
      "image/png": "[encoded data removed]",
      "text/plain": [
       "<Figure size 864x288 with 1 Axes>"
      ]
     },
     "metadata": {
      "needs_background": "light"
     },
     "output_type": "display_data"
    }
   ],
   "source": [
    "plot_forecast('sales', superstore_train, superstore_validate, predictions.loc['2016'])"
   ]
  },
  {
   "cell_type": "markdown",
   "id": "2954f3d4-caf5-405d-9a37-b3634289d125",
   "metadata": {},
   "source": [
    "Prophet also does not beat the baseline. We will likely need to narrow down the data by some category that will provide clearer insights into the sales trends. Without any seasonality in the data it's difficult to create an accurate model that does more than forecast average sales figures.\n",
    "\n",
    "### Previous Cycle\n",
    "\n",
    "Let's try one more strategy and use the previous cycle to predict the next one."
   ]
  },
  {
   "cell_type": "code",
   "execution_count": 30,
   "id": "e36276c1-f315-49e9-908a-8f99669d766d",
   "metadata": {},
   "outputs": [],
   "source": [
    "predictions = superstore_train.loc['2015'] + superstore_train.diff(year_size).mean()\n",
    "predictions.index = superstore_validate.index"
   ]
  },
  {
   "cell_type": "code",
   "execution_count": 31,
   "id": "819d661c-ea65-470e-95b5-e9d82b6130ea",
   "metadata": {},
   "outputs": [
    {
     "data": {
      "text/html": [
       "<div>\n",
       "<style scoped>\n",
       "    .dataframe tbody tr th:only-of-type {\n",
       "        vertical-align: middle;\n",
       "    }\n",
       "\n",
       "    .dataframe tbody tr th {\n",
       "        vertical-align: top;\n",
       "    }\n",
       "\n",
       "    .dataframe thead th {\n",
       "        text-align: right;\n",
       "    }\n",
       "</style>\n",
       "<table border=\"1\" class=\"dataframe\">\n",
       "  <thead>\n",
       "    <tr style=\"text-align: right;\">\n",
       "      <th></th>\n",
       "      <th>model_type</th>\n",
       "      <th>target</th>\n",
       "      <th>rmse</th>\n",
       "    </tr>\n",
       "  </thead>\n",
       "  <tbody>\n",
       "    <tr>\n",
       "      <th>0</th>\n",
       "      <td>Moving Average 6 Weeks</td>\n",
       "      <td>sales</td>\n",
       "      <td>1721.0</td>\n",
       "    </tr>\n",
       "    <tr>\n",
       "      <th>1</th>\n",
       "      <td>Holt</td>\n",
       "      <td>sales</td>\n",
       "      <td>3725.0</td>\n",
       "    </tr>\n",
       "    <tr>\n",
       "      <th>2</th>\n",
       "      <td>Prophet</td>\n",
       "      <td>sales</td>\n",
       "      <td>1636.0</td>\n",
       "    </tr>\n",
       "    <tr>\n",
       "      <th>3</th>\n",
       "      <td>Previous Cycle</td>\n",
       "      <td>sales</td>\n",
       "      <td>1933.0</td>\n",
       "    </tr>\n",
       "  </tbody>\n",
       "</table>\n",
       "</div>"
      ],
      "text/plain": [
       "               model_type target    rmse\n",
       "0  Moving Average 6 Weeks  sales  1721.0\n",
       "1                    Holt  sales  3725.0\n",
       "2                 Prophet  sales  1636.0\n",
       "3          Previous Cycle  sales  1933.0"
      ]
     },
     "execution_count": 31,
     "metadata": {},
     "output_type": "execute_result"
    }
   ],
   "source": [
    "eval_df = append_eval_df('Previous Cycle', 'sales', superstore_validate, predictions, eval_df)\n",
    "eval_df"
   ]
  },
  {
   "cell_type": "code",
   "execution_count": 32,
   "id": "00978487-cef2-4abc-8dc4-26bb1a3ce6c1",
   "metadata": {},
   "outputs": [
    {
     "data": {
      "image/png": "[encoded data removed]",
      "text/plain": [
       "<Figure size 864x288 with 1 Axes>"
      ]
     },
     "metadata": {
      "needs_background": "light"
     },
     "output_type": "display_data"
    }
   ],
   "source": [
    "plot_forecast('sales', superstore_train, superstore_validate, predictions)"
   ]
  },
  {
   "cell_type": "markdown",
   "id": "8aed5feb-9d25-4516-8c39-52e6e14164ae",
   "metadata": {},
   "source": [
    "---\n",
    "\n",
    "## Ensemble Model: A Model Per Region\n",
    "\n",
    "In exploration we noticed that there is a little more seasonality when filtered by region. So here we will try to build an ensemble model where we have a sales forecast for each region and then combine the results to make a total sales forecast.\n",
    "\n",
    "### Simple Average\n",
    "\n",
    "Since the simple average provided the best results for the total sales model we'll create a simple average model here as well."
   ]
  },
  {
   "cell_type": "code",
   "execution_count": 33,
   "id": "6eb1d34b-c53e-49ed-b196-ff0505d47b39",
   "metadata": {},
   "outputs": [
    {
     "data": {
      "text/html": [
       "<div>\n",
       "<style scoped>\n",
       "    .dataframe tbody tr th:only-of-type {\n",
       "        vertical-align: middle;\n",
       "    }\n",
       "\n",
       "    .dataframe tbody tr th {\n",
       "        vertical-align: top;\n",
       "    }\n",
       "\n",
       "    .dataframe thead th {\n",
       "        text-align: right;\n",
       "    }\n",
       "</style>\n",
       "<table border=\"1\" class=\"dataframe\">\n",
       "  <thead>\n",
       "    <tr style=\"text-align: right;\">\n",
       "      <th></th>\n",
       "      <th>sales</th>\n",
       "    </tr>\n",
       "    <tr>\n",
       "      <th>order_date</th>\n",
       "      <th></th>\n",
       "    </tr>\n",
       "  </thead>\n",
       "  <tbody>\n",
       "    <tr>\n",
       "      <th>2016-01-31</th>\n",
       "      <td>2486.830106</td>\n",
       "    </tr>\n",
       "    <tr>\n",
       "      <th>2016-02-29</th>\n",
       "      <td>2486.830106</td>\n",
       "    </tr>\n",
       "    <tr>\n",
       "      <th>2016-03-31</th>\n",
       "      <td>2486.830106</td>\n",
       "    </tr>\n",
       "    <tr>\n",
       "      <th>2016-04-30</th>\n",
       "      <td>2486.830106</td>\n",
       "    </tr>\n",
       "    <tr>\n",
       "      <th>2016-05-31</th>\n",
       "      <td>2486.830106</td>\n",
       "    </tr>\n",
       "  </tbody>\n",
       "</table>\n",
       "</div>"
      ],
      "text/plain": [
       "                  sales\n",
       "order_date             \n",
       "2016-01-31  2486.830106\n",
       "2016-02-29  2486.830106\n",
       "2016-03-31  2486.830106\n",
       "2016-04-30  2486.830106\n",
       "2016-05-31  2486.830106"
      ]
     },
     "execution_count": 33,
     "metadata": {},
     "output_type": "execute_result"
    }
   ],
   "source": [
    "# Here we are using the model module to create an ensemble model for us.\n",
    "# This will create simple average models for each region and then combine the results.\n",
    "\n",
    "predictions = create_ensemble_predictions(\n",
    "    [store_east_train, store_west_train, store_central_train, store_south_train],\n",
    "    [store_east_validate, store_west_validate, store_central_validate, store_south_validate],\n",
    "    'sales',\n",
    "    simple_average_model\n",
    ")\n",
    "predictions.head()"
   ]
  },
  {
   "cell_type": "code",
   "execution_count": 34,
   "id": "e2e3110b-5065-4f26-93fe-4499a112b0a6",
   "metadata": {},
   "outputs": [
    {
     "data": {
      "text/html": [
       "<div>\n",
       "<style scoped>\n",
       "    .dataframe tbody tr th:only-of-type {\n",
       "        vertical-align: middle;\n",
       "    }\n",
       "\n",
       "    .dataframe tbody tr th {\n",
       "        vertical-align: top;\n",
       "    }\n",
       "\n",
       "    .dataframe thead th {\n",
       "        text-align: right;\n",
       "    }\n",
       "</style>\n",
       "<table border=\"1\" class=\"dataframe\">\n",
       "  <thead>\n",
       "    <tr style=\"text-align: right;\">\n",
       "      <th></th>\n",
       "      <th>model_type</th>\n",
       "      <th>target</th>\n",
       "      <th>rmse</th>\n",
       "    </tr>\n",
       "  </thead>\n",
       "  <tbody>\n",
       "    <tr>\n",
       "      <th>0</th>\n",
       "      <td>Simple Average</td>\n",
       "      <td>sales</td>\n",
       "      <td>2102.0</td>\n",
       "    </tr>\n",
       "  </tbody>\n",
       "</table>\n",
       "</div>"
      ],
      "text/plain": [
       "       model_type target    rmse\n",
       "0  Simple Average  sales  2102.0"
      ]
     },
     "execution_count": 34,
     "metadata": {},
     "output_type": "execute_result"
    }
   ],
   "source": [
    "region_eval_df = append_eval_df('Simple Average', 'sales', superstore_validate, predictions)\n",
    "region_eval_df"
   ]
  },
  {
   "cell_type": "markdown",
   "id": "eafd0ca4-1175-444c-be5e-5f078be0736e",
   "metadata": {},
   "source": [
    "### Holt's Linear Trend\n",
    "\n",
    "Now let's try a Holt ensemble model."
   ]
  },
  {
   "cell_type": "code",
   "execution_count": 35,
   "id": "5d0ad75b-408a-4653-a909-4fe1ca1a1dbf",
   "metadata": {},
   "outputs": [
    {
     "name": "stderr",
     "output_type": "stream",
     "text": [
      "/usr/local/anaconda3/lib/python3.9/site-packages/statsmodels/tsa/holtwinters/model.py:427: FutureWarning: After 0.13 initialization must be handled at model creation\n",
      "  warnings.warn(\n",
      "/usr/local/anaconda3/lib/python3.9/site-packages/statsmodels/tsa/base/tsa_model.py:132: FutureWarning: The 'freq' argument in Timestamp is deprecated and will be removed in a future version.\n",
      "  date_key = Timestamp(key, freq=base_index.freq)\n"
     ]
    },
    {
     "data": {
      "text/html": [
       "<div>\n",
       "<style scoped>\n",
       "    .dataframe tbody tr th:only-of-type {\n",
       "        vertical-align: middle;\n",
       "    }\n",
       "\n",
       "    .dataframe tbody tr th {\n",
       "        vertical-align: top;\n",
       "    }\n",
       "\n",
       "    .dataframe thead th {\n",
       "        text-align: right;\n",
       "    }\n",
       "</style>\n",
       "<table border=\"1\" class=\"dataframe\">\n",
       "  <thead>\n",
       "    <tr style=\"text-align: right;\">\n",
       "      <th></th>\n",
       "      <th>sales</th>\n",
       "    </tr>\n",
       "  </thead>\n",
       "  <tbody>\n",
       "    <tr>\n",
       "      <th>2016-01-31</th>\n",
       "      <td>5215.905336</td>\n",
       "    </tr>\n",
       "    <tr>\n",
       "      <th>2016-02-29</th>\n",
       "      <td>5447.160293</td>\n",
       "    </tr>\n",
       "    <tr>\n",
       "      <th>2016-03-31</th>\n",
       "      <td>5675.748549</td>\n",
       "    </tr>\n",
       "    <tr>\n",
       "      <th>2016-04-30</th>\n",
       "      <td>5901.712327</td>\n",
       "    </tr>\n",
       "    <tr>\n",
       "      <th>2016-05-31</th>\n",
       "      <td>6125.091347</td>\n",
       "    </tr>\n",
       "  </tbody>\n",
       "</table>\n",
       "</div>"
      ],
      "text/plain": [
       "                  sales\n",
       "2016-01-31  5215.905336\n",
       "2016-02-29  5447.160293\n",
       "2016-03-31  5675.748549\n",
       "2016-04-30  5901.712327\n",
       "2016-05-31  6125.091347"
      ]
     },
     "execution_count": 35,
     "metadata": {},
     "output_type": "execute_result"
    }
   ],
   "source": [
    "# Here we are using the model module to create an ensemble model for us.\n",
    "# This will create Holt's linear trend models for each region and then combine the results.\n",
    "\n",
    "predictions = create_ensemble_predictions(\n",
    "    [store_east_train, store_west_train, store_central_train, store_south_train],\n",
    "    [store_east_validate, store_west_validate, store_central_validate, store_south_validate],\n",
    "    'sales',\n",
    "    holt_model\n",
    ")\n",
    "predictions.head()"
   ]
  },
  {
   "cell_type": "code",
   "execution_count": 36,
   "id": "e815c740-a60b-4a9f-86fc-a69971ac2084",
   "metadata": {},
   "outputs": [
    {
     "data": {
      "text/html": [
       "<div>\n",
       "<style scoped>\n",
       "    .dataframe tbody tr th:only-of-type {\n",
       "        vertical-align: middle;\n",
       "    }\n",
       "\n",
       "    .dataframe tbody tr th {\n",
       "        vertical-align: top;\n",
       "    }\n",
       "\n",
       "    .dataframe thead th {\n",
       "        text-align: right;\n",
       "    }\n",
       "</style>\n",
       "<table border=\"1\" class=\"dataframe\">\n",
       "  <thead>\n",
       "    <tr style=\"text-align: right;\">\n",
       "      <th></th>\n",
       "      <th>model_type</th>\n",
       "      <th>target</th>\n",
       "      <th>rmse</th>\n",
       "    </tr>\n",
       "  </thead>\n",
       "  <tbody>\n",
       "    <tr>\n",
       "      <th>0</th>\n",
       "      <td>Simple Average</td>\n",
       "      <td>sales</td>\n",
       "      <td>2102.0</td>\n",
       "    </tr>\n",
       "    <tr>\n",
       "      <th>1</th>\n",
       "      <td>Holt</td>\n",
       "      <td>sales</td>\n",
       "      <td>3136.0</td>\n",
       "    </tr>\n",
       "  </tbody>\n",
       "</table>\n",
       "</div>"
      ],
      "text/plain": [
       "       model_type target    rmse\n",
       "0  Simple Average  sales  2102.0\n",
       "1            Holt  sales  3136.0"
      ]
     },
     "execution_count": 36,
     "metadata": {},
     "output_type": "execute_result"
    }
   ],
   "source": [
    "region_eval_df = append_eval_df('Holt', 'sales', superstore_validate, predictions, region_eval_df)\n",
    "region_eval_df"
   ]
  },
  {
   "cell_type": "markdown",
   "id": "072d51f9-733d-4ad1-9f4c-01ca8234bf18",
   "metadata": {},
   "source": [
    "### FB Prophet\n",
    "\n",
    "Next, an ensemble model using Prophet."
   ]
  },
  {
   "cell_type": "code",
   "execution_count": 37,
   "id": "146937b5-8784-4cc4-8b7d-e44603c6c7da",
   "metadata": {},
   "outputs": [
    {
     "name": "stderr",
     "output_type": "stream",
     "text": [
      "INFO:prophet:Disabling yearly seasonality. Run prophet with yearly_seasonality=True to override this.\n",
      "INFO:prophet:Disabling weekly seasonality. Run prophet with weekly_seasonality=True to override this.\n",
      "INFO:prophet:Disabling daily seasonality. Run prophet with daily_seasonality=True to override this.\n",
      "INFO:prophet:n_changepoints greater than number of observations. Using 18.\n"
     ]
    },
    {
     "name": "stdout",
     "output_type": "stream",
     "text": [
      "\n",
      "Initial log joint probability = 9.29803\n",
      "Iteration  1. Log joint probability =    12.9294. Improved by 3.6314.\n",
      "Iteration  2. Log joint probability =    23.0799. Improved by 10.1504.\n",
      "Iteration  3. Log joint probability =    23.3414. Improved by 0.261511.\n",
      "Iteration  4. Log joint probability =    25.0426. Improved by 1.70126.\n",
      "Iteration  5. Log joint probability =    25.4562. Improved by 0.413517.\n",
      "Iteration  6. Log joint probability =    25.4577. Improved by 0.00158048.\n",
      "Iteration  7. Log joint probability =    25.4993. Improved by 0.0415179.\n",
      "Iteration  8. Log joint probability =    25.5087. Improved by 0.00943174.\n",
      "Iteration  9. Log joint probability =    25.5094. Improved by 0.000689521.\n",
      "Iteration 10. Log joint probability =    25.5132. Improved by 0.00384161.\n",
      "Iteration 11. Log joint probability =    25.5144. Improved by 0.00122653.\n",
      "Iteration 12. Log joint probability =     25.515. Improved by 0.00055842.\n",
      "Iteration 13. Log joint probability =    25.5155. Improved by 0.000495173.\n",
      "Iteration 14. Log joint probability =    25.5165. Improved by 0.000985024.\n",
      "Iteration 15. Log joint probability =    25.5165. Improved by 2.49709e-05.\n",
      "Iteration 16. Log joint probability =    25.5166. Improved by 0.000111301.\n",
      "Iteration 17. Log joint probability =    25.5171. Improved by 0.000517792.\n",
      "Iteration 18. Log joint probability =    25.5174. Improved by 0.000288626.\n",
      "Iteration 19. Log joint probability =    25.5175. Improved by 9.47385e-05.\n",
      "Iteration 20. Log joint probability =    25.5176. Improved by 7.40226e-05.\n",
      "Iteration 21. Log joint probability =    25.5176. Improved by 4.74575e-05.\n",
      "Iteration 22. Log joint probability =    25.5177. Improved by 3.88565e-05.\n",
      "Iteration 23. Log joint probability =    25.5177. Improved by 1.18958e-05.\n",
      "Iteration 24. Log joint probability =    25.5177. Improved by 6.23977e-06.\n",
      "Iteration 25. Log joint probability =    25.5177. Improved by 4.55167e-06.\n",
      "Iteration 26. Log joint probability =    25.5177. Improved by 2.69036e-06.\n",
      "Iteration 27. Log joint probability =    25.5177. Improved by 2.3259e-06.\n",
      "Iteration 28. Log joint probability =    25.5177. Improved by 9.45388e-07.\n",
      "Iteration 29. Log joint probability =    25.5177. Improved by 7.4924e-08.\n",
      "Iteration 30. Log joint probability =    25.5177. Improved by 5.4101e-09.\n"
     ]
    },
    {
     "name": "stderr",
     "output_type": "stream",
     "text": [
      "INFO:prophet:Disabling yearly seasonality. Run prophet with yearly_seasonality=True to override this.\n",
      "INFO:prophet:Disabling weekly seasonality. Run prophet with weekly_seasonality=True to override this.\n",
      "INFO:prophet:Disabling daily seasonality. Run prophet with daily_seasonality=True to override this.\n",
      "INFO:prophet:n_changepoints greater than number of observations. Using 17.\n"
     ]
    },
    {
     "name": "stdout",
     "output_type": "stream",
     "text": [
      "\n",
      "Initial log joint probability = 8.7241\n",
      "Iteration  1. Log joint probability =    10.9867. Improved by 2.26265.\n",
      "Iteration  2. Log joint probability =     12.203. Improved by 1.21621.\n",
      "Iteration  3. Log joint probability =    17.4359. Improved by 5.23291.\n",
      "Iteration  4. Log joint probability =    17.5711. Improved by 0.135189.\n",
      "Iteration  5. Log joint probability =    18.0257. Improved by 0.454603.\n",
      "Iteration  6. Log joint probability =    18.1169. Improved by 0.0912736.\n",
      "Iteration  7. Log joint probability =     18.132. Improved by 0.0150568.\n",
      "Iteration  8. Log joint probability =    18.1379. Improved by 0.00587661.\n",
      "Iteration  9. Log joint probability =    18.1417. Improved by 0.00381383.\n",
      "Iteration 10. Log joint probability =    18.1482. Improved by 0.00648255.\n",
      "Iteration 11. Log joint probability =     18.152. Improved by 0.00386419.\n",
      "Iteration 12. Log joint probability =    18.1548. Improved by 0.00279946.\n",
      "Iteration 13. Log joint probability =    18.1567. Improved by 0.0019193.\n",
      "Iteration 14. Log joint probability =    18.1571. Improved by 0.000334556.\n",
      "Iteration 15. Log joint probability =    18.1582. Improved by 0.00112519.\n",
      "Iteration 16. Log joint probability =    18.1587. Improved by 0.000546716.\n",
      "Iteration 17. Log joint probability =    18.1589. Improved by 0.000145193.\n",
      "Iteration 18. Log joint probability =    18.1589. Improved by 5.08481e-05.\n",
      "Iteration 19. Log joint probability =    18.1591. Improved by 0.000162596.\n",
      "Iteration 20. Log joint probability =    18.1591. Improved by 3.06621e-05.\n",
      "Iteration 21. Log joint probability =    18.1592. Improved by 3.9356e-05.\n",
      "Iteration 22. Log joint probability =    18.1592. Improved by 1.46997e-05.\n",
      "Iteration 23. Log joint probability =    18.1592. Improved by 6.02233e-06.\n",
      "Iteration 24. Log joint probability =    18.1592. Improved by 1.26536e-06.\n",
      "Iteration 25. Log joint probability =    18.1592. Improved by 3.95264e-06.\n",
      "Iteration 26. Log joint probability =    18.1592. Improved by 4.88425e-07.\n",
      "Iteration 27. Log joint probability =    18.1592. Improved by 1.44126e-08.\n",
      "Iteration 28. Log joint probability =    18.1592. Improved by 2.39469e-06.\n",
      "Iteration 29. Log joint probability =    18.1592. Improved by 9.15244e-07.\n",
      "Iteration 30. Log joint probability =    18.1592. Improved by 5.32986e-07.\n",
      "Iteration 31. Log joint probability =    18.1592. Improved by 1.5673e-07.\n",
      "Iteration 32. Log joint probability =    18.1592. Improved by 1.58258e-07.\n",
      "Iteration 33. Log joint probability =    18.1592. Improved by 5.94345e-08.\n",
      "Iteration 34. Log joint probability =    18.1592. Improved by 5.85492e-08.\n",
      "Iteration 35. Log joint probability =    18.1592. Improved by 3.33213e-08.\n",
      "Iteration 36. Log joint probability =    18.1592. Improved by 1.47264e-08.\n",
      "Iteration 37. Log joint probability =    18.1592. Improved by 3.2153e-08.\n",
      "Iteration 38. Log joint probability =    18.1592. Improved by 1.50048e-08.\n",
      "Iteration 39. Log joint probability =    18.1592. Improved by 4.35217e-09.\n"
     ]
    },
    {
     "name": "stderr",
     "output_type": "stream",
     "text": [
      "INFO:prophet:Disabling yearly seasonality. Run prophet with yearly_seasonality=True to override this.\n",
      "INFO:prophet:Disabling weekly seasonality. Run prophet with weekly_seasonality=True to override this.\n",
      "INFO:prophet:Disabling daily seasonality. Run prophet with daily_seasonality=True to override this.\n",
      "INFO:prophet:n_changepoints greater than number of observations. Using 18.\n"
     ]
    },
    {
     "name": "stdout",
     "output_type": "stream",
     "text": [
      "\n",
      "Initial log joint probability = 10.3071\n",
      "Iteration  1. Log joint probability =    17.0204. Improved by 6.71337.\n",
      "Iteration  2. Log joint probability =    20.0661. Improved by 3.04569.\n",
      "Iteration  3. Log joint probability =    20.1439. Improved by 0.0777411.\n",
      "Iteration  4. Log joint probability =    20.1884. Improved by 0.0445134.\n",
      "Iteration  5. Log joint probability =    20.2702. Improved by 0.081837.\n",
      "Iteration  6. Log joint probability =    20.2735. Improved by 0.00323318.\n",
      "Iteration  7. Log joint probability =    20.2807. Improved by 0.00724572.\n",
      "Iteration  8. Log joint probability =    20.2964. Improved by 0.0157024.\n",
      "Iteration  9. Log joint probability =     20.299. Improved by 0.00263414.\n",
      "Iteration 10. Log joint probability =    20.3018. Improved by 0.00271831.\n",
      "Iteration 11. Log joint probability =    20.3037. Improved by 0.00190525.\n",
      "Iteration 12. Log joint probability =    20.3039. Improved by 0.000224665.\n",
      "Iteration 13. Log joint probability =    20.3047. Improved by 0.000855943.\n",
      "Iteration 14. Log joint probability =    20.3054. Improved by 0.000694261.\n",
      "Iteration 15. Log joint probability =    20.3059. Improved by 0.000486986.\n",
      "Iteration 16. Log joint probability =    20.3061. Improved by 0.000145201.\n",
      "Iteration 17. Log joint probability =    20.3063. Improved by 0.000187866.\n",
      "Iteration 18. Log joint probability =    20.3063. Improved by 5.18006e-05.\n",
      "Iteration 19. Log joint probability =    20.3064. Improved by 8.89183e-05.\n",
      "Iteration 20. Log joint probability =    20.3065. Improved by 5.08423e-05.\n",
      "Iteration 21. Log joint probability =    20.3065. Improved by 4.56064e-05.\n",
      "Iteration 22. Log joint probability =    20.3065. Improved by 3.09065e-05.\n",
      "Iteration 23. Log joint probability =    20.3065. Improved by 8.16745e-06.\n",
      "Iteration 24. Log joint probability =    20.3066. Improved by 1.73588e-05.\n",
      "Iteration 25. Log joint probability =    20.3066. Improved by 5.45076e-06.\n",
      "Iteration 26. Log joint probability =    20.3066. Improved by 1.19912e-06.\n",
      "Iteration 27. Log joint probability =    20.3066. Improved by 3.86458e-06.\n",
      "Iteration 28. Log joint probability =    20.3066. Improved by 2.29472e-08.\n",
      "Iteration 29. Log joint probability =    20.3066. Improved by 1.541e-06.\n",
      "Iteration 30. Log joint probability =    20.3066. Improved by 1.05644e-06.\n",
      "Iteration 31. Log joint probability =    20.3066. Improved by 6.78906e-07.\n",
      "Iteration 32. Log joint probability =    20.3066. Improved by 5.34869e-07.\n",
      "Iteration 33. Log joint probability =    20.3066. Improved by 2.74036e-07.\n",
      "Iteration 34. Log joint probability =    20.3066. Improved by 1.27106e-07.\n",
      "Iteration 35. Log joint probability =    20.3066. Improved by 6.46671e-08.\n",
      "Iteration 36. Log joint probability =    20.3066. Improved by 3.44703e-09.\n"
     ]
    },
    {
     "name": "stderr",
     "output_type": "stream",
     "text": [
      "INFO:prophet:Disabling yearly seasonality. Run prophet with yearly_seasonality=True to override this.\n",
      "INFO:prophet:Disabling weekly seasonality. Run prophet with weekly_seasonality=True to override this.\n",
      "INFO:prophet:Disabling daily seasonality. Run prophet with daily_seasonality=True to override this.\n",
      "INFO:prophet:n_changepoints greater than number of observations. Using 18.\n"
     ]
    },
    {
     "name": "stdout",
     "output_type": "stream",
     "text": [
      "\n",
      "Initial log joint probability = 8.86229\n",
      "Iteration  1. Log joint probability =    10.7681. Improved by 1.90578.\n",
      "Iteration  2. Log joint probability =     15.081. Improved by 4.31291.\n",
      "Iteration  3. Log joint probability =    19.5181. Improved by 4.43717.\n",
      "Iteration  4. Log joint probability =    21.4053. Improved by 1.88714.\n",
      "Iteration  5. Log joint probability =    21.5029. Improved by 0.0976461.\n",
      "Iteration  6. Log joint probability =    21.5342. Improved by 0.0312274.\n",
      "Iteration  7. Log joint probability =    21.5458. Improved by 0.0116168.\n",
      "Iteration  8. Log joint probability =    21.5474. Improved by 0.00158799.\n",
      "Iteration  9. Log joint probability =    21.5828. Improved by 0.035426.\n",
      "Iteration 10. Log joint probability =    21.6408. Improved by 0.0579958.\n",
      "Iteration 11. Log joint probability =    21.8336. Improved by 0.192774.\n",
      "Iteration 12. Log joint probability =    21.8508. Improved by 0.0172666.\n",
      "Iteration 13. Log joint probability =     21.891. Improved by 0.0402217.\n",
      "Iteration 14. Log joint probability =    22.0029. Improved by 0.111881.\n",
      "Iteration 15. Log joint probability =    22.0888. Improved by 0.0858954.\n",
      "Iteration 16. Log joint probability =    22.1002. Improved by 0.0113693.\n",
      "Iteration 17. Log joint probability =    22.1345. Improved by 0.0342934.\n",
      "Iteration 18. Log joint probability =    22.1605. Improved by 0.0260452.\n",
      "Iteration 19. Log joint probability =    22.1774. Improved by 0.0168693.\n",
      "Iteration 20. Log joint probability =    22.1836. Improved by 0.00621987.\n",
      "Iteration 21. Log joint probability =    22.1849. Improved by 0.00128846.\n",
      "Iteration 22. Log joint probability =    22.1852. Improved by 0.000243301.\n",
      "Iteration 23. Log joint probability =    22.1891. Improved by 0.00395871.\n",
      "Iteration 24. Log joint probability =    22.1901. Improved by 0.000940269.\n",
      "Iteration 25. Log joint probability =    22.1922. Improved by 0.00215587.\n",
      "Iteration 26. Log joint probability =    22.1932. Improved by 0.00102541.\n",
      "Iteration 27. Log joint probability =    22.1936. Improved by 0.000403392.\n",
      "Iteration 28. Log joint probability =    22.1939. Improved by 0.000270167.\n",
      "Iteration 29. Log joint probability =     22.194. Improved by 0.000132501.\n",
      "Iteration 30. Log joint probability =    22.1941. Improved by 7.67464e-05.\n",
      "Iteration 31. Log joint probability =    22.1941. Improved by 2.67721e-05.\n",
      "Iteration 32. Log joint probability =    22.1942. Improved by 1.57381e-05.\n",
      "Iteration 33. Log joint probability =    22.1942. Improved by 5.12769e-06.\n",
      "Iteration 34. Log joint probability =    22.1942. Improved by 3.83489e-06.\n",
      "Iteration 35. Log joint probability =    22.1942. Improved by 1.0091e-06.\n",
      "Iteration 36. Log joint probability =    22.1942. Improved by 3.72316e-06.\n",
      "Iteration 37. Log joint probability =    22.1942. Improved by 1.14533e-06.\n",
      "Iteration 38. Log joint probability =    22.1942. Improved by 2.22671e-06.\n",
      "Iteration 39. Log joint probability =    22.1942. Improved by 6.42146e-07.\n",
      "Iteration 40. Log joint probability =    22.1942. Improved by 3.50064e-07.\n",
      "Iteration 41. Log joint probability =    22.1942. Improved by 4.97716e-07.\n",
      "Iteration 42. Log joint probability =    22.1942. Improved by 5.30125e-09.\n"
     ]
    },
    {
     "data": {
      "text/html": [
       "<div>\n",
       "<style scoped>\n",
       "    .dataframe tbody tr th:only-of-type {\n",
       "        vertical-align: middle;\n",
       "    }\n",
       "\n",
       "    .dataframe tbody tr th {\n",
       "        vertical-align: top;\n",
       "    }\n",
       "\n",
       "    .dataframe thead th {\n",
       "        text-align: right;\n",
       "    }\n",
       "</style>\n",
       "<table border=\"1\" class=\"dataframe\">\n",
       "  <thead>\n",
       "    <tr style=\"text-align: right;\">\n",
       "      <th></th>\n",
       "      <th>sales</th>\n",
       "    </tr>\n",
       "    <tr>\n",
       "      <th>ds</th>\n",
       "      <th></th>\n",
       "    </tr>\n",
       "  </thead>\n",
       "  <tbody>\n",
       "    <tr>\n",
       "      <th>2014-01-31</th>\n",
       "      <td>NaN</td>\n",
       "    </tr>\n",
       "    <tr>\n",
       "      <th>2014-02-28</th>\n",
       "      <td>1589.412182</td>\n",
       "    </tr>\n",
       "    <tr>\n",
       "      <th>2014-03-31</th>\n",
       "      <td>1675.306194</td>\n",
       "    </tr>\n",
       "    <tr>\n",
       "      <th>2014-04-30</th>\n",
       "      <td>1758.429432</td>\n",
       "    </tr>\n",
       "    <tr>\n",
       "      <th>2014-05-31</th>\n",
       "      <td>1844.323445</td>\n",
       "    </tr>\n",
       "  </tbody>\n",
       "</table>\n",
       "</div>"
      ],
      "text/plain": [
       "                  sales\n",
       "ds                     \n",
       "2014-01-31          NaN\n",
       "2014-02-28  1589.412182\n",
       "2014-03-31  1675.306194\n",
       "2014-04-30  1758.429432\n",
       "2014-05-31  1844.323445"
      ]
     },
     "execution_count": 37,
     "metadata": {},
     "output_type": "execute_result"
    }
   ],
   "source": [
    "# Here we are using the model module to create an ensemble model for us.\n",
    "# This will create Prophet models for each region and then combine the results.\n",
    "\n",
    "predictions = create_ensemble_predictions(\n",
    "    [store_east_train, store_west_train, store_central_train, store_south_train],\n",
    "    [store_east_validate, store_west_validate, store_central_validate, store_south_validate],\n",
    "    'sales',\n",
    "    prophet_model\n",
    ")\n",
    "predictions.head()"
   ]
  },
  {
   "cell_type": "code",
   "execution_count": 38,
   "id": "91ace06d-c546-4584-bea1-fb78f2525e5a",
   "metadata": {},
   "outputs": [
    {
     "data": {
      "text/html": [
       "<div>\n",
       "<style scoped>\n",
       "    .dataframe tbody tr th:only-of-type {\n",
       "        vertical-align: middle;\n",
       "    }\n",
       "\n",
       "    .dataframe tbody tr th {\n",
       "        vertical-align: top;\n",
       "    }\n",
       "\n",
       "    .dataframe thead th {\n",
       "        text-align: right;\n",
       "    }\n",
       "</style>\n",
       "<table border=\"1\" class=\"dataframe\">\n",
       "  <thead>\n",
       "    <tr style=\"text-align: right;\">\n",
       "      <th></th>\n",
       "      <th>model_type</th>\n",
       "      <th>target</th>\n",
       "      <th>rmse</th>\n",
       "    </tr>\n",
       "  </thead>\n",
       "  <tbody>\n",
       "    <tr>\n",
       "      <th>0</th>\n",
       "      <td>Simple Average</td>\n",
       "      <td>sales</td>\n",
       "      <td>2102.0</td>\n",
       "    </tr>\n",
       "    <tr>\n",
       "      <th>1</th>\n",
       "      <td>Holt</td>\n",
       "      <td>sales</td>\n",
       "      <td>3136.0</td>\n",
       "    </tr>\n",
       "    <tr>\n",
       "      <th>2</th>\n",
       "      <td>Prophet</td>\n",
       "      <td>sales</td>\n",
       "      <td>1623.0</td>\n",
       "    </tr>\n",
       "  </tbody>\n",
       "</table>\n",
       "</div>"
      ],
      "text/plain": [
       "       model_type target    rmse\n",
       "0  Simple Average  sales  2102.0\n",
       "1            Holt  sales  3136.0\n",
       "2         Prophet  sales  1623.0"
      ]
     },
     "execution_count": 38,
     "metadata": {},
     "output_type": "execute_result"
    }
   ],
   "source": [
    "region_eval_df = append_eval_df('Prophet', 'sales', superstore_validate, predictions.loc['2016'], region_eval_df)\n",
    "region_eval_df"
   ]
  },
  {
   "cell_type": "markdown",
   "id": "2779e9e4-3056-49b4-ad62-12e4cb0a67bd",
   "metadata": {},
   "source": [
    "### Previous Cycle\n",
    "\n",
    "Finally, let's do an ensemble previous cycle model."
   ]
  },
  {
   "cell_type": "code",
   "execution_count": 39,
   "id": "086024ff-046f-46f5-8f7c-108ea5b32ade",
   "metadata": {},
   "outputs": [
    {
     "data": {
      "text/html": [
       "<div>\n",
       "<style scoped>\n",
       "    .dataframe tbody tr th:only-of-type {\n",
       "        vertical-align: middle;\n",
       "    }\n",
       "\n",
       "    .dataframe tbody tr th {\n",
       "        vertical-align: top;\n",
       "    }\n",
       "\n",
       "    .dataframe thead th {\n",
       "        text-align: right;\n",
       "    }\n",
       "</style>\n",
       "<table border=\"1\" class=\"dataframe\">\n",
       "  <thead>\n",
       "    <tr style=\"text-align: right;\">\n",
       "      <th></th>\n",
       "      <th>sales</th>\n",
       "      <th>quantity</th>\n",
       "      <th>discount</th>\n",
       "      <th>profit</th>\n",
       "    </tr>\n",
       "    <tr>\n",
       "      <th>order_date</th>\n",
       "      <th></th>\n",
       "      <th></th>\n",
       "      <th></th>\n",
       "      <th></th>\n",
       "    </tr>\n",
       "  </thead>\n",
       "  <tbody>\n",
       "    <tr>\n",
       "      <th>2016-01-31</th>\n",
       "      <td>1170.122731</td>\n",
       "      <td>38.060606</td>\n",
       "      <td>2.704924</td>\n",
       "      <td>-521.42069</td>\n",
       "    </tr>\n",
       "    <tr>\n",
       "      <th>2016-02-29</th>\n",
       "      <td>558.478731</td>\n",
       "      <td>36.060606</td>\n",
       "      <td>1.604924</td>\n",
       "      <td>65.66441</td>\n",
       "    </tr>\n",
       "    <tr>\n",
       "      <th>2016-03-31</th>\n",
       "      <td>2644.688731</td>\n",
       "      <td>77.060606</td>\n",
       "      <td>4.204924</td>\n",
       "      <td>227.68831</td>\n",
       "    </tr>\n",
       "    <tr>\n",
       "      <th>2016-04-30</th>\n",
       "      <td>2046.982731</td>\n",
       "      <td>82.060606</td>\n",
       "      <td>4.604924</td>\n",
       "      <td>66.29431</td>\n",
       "    </tr>\n",
       "    <tr>\n",
       "      <th>2016-05-31</th>\n",
       "      <td>2084.691731</td>\n",
       "      <td>119.060606</td>\n",
       "      <td>6.104924</td>\n",
       "      <td>399.68321</td>\n",
       "    </tr>\n",
       "  </tbody>\n",
       "</table>\n",
       "</div>"
      ],
      "text/plain": [
       "                  sales    quantity  discount     profit\n",
       "order_date                                              \n",
       "2016-01-31  1170.122731   38.060606  2.704924 -521.42069\n",
       "2016-02-29   558.478731   36.060606  1.604924   65.66441\n",
       "2016-03-31  2644.688731   77.060606  4.204924  227.68831\n",
       "2016-04-30  2046.982731   82.060606  4.604924   66.29431\n",
       "2016-05-31  2084.691731  119.060606  6.104924  399.68321"
      ]
     },
     "execution_count": 39,
     "metadata": {},
     "output_type": "execute_result"
    }
   ],
   "source": [
    "# Here we are using the model module to create an ensemble model for us.\n",
    "# This will create previous cycle models for each region and then combine the results.\n",
    "\n",
    "predictions = create_ensemble_predictions(\n",
    "    [store_east_train, store_west_train, store_central_train, store_south_train],\n",
    "    [store_east_validate, store_west_validate, store_central_validate, store_south_validate],\n",
    "    'sales',\n",
    "    previous_cycle_model\n",
    ")\n",
    "predictions.head()"
   ]
  },
  {
   "cell_type": "code",
   "execution_count": 40,
   "id": "70de33c4-4a4c-4bb4-b958-88b3f73d3ed1",
   "metadata": {},
   "outputs": [
    {
     "data": {
      "text/html": [
       "<div>\n",
       "<style scoped>\n",
       "    .dataframe tbody tr th:only-of-type {\n",
       "        vertical-align: middle;\n",
       "    }\n",
       "\n",
       "    .dataframe tbody tr th {\n",
       "        vertical-align: top;\n",
       "    }\n",
       "\n",
       "    .dataframe thead th {\n",
       "        text-align: right;\n",
       "    }\n",
       "</style>\n",
       "<table border=\"1\" class=\"dataframe\">\n",
       "  <thead>\n",
       "    <tr style=\"text-align: right;\">\n",
       "      <th></th>\n",
       "      <th>model_type</th>\n",
       "      <th>target</th>\n",
       "      <th>rmse</th>\n",
       "    </tr>\n",
       "  </thead>\n",
       "  <tbody>\n",
       "    <tr>\n",
       "      <th>0</th>\n",
       "      <td>Simple Average</td>\n",
       "      <td>sales</td>\n",
       "      <td>2102.0</td>\n",
       "    </tr>\n",
       "    <tr>\n",
       "      <th>1</th>\n",
       "      <td>Holt</td>\n",
       "      <td>sales</td>\n",
       "      <td>3136.0</td>\n",
       "    </tr>\n",
       "    <tr>\n",
       "      <th>2</th>\n",
       "      <td>Prophet</td>\n",
       "      <td>sales</td>\n",
       "      <td>1623.0</td>\n",
       "    </tr>\n",
       "    <tr>\n",
       "      <th>3</th>\n",
       "      <td>Previous Cycle</td>\n",
       "      <td>sales</td>\n",
       "      <td>1946.0</td>\n",
       "    </tr>\n",
       "  </tbody>\n",
       "</table>\n",
       "</div>"
      ],
      "text/plain": [
       "       model_type target    rmse\n",
       "0  Simple Average  sales  2102.0\n",
       "1            Holt  sales  3136.0\n",
       "2         Prophet  sales  1623.0\n",
       "3  Previous Cycle  sales  1946.0"
      ]
     },
     "execution_count": 40,
     "metadata": {},
     "output_type": "execute_result"
    }
   ],
   "source": [
    "region_eval_df = append_eval_df('Previous Cycle', 'sales', superstore_validate, predictions, region_eval_df)\n",
    "region_eval_df"
   ]
  },
  {
   "cell_type": "markdown",
   "id": "c5636247-728c-4e6a-afe0-0174c3ddfeb1",
   "metadata": {},
   "source": [
    "### Results\n",
    "\n",
    "We still get the most accurate forecast from the simple average model. I wonder if we may get a more accurate forecast by resampling by month or quarter instead.\n",
    "\n",
    "---\n",
    "\n",
    "## Ensemble Model: A Model Per Product Category\n",
    "\n",
    "The last modeling strategy we'll try is building ensemble models separating by category.\n",
    "\n",
    "### Simple Average\n",
    "\n",
    "First the simple average model."
   ]
  },
  {
   "cell_type": "code",
   "execution_count": 41,
   "id": "46a363e8-7920-4ea3-ac32-8cbaa8db7b00",
   "metadata": {},
   "outputs": [
    {
     "data": {
      "text/html": [
       "<div>\n",
       "<style scoped>\n",
       "    .dataframe tbody tr th:only-of-type {\n",
       "        vertical-align: middle;\n",
       "    }\n",
       "\n",
       "    .dataframe tbody tr th {\n",
       "        vertical-align: top;\n",
       "    }\n",
       "\n",
       "    .dataframe thead th {\n",
       "        text-align: right;\n",
       "    }\n",
       "</style>\n",
       "<table border=\"1\" class=\"dataframe\">\n",
       "  <thead>\n",
       "    <tr style=\"text-align: right;\">\n",
       "      <th></th>\n",
       "      <th>sales</th>\n",
       "    </tr>\n",
       "    <tr>\n",
       "      <th>order_date</th>\n",
       "      <th></th>\n",
       "    </tr>\n",
       "  </thead>\n",
       "  <tbody>\n",
       "    <tr>\n",
       "      <th>2016-01-31</th>\n",
       "      <td>2443.891083</td>\n",
       "    </tr>\n",
       "    <tr>\n",
       "      <th>2016-02-29</th>\n",
       "      <td>2443.891083</td>\n",
       "    </tr>\n",
       "    <tr>\n",
       "      <th>2016-03-31</th>\n",
       "      <td>2443.891083</td>\n",
       "    </tr>\n",
       "    <tr>\n",
       "      <th>2016-04-30</th>\n",
       "      <td>2443.891083</td>\n",
       "    </tr>\n",
       "    <tr>\n",
       "      <th>2016-05-31</th>\n",
       "      <td>2443.891083</td>\n",
       "    </tr>\n",
       "  </tbody>\n",
       "</table>\n",
       "</div>"
      ],
      "text/plain": [
       "                  sales\n",
       "order_date             \n",
       "2016-01-31  2443.891083\n",
       "2016-02-29  2443.891083\n",
       "2016-03-31  2443.891083\n",
       "2016-04-30  2443.891083\n",
       "2016-05-31  2443.891083"
      ]
     },
     "execution_count": 41,
     "metadata": {},
     "output_type": "execute_result"
    }
   ],
   "source": [
    "# Here we are using the model module to create an ensemble model for us.\n",
    "# This will create simple average models for each product category and then combine the results.\n",
    "\n",
    "predictions = create_ensemble_predictions(\n",
    "    [office_supplies_train, furniture_train, technology_train],\n",
    "    [office_supplies_validate, furniture_validate, technology_validate],\n",
    "    'sales',\n",
    "    simple_average_model\n",
    ")\n",
    "predictions.head()"
   ]
  },
  {
   "cell_type": "code",
   "execution_count": 42,
   "id": "15dea040-86fd-4f01-a17a-85faaeeb8229",
   "metadata": {},
   "outputs": [
    {
     "data": {
      "text/html": [
       "<div>\n",
       "<style scoped>\n",
       "    .dataframe tbody tr th:only-of-type {\n",
       "        vertical-align: middle;\n",
       "    }\n",
       "\n",
       "    .dataframe tbody tr th {\n",
       "        vertical-align: top;\n",
       "    }\n",
       "\n",
       "    .dataframe thead th {\n",
       "        text-align: right;\n",
       "    }\n",
       "</style>\n",
       "<table border=\"1\" class=\"dataframe\">\n",
       "  <thead>\n",
       "    <tr style=\"text-align: right;\">\n",
       "      <th></th>\n",
       "      <th>model_type</th>\n",
       "      <th>target</th>\n",
       "      <th>rmse</th>\n",
       "    </tr>\n",
       "  </thead>\n",
       "  <tbody>\n",
       "    <tr>\n",
       "      <th>0</th>\n",
       "      <td>Simple Average</td>\n",
       "      <td>sales</td>\n",
       "      <td>2127.0</td>\n",
       "    </tr>\n",
       "  </tbody>\n",
       "</table>\n",
       "</div>"
      ],
      "text/plain": [
       "       model_type target    rmse\n",
       "0  Simple Average  sales  2127.0"
      ]
     },
     "execution_count": 42,
     "metadata": {},
     "output_type": "execute_result"
    }
   ],
   "source": [
    "region_eval_df = append_eval_df('Simple Average', 'sales', superstore_validate, predictions)\n",
    "region_eval_df"
   ]
  },
  {
   "cell_type": "markdown",
   "id": "2cfd5a7b-8600-4e08-a60d-8e5a6b831614",
   "metadata": {},
   "source": [
    "### Holt's Linear Trend\n",
    "\n",
    "Next, an ensemble Holt's linear trend model."
   ]
  },
  {
   "cell_type": "code",
   "execution_count": 43,
   "id": "3ef33d36-deda-43e7-9a3b-b18d1ec3ccfe",
   "metadata": {},
   "outputs": [
    {
     "name": "stderr",
     "output_type": "stream",
     "text": [
      "/usr/local/anaconda3/lib/python3.9/site-packages/statsmodels/tsa/holtwinters/model.py:427: FutureWarning: After 0.13 initialization must be handled at model creation\n",
      "  warnings.warn(\n",
      "/usr/local/anaconda3/lib/python3.9/site-packages/statsmodels/tsa/base/tsa_model.py:132: FutureWarning: The 'freq' argument in Timestamp is deprecated and will be removed in a future version.\n",
      "  date_key = Timestamp(key, freq=base_index.freq)\n"
     ]
    },
    {
     "data": {
      "text/html": [
       "<div>\n",
       "<style scoped>\n",
       "    .dataframe tbody tr th:only-of-type {\n",
       "        vertical-align: middle;\n",
       "    }\n",
       "\n",
       "    .dataframe tbody tr th {\n",
       "        vertical-align: top;\n",
       "    }\n",
       "\n",
       "    .dataframe thead th {\n",
       "        text-align: right;\n",
       "    }\n",
       "</style>\n",
       "<table border=\"1\" class=\"dataframe\">\n",
       "  <thead>\n",
       "    <tr style=\"text-align: right;\">\n",
       "      <th></th>\n",
       "      <th>sales</th>\n",
       "    </tr>\n",
       "  </thead>\n",
       "  <tbody>\n",
       "    <tr>\n",
       "      <th>2016-01-31</th>\n",
       "      <td>5884.958233</td>\n",
       "    </tr>\n",
       "    <tr>\n",
       "      <th>2016-02-29</th>\n",
       "      <td>6415.490247</td>\n",
       "    </tr>\n",
       "    <tr>\n",
       "      <th>2016-03-31</th>\n",
       "      <td>6939.195054</td>\n",
       "    </tr>\n",
       "    <tr>\n",
       "      <th>2016-04-30</th>\n",
       "      <td>7456.245423</td>\n",
       "    </tr>\n",
       "    <tr>\n",
       "      <th>2016-05-31</th>\n",
       "      <td>7966.805796</td>\n",
       "    </tr>\n",
       "  </tbody>\n",
       "</table>\n",
       "</div>"
      ],
      "text/plain": [
       "                  sales\n",
       "2016-01-31  5884.958233\n",
       "2016-02-29  6415.490247\n",
       "2016-03-31  6939.195054\n",
       "2016-04-30  7456.245423\n",
       "2016-05-31  7966.805796"
      ]
     },
     "execution_count": 43,
     "metadata": {},
     "output_type": "execute_result"
    }
   ],
   "source": [
    "# Here we are using the model module to create an ensemble model for us.\n",
    "# This will create Holt's linear trend models for each product category and then combine the results.\n",
    "\n",
    "predictions = create_ensemble_predictions(\n",
    "    [office_supplies_train, furniture_train, technology_train],\n",
    "    [office_supplies_validate, furniture_validate, technology_validate],\n",
    "    'sales',\n",
    "    holt_model\n",
    ")\n",
    "predictions.head()"
   ]
  },
  {
   "cell_type": "code",
   "execution_count": 44,
   "id": "1c7f5c32-5444-450d-9e57-76e33da41268",
   "metadata": {},
   "outputs": [
    {
     "data": {
      "text/html": [
       "<div>\n",
       "<style scoped>\n",
       "    .dataframe tbody tr th:only-of-type {\n",
       "        vertical-align: middle;\n",
       "    }\n",
       "\n",
       "    .dataframe tbody tr th {\n",
       "        vertical-align: top;\n",
       "    }\n",
       "\n",
       "    .dataframe thead th {\n",
       "        text-align: right;\n",
       "    }\n",
       "</style>\n",
       "<table border=\"1\" class=\"dataframe\">\n",
       "  <thead>\n",
       "    <tr style=\"text-align: right;\">\n",
       "      <th></th>\n",
       "      <th>model_type</th>\n",
       "      <th>target</th>\n",
       "      <th>rmse</th>\n",
       "    </tr>\n",
       "  </thead>\n",
       "  <tbody>\n",
       "    <tr>\n",
       "      <th>0</th>\n",
       "      <td>Simple Average</td>\n",
       "      <td>sales</td>\n",
       "      <td>2127.0</td>\n",
       "    </tr>\n",
       "    <tr>\n",
       "      <th>1</th>\n",
       "      <td>Holt</td>\n",
       "      <td>sales</td>\n",
       "      <td>5293.0</td>\n",
       "    </tr>\n",
       "  </tbody>\n",
       "</table>\n",
       "</div>"
      ],
      "text/plain": [
       "       model_type target    rmse\n",
       "0  Simple Average  sales  2127.0\n",
       "1            Holt  sales  5293.0"
      ]
     },
     "execution_count": 44,
     "metadata": {},
     "output_type": "execute_result"
    }
   ],
   "source": [
    "region_eval_df = append_eval_df('Holt', 'sales', superstore_validate, predictions, region_eval_df)\n",
    "region_eval_df"
   ]
  },
  {
   "cell_type": "markdown",
   "id": "384c93d8-ac8f-4584-b1e6-635fc9185663",
   "metadata": {},
   "source": [
    "### FB Prophet\n",
    "\n",
    "Next, an ensemble Prophet model."
   ]
  },
  {
   "cell_type": "code",
   "execution_count": 45,
   "id": "e00aa26b-9c3e-4d39-930a-af393c770a16",
   "metadata": {},
   "outputs": [
    {
     "name": "stderr",
     "output_type": "stream",
     "text": [
      "INFO:prophet:Disabling yearly seasonality. Run prophet with yearly_seasonality=True to override this.\n",
      "INFO:prophet:Disabling weekly seasonality. Run prophet with weekly_seasonality=True to override this.\n",
      "INFO:prophet:Disabling daily seasonality. Run prophet with daily_seasonality=True to override this.\n",
      "INFO:prophet:n_changepoints greater than number of observations. Using 18.\n"
     ]
    },
    {
     "name": "stdout",
     "output_type": "stream",
     "text": [
      "\n",
      "Initial log joint probability = 9.48139\n",
      "Iteration  1. Log joint probability =    5.52878. Improved by -3.9526.\n",
      "Iteration  2. Log joint probability =      8.256. Improved by 2.72722.\n",
      "Iteration  3. Log joint probability =    15.0646. Improved by 6.80858.\n",
      "Iteration  4. Log joint probability =    15.1031. Improved by 0.0385607.\n",
      "Iteration  5. Log joint probability =    15.1936. Improved by 0.0904729.\n",
      "Iteration  6. Log joint probability =    21.0434. Improved by 5.84981.\n",
      "Iteration  7. Log joint probability =    21.1259. Improved by 0.0825094.\n",
      "Iteration  8. Log joint probability =    21.2825. Improved by 0.156566.\n",
      "Iteration  9. Log joint probability =    21.5077. Improved by 0.225225.\n",
      "Iteration 10. Log joint probability =    21.5525. Improved by 0.0447685.\n",
      "Iteration 11. Log joint probability =    21.6129. Improved by 0.0604164.\n",
      "Iteration 12. Log joint probability =    21.8856. Improved by 0.272731.\n",
      "Iteration 13. Log joint probability =    22.1527. Improved by 0.26706.\n",
      "Iteration 14. Log joint probability =    22.1612. Improved by 0.00847777.\n",
      "Iteration 15. Log joint probability =    22.2009. Improved by 0.0397282.\n",
      "Iteration 16. Log joint probability =    22.2143. Improved by 0.013367.\n",
      "Iteration 17. Log joint probability =    22.2757. Improved by 0.0614005.\n",
      "Iteration 18. Log joint probability =    22.2762. Improved by 0.000483695.\n",
      "Iteration 19. Log joint probability =    22.3458. Improved by 0.0696141.\n",
      "Iteration 20. Log joint probability =    22.4411. Improved by 0.0953088.\n",
      "Iteration 21. Log joint probability =    22.4474. Improved by 0.00635821.\n",
      "Iteration 22. Log joint probability =    22.4776. Improved by 0.0301376.\n",
      "Iteration 23. Log joint probability =    22.4825. Improved by 0.00497201.\n",
      "Iteration 24. Log joint probability =    22.4873. Improved by 0.00476807.\n",
      "Iteration 25. Log joint probability =    22.5236. Improved by 0.0362466.\n",
      "Iteration 26. Log joint probability =    22.5367. Improved by 0.0130953.\n",
      "Iteration 27. Log joint probability =    22.5407. Improved by 0.00404432.\n",
      "Iteration 28. Log joint probability =    22.5485. Improved by 0.00776996.\n",
      "Iteration 29. Log joint probability =    22.5515. Improved by 0.00300506.\n",
      "Iteration 30. Log joint probability =    22.5525. Improved by 0.00102322.\n",
      "Iteration 31. Log joint probability =    22.5546. Improved by 0.0021226.\n",
      "Iteration 32. Log joint probability =    22.5554. Improved by 0.000795733.\n",
      "Iteration 33. Log joint probability =    22.5557. Improved by 0.000331617.\n",
      "Iteration 34. Log joint probability =    22.5562. Improved by 0.000430442.\n",
      "Iteration 35. Log joint probability =    22.5565. Improved by 0.000321724.\n",
      "Iteration 36. Log joint probability =    22.5566. Improved by 5.80868e-05.\n",
      "Iteration 37. Log joint probability =    22.5566. Improved by 5.24541e-05.\n",
      "Iteration 38. Log joint probability =    22.5567. Improved by 4.25905e-05.\n",
      "Iteration 39. Log joint probability =    22.5567. Improved by 3.49008e-05.\n",
      "Iteration 40. Log joint probability =    22.5567. Improved by 1.35234e-05.\n",
      "Iteration 41. Log joint probability =    22.5567. Improved by 1.2918e-05.\n",
      "Iteration 42. Log joint probability =    22.5567. Improved by 1.5909e-05.\n",
      "Iteration 43. Log joint probability =    22.5567. Improved by 6.41884e-06.\n",
      "Iteration 44. Log joint probability =    22.5567. Improved by 3.26765e-06.\n",
      "Iteration 45. Log joint probability =    22.5567. Improved by 4.32255e-06.\n",
      "Iteration 46. Log joint probability =    22.5567. Improved by 1.62074e-06.\n",
      "Iteration 47. Log joint probability =    22.5567. Improved by 8.27305e-07.\n",
      "Iteration 48. Log joint probability =    22.5567. Improved by 2.98542e-07.\n",
      "Iteration 49. Log joint probability =    22.5567. Improved by 4.99717e-08.\n",
      "Iteration 50. Log joint probability =    22.5567. Improved by 2.10142e-07.\n",
      "Iteration 51. Log joint probability =    22.5567. Improved by 3.37236e-07.\n",
      "Iteration 52. Log joint probability =    22.5567. Improved by 3.42881e-07.\n",
      "Iteration 53. Log joint probability =    22.5567. Improved by 9.00165e-08.\n",
      "Iteration 54. Log joint probability =    22.5567. Improved by 1.04229e-07.\n",
      "Iteration 55. Log joint probability =    22.5567. Improved by 9.79125e-08.\n",
      "Iteration 56. Log joint probability =    22.5567. Improved by 1.97547e-08.\n",
      "Iteration 57. Log joint probability =    22.5567. Improved by 1.46138e-09.\n"
     ]
    },
    {
     "name": "stderr",
     "output_type": "stream",
     "text": [
      "INFO:prophet:Disabling yearly seasonality. Run prophet with yearly_seasonality=True to override this.\n",
      "INFO:prophet:Disabling weekly seasonality. Run prophet with weekly_seasonality=True to override this.\n",
      "INFO:prophet:Disabling daily seasonality. Run prophet with daily_seasonality=True to override this.\n",
      "INFO:prophet:n_changepoints greater than number of observations. Using 18.\n"
     ]
    },
    {
     "name": "stdout",
     "output_type": "stream",
     "text": [
      "\n",
      "Initial log joint probability = 10.355\n",
      "Iteration  1. Log joint probability =    11.0121. Improved by 0.657152.\n",
      "Iteration  2. Log joint probability =    20.0808. Improved by 9.06872.\n",
      "Iteration  3. Log joint probability =    22.2488. Improved by 2.16798.\n",
      "Iteration  4. Log joint probability =    22.5738. Improved by 0.325031.\n",
      "Iteration  5. Log joint probability =    22.8151. Improved by 0.241244.\n",
      "Iteration  6. Log joint probability =    22.8719. Improved by 0.0567755.\n",
      "Iteration  7. Log joint probability =    22.9655. Improved by 0.0936795.\n",
      "Iteration  8. Log joint probability =    22.9675. Improved by 0.00197847.\n",
      "Iteration  9. Log joint probability =    23.0178. Improved by 0.0502662.\n",
      "Iteration 10. Log joint probability =    23.0584. Improved by 0.0405977.\n",
      "Iteration 11. Log joint probability =     23.076. Improved by 0.0176479.\n",
      "Iteration 12. Log joint probability =    23.0859. Improved by 0.00983138.\n",
      "Iteration 13. Log joint probability =    23.0894. Improved by 0.00354606.\n",
      "Iteration 14. Log joint probability =    23.0969. Improved by 0.00746584.\n",
      "Iteration 15. Log joint probability =    23.1014. Improved by 0.00453711.\n",
      "Iteration 16. Log joint probability =    23.1039. Improved by 0.0024508.\n",
      "Iteration 17. Log joint probability =    23.1049. Improved by 0.00102412.\n",
      "Iteration 18. Log joint probability =    23.1054. Improved by 0.00051082.\n",
      "Iteration 19. Log joint probability =    23.1057. Improved by 0.000298353.\n",
      "Iteration 20. Log joint probability =    23.1058. Improved by 7.60163e-05.\n",
      "Iteration 21. Log joint probability =    23.1058. Improved by 5.70351e-05.\n",
      "Iteration 22. Log joint probability =    23.1059. Improved by 4.97187e-05.\n",
      "Iteration 23. Log joint probability =    23.1059. Improved by 5.85833e-06.\n",
      "Iteration 24. Log joint probability =    23.1059. Improved by 3.06858e-05.\n",
      "Iteration 25. Log joint probability =    23.1059. Improved by 2.87446e-06.\n",
      "Iteration 26. Log joint probability =    23.1059. Improved by 1.76349e-05.\n",
      "Iteration 27. Log joint probability =    23.1059. Improved by 8.08649e-06.\n",
      "Iteration 28. Log joint probability =    23.1059. Improved by 4.48832e-07.\n",
      "Iteration 29. Log joint probability =    23.1059. Improved by 3.53906e-06.\n",
      "Iteration 30. Log joint probability =    23.1059. Improved by 1.2123e-06.\n",
      "Iteration 31. Log joint probability =    23.1059. Improved by 1.25198e-06.\n",
      "Iteration 32. Log joint probability =     23.106. Improved by 7.78476e-07.\n",
      "Iteration 33. Log joint probability =     23.106. Improved by 5.34577e-07.\n",
      "Iteration 34. Log joint probability =     23.106. Improved by 3.0799e-07.\n",
      "Iteration 35. Log joint probability =     23.106. Improved by 5.06929e-07.\n",
      "Iteration 36. Log joint probability =     23.106. Improved by 2.74727e-07.\n",
      "Iteration 37. Log joint probability =     23.106. Improved by 1.00445e-07.\n",
      "Iteration 38. Log joint probability =     23.106. Improved by 7.32968e-08.\n",
      "Iteration 39. Log joint probability =     23.106. Improved by 2.62108e-08.\n",
      "Iteration 40. Log joint probability =     23.106. Improved by 9.16929e-09.\n"
     ]
    },
    {
     "name": "stderr",
     "output_type": "stream",
     "text": [
      "INFO:prophet:Disabling yearly seasonality. Run prophet with yearly_seasonality=True to override this.\n",
      "INFO:prophet:Disabling weekly seasonality. Run prophet with weekly_seasonality=True to override this.\n",
      "INFO:prophet:Disabling daily seasonality. Run prophet with daily_seasonality=True to override this.\n",
      "INFO:prophet:n_changepoints greater than number of observations. Using 18.\n"
     ]
    },
    {
     "name": "stdout",
     "output_type": "stream",
     "text": [
      "\n",
      "Initial log joint probability = 9.3333\n",
      "Iteration  1. Log joint probability =    7.74664. Improved by -1.58666.\n",
      "Iteration  2. Log joint probability =    17.7482. Improved by 10.0015.\n",
      "Iteration  3. Log joint probability =    19.0838. Improved by 1.33566.\n",
      "Iteration  4. Log joint probability =    19.5868. Improved by 0.502905.\n",
      "Iteration  5. Log joint probability =    19.6181. Improved by 0.0313452.\n",
      "Iteration  6. Log joint probability =    19.6366. Improved by 0.0185219.\n",
      "Iteration  7. Log joint probability =    19.6422. Improved by 0.00558896.\n",
      "Iteration  8. Log joint probability =     19.677. Improved by 0.0348235.\n",
      "Iteration  9. Log joint probability =    19.6944. Improved by 0.0173931.\n",
      "Iteration 10. Log joint probability =    19.7052. Improved by 0.0107414.\n",
      "Iteration 11. Log joint probability =    19.7339. Improved by 0.0287127.\n",
      "Iteration 12. Log joint probability =    19.8086. Improved by 0.0747069.\n",
      "Iteration 13. Log joint probability =    19.8229. Improved by 0.0143533.\n",
      "Iteration 14. Log joint probability =    19.8953. Improved by 0.0724005.\n",
      "Iteration 15. Log joint probability =    19.9505. Improved by 0.0551859.\n",
      "Iteration 16. Log joint probability =    19.9984. Improved by 0.0478755.\n",
      "Iteration 17. Log joint probability =    20.0396. Improved by 0.041173.\n",
      "Iteration 18. Log joint probability =    20.3491. Improved by 0.309535.\n",
      "Iteration 19. Log joint probability =    20.3656. Improved by 0.0164998.\n",
      "Iteration 20. Log joint probability =    20.4201. Improved by 0.0544922.\n",
      "Iteration 21. Log joint probability =     20.495. Improved by 0.0749197.\n",
      "Iteration 22. Log joint probability =    20.4993. Improved by 0.0043253.\n",
      "Iteration 23. Log joint probability =     20.514. Improved by 0.0147018.\n",
      "Iteration 24. Log joint probability =    20.5267. Improved by 0.0126931.\n",
      "Iteration 25. Log joint probability =    20.5302. Improved by 0.00342463.\n",
      "Iteration 26. Log joint probability =    20.5376. Improved by 0.0074749.\n",
      "Iteration 27. Log joint probability =    20.5419. Improved by 0.0042499.\n",
      "Iteration 28. Log joint probability =    20.5424. Improved by 0.000478839.\n",
      "Iteration 29. Log joint probability =    20.5445. Improved by 0.00216322.\n",
      "Iteration 30. Log joint probability =    20.5456. Improved by 0.00102259.\n",
      "Iteration 31. Log joint probability =    20.5457. Improved by 0.000150289.\n",
      "Iteration 32. Log joint probability =    20.5459. Improved by 0.000148574.\n",
      "Iteration 33. Log joint probability =    20.5463. Improved by 0.000407647.\n",
      "Iteration 34. Log joint probability =    20.5464. Improved by 0.000151552.\n",
      "Iteration 35. Log joint probability =    20.5466. Improved by 0.000220872.\n",
      "Iteration 36. Log joint probability =    20.5467. Improved by 0.000115277.\n",
      "Iteration 37. Log joint probability =    20.5468. Improved by 8.6285e-05.\n",
      "Iteration 38. Log joint probability =    20.5469. Improved by 2.03259e-05.\n",
      "Iteration 39. Log joint probability =    20.5469. Improved by 5.03774e-06.\n",
      "Iteration 40. Log joint probability =    20.5469. Improved by 1.56013e-05.\n",
      "Iteration 41. Log joint probability =    20.5469. Improved by 1.15001e-06.\n",
      "Iteration 42. Log joint probability =    20.5469. Improved by 7.01192e-06.\n",
      "Iteration 43. Log joint probability =    20.5469. Improved by 3.06078e-06.\n",
      "Iteration 44. Log joint probability =    20.5469. Improved by 2.73384e-06.\n",
      "Iteration 45. Log joint probability =    20.5469. Improved by 3.84711e-07.\n",
      "Iteration 46. Log joint probability =    20.5469. Improved by 2.12167e-06.\n",
      "Iteration 47. Log joint probability =    20.5469. Improved by 9.16817e-07.\n",
      "Iteration 48. Log joint probability =    20.5469. Improved by 1.56564e-07.\n",
      "Iteration 49. Log joint probability =    20.5469. Improved by 5.07827e-07.\n",
      "Iteration 50. Log joint probability =    20.5469. Improved by 1.37603e-08.\n",
      "Iteration 51. Log joint probability =    20.5469. Improved by 2.8312e-07.\n",
      "Iteration 52. Log joint probability =    20.5469. Improved by 1.39689e-07.\n",
      "Iteration 53. Log joint probability =    20.5469. Improved by 4.2522e-08.\n",
      "Iteration 54. Log joint probability =    20.5469. Improved by 1.01292e-08.\n",
      "Iteration 55. Log joint probability =    20.5469. Improved by 3.82177e-09.\n"
     ]
    },
    {
     "data": {
      "text/html": [
       "<div>\n",
       "<style scoped>\n",
       "    .dataframe tbody tr th:only-of-type {\n",
       "        vertical-align: middle;\n",
       "    }\n",
       "\n",
       "    .dataframe tbody tr th {\n",
       "        vertical-align: top;\n",
       "    }\n",
       "\n",
       "    .dataframe thead th {\n",
       "        text-align: right;\n",
       "    }\n",
       "</style>\n",
       "<table border=\"1\" class=\"dataframe\">\n",
       "  <thead>\n",
       "    <tr style=\"text-align: right;\">\n",
       "      <th></th>\n",
       "      <th>sales</th>\n",
       "    </tr>\n",
       "    <tr>\n",
       "      <th>ds</th>\n",
       "      <th></th>\n",
       "    </tr>\n",
       "  </thead>\n",
       "  <tbody>\n",
       "    <tr>\n",
       "      <th>2014-01-31</th>\n",
       "      <td>1385.845992</td>\n",
       "    </tr>\n",
       "    <tr>\n",
       "      <th>2014-02-28</th>\n",
       "      <td>1470.734973</td>\n",
       "    </tr>\n",
       "    <tr>\n",
       "      <th>2014-03-31</th>\n",
       "      <td>1564.719202</td>\n",
       "    </tr>\n",
       "    <tr>\n",
       "      <th>2014-04-30</th>\n",
       "      <td>1655.671682</td>\n",
       "    </tr>\n",
       "    <tr>\n",
       "      <th>2014-05-31</th>\n",
       "      <td>1749.655911</td>\n",
       "    </tr>\n",
       "  </tbody>\n",
       "</table>\n",
       "</div>"
      ],
      "text/plain": [
       "                  sales\n",
       "ds                     \n",
       "2014-01-31  1385.845992\n",
       "2014-02-28  1470.734973\n",
       "2014-03-31  1564.719202\n",
       "2014-04-30  1655.671682\n",
       "2014-05-31  1749.655911"
      ]
     },
     "execution_count": 45,
     "metadata": {},
     "output_type": "execute_result"
    }
   ],
   "source": [
    "# Here we are using the model module to create an ensemble model for us.\n",
    "# This will create Prophet models for each product category and then combine the results.\n",
    "\n",
    "predictions = create_ensemble_predictions(\n",
    "    [office_supplies_train, furniture_train, technology_train],\n",
    "    [office_supplies_validate, furniture_validate, technology_validate],\n",
    "    'sales',\n",
    "    prophet_model\n",
    ")\n",
    "predictions.head()"
   ]
  },
  {
   "cell_type": "code",
   "execution_count": 46,
   "id": "1716bebf-1783-4215-844a-0bac177b21bb",
   "metadata": {},
   "outputs": [
    {
     "data": {
      "text/html": [
       "<div>\n",
       "<style scoped>\n",
       "    .dataframe tbody tr th:only-of-type {\n",
       "        vertical-align: middle;\n",
       "    }\n",
       "\n",
       "    .dataframe tbody tr th {\n",
       "        vertical-align: top;\n",
       "    }\n",
       "\n",
       "    .dataframe thead th {\n",
       "        text-align: right;\n",
       "    }\n",
       "</style>\n",
       "<table border=\"1\" class=\"dataframe\">\n",
       "  <thead>\n",
       "    <tr style=\"text-align: right;\">\n",
       "      <th></th>\n",
       "      <th>model_type</th>\n",
       "      <th>target</th>\n",
       "      <th>rmse</th>\n",
       "    </tr>\n",
       "  </thead>\n",
       "  <tbody>\n",
       "    <tr>\n",
       "      <th>0</th>\n",
       "      <td>Simple Average</td>\n",
       "      <td>sales</td>\n",
       "      <td>2127.0</td>\n",
       "    </tr>\n",
       "    <tr>\n",
       "      <th>1</th>\n",
       "      <td>Holt</td>\n",
       "      <td>sales</td>\n",
       "      <td>5293.0</td>\n",
       "    </tr>\n",
       "    <tr>\n",
       "      <th>2</th>\n",
       "      <td>Prophet</td>\n",
       "      <td>sales</td>\n",
       "      <td>1635.0</td>\n",
       "    </tr>\n",
       "  </tbody>\n",
       "</table>\n",
       "</div>"
      ],
      "text/plain": [
       "       model_type target    rmse\n",
       "0  Simple Average  sales  2127.0\n",
       "1            Holt  sales  5293.0\n",
       "2         Prophet  sales  1635.0"
      ]
     },
     "execution_count": 46,
     "metadata": {},
     "output_type": "execute_result"
    }
   ],
   "source": [
    "region_eval_df = append_eval_df('Prophet', 'sales', superstore_validate, predictions.loc['2016'], region_eval_df)\n",
    "region_eval_df"
   ]
  },
  {
   "cell_type": "markdown",
   "id": "b4bb4808-acd3-460b-878a-7d81a24957ec",
   "metadata": {},
   "source": [
    "### Previous Cycle\n",
    "\n",
    "Lastly, an ensemble previous cycle model."
   ]
  },
  {
   "cell_type": "code",
   "execution_count": 47,
   "id": "6336403b-1ac0-4c6b-aae9-a1887100d9a7",
   "metadata": {},
   "outputs": [
    {
     "data": {
      "text/html": [
       "<div>\n",
       "<style scoped>\n",
       "    .dataframe tbody tr th:only-of-type {\n",
       "        vertical-align: middle;\n",
       "    }\n",
       "\n",
       "    .dataframe tbody tr th {\n",
       "        vertical-align: top;\n",
       "    }\n",
       "\n",
       "    .dataframe thead th {\n",
       "        text-align: right;\n",
       "    }\n",
       "</style>\n",
       "<table border=\"1\" class=\"dataframe\">\n",
       "  <thead>\n",
       "    <tr style=\"text-align: right;\">\n",
       "      <th></th>\n",
       "      <th>sales</th>\n",
       "      <th>quantity</th>\n",
       "      <th>discount</th>\n",
       "      <th>profit</th>\n",
       "    </tr>\n",
       "    <tr>\n",
       "      <th>order_date</th>\n",
       "      <th></th>\n",
       "      <th></th>\n",
       "      <th></th>\n",
       "      <th></th>\n",
       "    </tr>\n",
       "  </thead>\n",
       "  <tbody>\n",
       "    <tr>\n",
       "      <th>2016-01-31</th>\n",
       "      <td>1195.52425</td>\n",
       "      <td>38.166667</td>\n",
       "      <td>2.7</td>\n",
       "      <td>-520.466808</td>\n",
       "    </tr>\n",
       "    <tr>\n",
       "      <th>2016-02-29</th>\n",
       "      <td>583.88025</td>\n",
       "      <td>36.166667</td>\n",
       "      <td>1.6</td>\n",
       "      <td>66.618292</td>\n",
       "    </tr>\n",
       "    <tr>\n",
       "      <th>2016-03-31</th>\n",
       "      <td>2670.09025</td>\n",
       "      <td>77.166667</td>\n",
       "      <td>4.2</td>\n",
       "      <td>228.642192</td>\n",
       "    </tr>\n",
       "    <tr>\n",
       "      <th>2016-04-30</th>\n",
       "      <td>2072.38425</td>\n",
       "      <td>82.166667</td>\n",
       "      <td>4.6</td>\n",
       "      <td>67.248192</td>\n",
       "    </tr>\n",
       "    <tr>\n",
       "      <th>2016-05-31</th>\n",
       "      <td>2110.09325</td>\n",
       "      <td>119.166667</td>\n",
       "      <td>6.1</td>\n",
       "      <td>400.637092</td>\n",
       "    </tr>\n",
       "  </tbody>\n",
       "</table>\n",
       "</div>"
      ],
      "text/plain": [
       "                 sales    quantity  discount      profit\n",
       "order_date                                              \n",
       "2016-01-31  1195.52425   38.166667       2.7 -520.466808\n",
       "2016-02-29   583.88025   36.166667       1.6   66.618292\n",
       "2016-03-31  2670.09025   77.166667       4.2  228.642192\n",
       "2016-04-30  2072.38425   82.166667       4.6   67.248192\n",
       "2016-05-31  2110.09325  119.166667       6.1  400.637092"
      ]
     },
     "execution_count": 47,
     "metadata": {},
     "output_type": "execute_result"
    }
   ],
   "source": [
    "# Here we are using the model module to create an ensemble model for us.\n",
    "# This will create previous cycle models for each product category and then combine the results.\n",
    "\n",
    "predictions = create_ensemble_predictions(\n",
    "    [office_supplies_train, furniture_train, technology_train],\n",
    "    [office_supplies_validate, furniture_validate, technology_validate],\n",
    "    'sales',\n",
    "    previous_cycle_model\n",
    ")\n",
    "predictions.head()"
   ]
  },
  {
   "cell_type": "code",
   "execution_count": 48,
   "id": "39904dfe-08c7-4b6d-933d-92dfb64b99f4",
   "metadata": {},
   "outputs": [
    {
     "data": {
      "text/html": [
       "<div>\n",
       "<style scoped>\n",
       "    .dataframe tbody tr th:only-of-type {\n",
       "        vertical-align: middle;\n",
       "    }\n",
       "\n",
       "    .dataframe tbody tr th {\n",
       "        vertical-align: top;\n",
       "    }\n",
       "\n",
       "    .dataframe thead th {\n",
       "        text-align: right;\n",
       "    }\n",
       "</style>\n",
       "<table border=\"1\" class=\"dataframe\">\n",
       "  <thead>\n",
       "    <tr style=\"text-align: right;\">\n",
       "      <th></th>\n",
       "      <th>model_type</th>\n",
       "      <th>target</th>\n",
       "      <th>rmse</th>\n",
       "    </tr>\n",
       "  </thead>\n",
       "  <tbody>\n",
       "    <tr>\n",
       "      <th>0</th>\n",
       "      <td>Simple Average</td>\n",
       "      <td>sales</td>\n",
       "      <td>2127.0</td>\n",
       "    </tr>\n",
       "    <tr>\n",
       "      <th>1</th>\n",
       "      <td>Holt</td>\n",
       "      <td>sales</td>\n",
       "      <td>5293.0</td>\n",
       "    </tr>\n",
       "    <tr>\n",
       "      <th>2</th>\n",
       "      <td>Prophet</td>\n",
       "      <td>sales</td>\n",
       "      <td>1635.0</td>\n",
       "    </tr>\n",
       "    <tr>\n",
       "      <th>3</th>\n",
       "      <td>Previous Cycle</td>\n",
       "      <td>sales</td>\n",
       "      <td>1933.0</td>\n",
       "    </tr>\n",
       "  </tbody>\n",
       "</table>\n",
       "</div>"
      ],
      "text/plain": [
       "       model_type target    rmse\n",
       "0  Simple Average  sales  2127.0\n",
       "1            Holt  sales  5293.0\n",
       "2         Prophet  sales  1635.0\n",
       "3  Previous Cycle  sales  1933.0"
      ]
     },
     "execution_count": 48,
     "metadata": {},
     "output_type": "execute_result"
    }
   ],
   "source": [
    "region_eval_df = append_eval_df('Previous Cycle', 'sales', superstore_validate, predictions, region_eval_df)\n",
    "region_eval_df"
   ]
  },
  {
   "cell_type": "markdown",
   "id": "1a9f3293-a507-4eef-a335-6763f6fcca13",
   "metadata": {},
   "source": [
    "### Results\n",
    "\n",
    "It looks like the results are the same across the board whether we split by region, category, or forecast total sales."
   ]
  },
  {
   "cell_type": "markdown",
   "id": "c6435b6d-c99b-42d7-bb13-a18eab9e80db",
   "metadata": {},
   "source": [
    "## Conclusion\n",
    "\n",
    "Not all the markdown and comments are going to match the code results. Many iterations of the models were executed. Some with resamples of weeks, months, and quarters, others with the same resamplings but outliers removed.\n",
    "\n",
    "The model that had the most accurate forecast was the Prophet model and the difference between the total sales forecast and ensemble models wasn't significant.\n",
    "\n",
    "Below we'll produce the forecast for 2018 using Prophet."
   ]
  },
  {
   "cell_type": "code",
   "execution_count": 52,
   "id": "5b2ae315-09ca-4c3c-8d02-6537df23fba4",
   "metadata": {},
   "outputs": [
    {
     "name": "stderr",
     "output_type": "stream",
     "text": [
      "INFO:prophet:Disabling yearly seasonality. Run prophet with yearly_seasonality=True to override this.\n",
      "INFO:prophet:Disabling weekly seasonality. Run prophet with weekly_seasonality=True to override this.\n",
      "INFO:prophet:Disabling daily seasonality. Run prophet with daily_seasonality=True to override this.\n",
      "INFO:prophet:n_changepoints greater than number of observations. Using 18.\n"
     ]
    },
    {
     "name": "stdout",
     "output_type": "stream",
     "text": [
      "\n",
      "Initial log joint probability = 9.81923\n",
      "Iteration  1. Log joint probability =    11.0159. Improved by 1.19663.\n",
      "Iteration  2. Log joint probability =     22.774. Improved by 11.7581.\n",
      "Iteration  3. Log joint probability =    23.8362. Improved by 1.06227.\n",
      "Iteration  4. Log joint probability =     24.738. Improved by 0.901727.\n",
      "Iteration  5. Log joint probability =    24.9185. Improved by 0.180513.\n",
      "Iteration  6. Log joint probability =    25.1585. Improved by 0.24.\n",
      "Iteration  7. Log joint probability =    25.1656. Improved by 0.00716836.\n",
      "Iteration  8. Log joint probability =    25.2283. Improved by 0.0626667.\n",
      "Iteration  9. Log joint probability =    25.2387. Improved by 0.010366.\n",
      "Iteration 10. Log joint probability =     25.246. Improved by 0.00732951.\n",
      "Iteration 11. Log joint probability =    25.2509. Improved by 0.00490465.\n",
      "Iteration 12. Log joint probability =    25.2598. Improved by 0.00891596.\n",
      "Iteration 13. Log joint probability =    25.2615. Improved by 0.00166215.\n",
      "Iteration 14. Log joint probability =    25.2641. Improved by 0.002656.\n",
      "Iteration 15. Log joint probability =    25.2649. Improved by 0.000763474.\n",
      "Iteration 16. Log joint probability =    25.2654. Improved by 0.000453184.\n",
      "Iteration 17. Log joint probability =    25.2662. Improved by 0.000896922.\n",
      "Iteration 18. Log joint probability =    25.2666. Improved by 0.000400303.\n",
      "Iteration 19. Log joint probability =    25.2669. Improved by 0.000268986.\n",
      "Iteration 20. Log joint probability =    25.2671. Improved by 0.000141239.\n",
      "Iteration 21. Log joint probability =    25.2672. Improved by 0.000152038.\n",
      "Iteration 22. Log joint probability =    25.2673. Improved by 9.07318e-05.\n",
      "Iteration 23. Log joint probability =    25.2674. Improved by 6.57897e-05.\n",
      "Iteration 24. Log joint probability =    25.2674. Improved by 2.91599e-05.\n",
      "Iteration 25. Log joint probability =    25.2674. Improved by 1.18978e-06.\n",
      "Iteration 26. Log joint probability =    25.2674. Improved by 1.92329e-05.\n",
      "Iteration 27. Log joint probability =    25.2674. Improved by 5.92755e-06.\n",
      "Iteration 28. Log joint probability =    25.2674. Improved by 1.66145e-06.\n",
      "Iteration 29. Log joint probability =    25.2674. Improved by 3.98731e-06.\n",
      "Iteration 30. Log joint probability =    25.2674. Improved by 1.4019e-06.\n",
      "Iteration 31. Log joint probability =    25.2674. Improved by 1.14891e-06.\n",
      "Iteration 32. Log joint probability =    25.2674. Improved by 3.38585e-07.\n",
      "Iteration 33. Log joint probability =    25.2674. Improved by 3.14705e-07.\n",
      "Iteration 34. Log joint probability =    25.2674. Improved by 2.82928e-07.\n",
      "Iteration 35. Log joint probability =    25.2674. Improved by 2.15043e-07.\n",
      "Iteration 36. Log joint probability =    25.2674. Improved by 1.56333e-07.\n",
      "Iteration 37. Log joint probability =    25.2674. Improved by 1.39987e-07.\n",
      "Iteration 38. Log joint probability =    25.2674. Improved by 7.02569e-08.\n",
      "Iteration 39. Log joint probability =    25.2674. Improved by 3.41642e-08.\n",
      "Iteration 40. Log joint probability =    25.2674. Improved by 1.4811e-08.\n",
      "Iteration 41. Log joint probability =    25.2674. Improved by 2.47318e-09.\n"
     ]
    }
   ],
   "source": [
    "predictions = prophet_model('sales', superstore_train, None, period = 365 * 3)"
   ]
  },
  {
   "cell_type": "code",
   "execution_count": 54,
   "id": "90c76d9b-27f4-4865-bf16-cab0d2a1aea1",
   "metadata": {},
   "outputs": [
    {
     "data": {
      "image/png": "[encoded data removed]",
      "text/plain": [
       "<Figure size 864x288 with 1 Axes>"
      ]
     },
     "metadata": {
      "needs_background": "light"
     },
     "output_type": "display_data"
    }
   ],
   "source": [
    "plot_forecast('sales', superstore.resample('M').sum(), predictions.loc['2018'])"
   ]
  },
  {
   "cell_type": "markdown",
   "id": "21149cc9-baf1-4be6-8d02-14271b51cf87",
   "metadata": {},
   "source": [
    "This model had an error of 1636 on unseen data."
   ]
  },
  {
   "cell_type": "code",
   "execution_count": 55,
   "id": "98605632-7c7c-43b1-ad21-e5ef26497418",
   "metadata": {},
   "outputs": [
    {
     "name": "stderr",
     "output_type": "stream",
     "text": [
      "INFO:prophet:Disabling yearly seasonality. Run prophet with yearly_seasonality=True to override this.\n",
      "INFO:prophet:Disabling weekly seasonality. Run prophet with weekly_seasonality=True to override this.\n",
      "INFO:prophet:Disabling daily seasonality. Run prophet with daily_seasonality=True to override this.\n",
      "INFO:prophet:n_changepoints greater than number of observations. Using 18.\n"
     ]
    },
    {
     "name": "stdout",
     "output_type": "stream",
     "text": [
      "\n",
      "Initial log joint probability = 9.38263\n",
      "Iteration  1. Log joint probability =    9.84176. Improved by 0.459132.\n",
      "Iteration  2. Log joint probability =    10.4928. Improved by 0.65107.\n",
      "Iteration  3. Log joint probability =    10.6146. Improved by 0.121807.\n",
      "Iteration  4. Log joint probability =    10.6338. Improved by 0.0191752.\n",
      "Iteration  5. Log joint probability =    10.9743. Improved by 0.340485.\n",
      "Iteration  6. Log joint probability =    10.9886. Improved by 0.0143064.\n",
      "Iteration  7. Log joint probability =    10.9989. Improved by 0.0102536.\n",
      "Iteration  8. Log joint probability =    11.0101. Improved by 0.0112045.\n",
      "Iteration  9. Log joint probability =     11.012. Improved by 0.00190564.\n",
      "Iteration 10. Log joint probability =    11.0162. Improved by 0.00426566.\n",
      "Iteration 11. Log joint probability =    11.0185. Improved by 0.00222003.\n",
      "Iteration 12. Log joint probability =    11.0193. Improved by 0.00086403.\n",
      "Iteration 13. Log joint probability =    11.0214. Improved by 0.00205317.\n",
      "Iteration 14. Log joint probability =    11.0222. Improved by 0.00086711.\n",
      "Iteration 15. Log joint probability =    11.0225. Improved by 0.000239136.\n",
      "Iteration 16. Log joint probability =    11.0229. Improved by 0.000463758.\n",
      "Iteration 17. Log joint probability =    11.0229. Improved by 1.55333e-06.\n",
      "Iteration 18. Log joint probability =    11.0229. Improved by 5.24045e-08.\n",
      "Iteration 19. Log joint probability =     11.023. Improved by 1.50125e-05.\n",
      "Iteration 20. Log joint probability =    11.0232. Improved by 0.000272359.\n",
      "Iteration 21. Log joint probability =    11.0232. Improved by 1.77053e-05.\n",
      "Iteration 22. Log joint probability =    11.0233. Improved by 6.57387e-06.\n",
      "Iteration 23. Log joint probability =    11.0234. Improved by 0.000132966.\n",
      "Iteration 24. Log joint probability =    11.0234. Improved by 9.81353e-06.\n",
      "Iteration 25. Log joint probability =    11.0235. Improved by 6.94689e-05.\n",
      "Iteration 26. Log joint probability =    11.0235. Improved by 3.86369e-05.\n",
      "Iteration 27. Log joint probability =    11.0235. Improved by 9.51744e-06.\n",
      "Iteration 28. Log joint probability =    11.0235. Improved by 5.10038e-06.\n",
      "Iteration 29. Log joint probability =    11.0235. Improved by 8.53975e-06.\n",
      "Iteration 30. Log joint probability =    11.0235. Improved by 4.0541e-06.\n",
      "Iteration 31. Log joint probability =    11.0235. Improved by 2.56695e-06.\n",
      "Iteration 32. Log joint probability =    11.0235. Improved by 1.90122e-07.\n",
      "Iteration 33. Log joint probability =    11.0235. Improved by 2.52913e-07.\n",
      "Iteration 34. Log joint probability =    11.0235. Improved by 5.52475e-07.\n",
      "Iteration 35. Log joint probability =    11.0235. Improved by 2.53358e-07.\n",
      "Iteration 36. Log joint probability =    11.0235. Improved by 8.89655e-08.\n",
      "Iteration 37. Log joint probability =    11.0235. Improved by 7.27903e-08.\n",
      "Iteration 38. Log joint probability =    11.0235. Improved by 2.28288e-08.\n",
      "Iteration 39. Log joint probability =    11.0235. Improved by 9.84001e-09.\n"
     ]
    }
   ],
   "source": [
    "predictions = prophet_model('profit', superstore_train, None, period = 365 * 3)"
   ]
  },
  {
   "cell_type": "code",
   "execution_count": 56,
   "id": "92c2a253-fde3-4638-88d0-8992899bb904",
   "metadata": {},
   "outputs": [
    {
     "data": {
      "image/png": "[encoded data removed]",
      "text/plain": [
       "<Figure size 864x288 with 1 Axes>"
      ]
     },
     "metadata": {
      "needs_background": "light"
     },
     "output_type": "display_data"
    }
   ],
   "source": [
    "plot_forecast('profit', superstore.resample('M').sum(), predictions.loc['2018'])"
   ]
  },
  {
   "cell_type": "markdown",
   "id": "c99a6f0a-6e75-4495-8f5a-53c53c70ba67",
   "metadata": {},
   "source": [
    "The forecast for profit is also growth in 2018."
   ]
  }
 ],
 "metadata": {
  "kernelspec": {
   "display_name": "Python 3 (ipykernel)",
   "language": "python",
   "name": "python3"
  },
  "language_info": {
   "codemirror_mode": {
    "name": "ipython",
    "version": 3
   },
   "file_extension": ".py",
   "mimetype": "text/x-python",
   "name": "python",
   "nbconvert_exporter": "python",
   "pygments_lexer": "ipython3",
   "version": "3.9.7"
  }
 },
 "nbformat": 4,
 "nbformat_minor": 5
}
